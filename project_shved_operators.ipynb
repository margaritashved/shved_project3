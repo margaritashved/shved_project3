{
 "cells": [
  {
   "cell_type": "markdown",
   "metadata": {
    "toc": true
   },
   "source": [
    "<h1>Содержание<span class=\"tocSkip\"></span></h1>\n",
    "<div class=\"toc\"><ul class=\"toc-item\"><li><span><a href=\"#Предобработка-данных\" data-toc-modified-id=\"Предобработка-данных-1\"><span class=\"toc-item-num\">1&nbsp;&nbsp;</span>Предобработка данных</a></span><ul class=\"toc-item\"><li><span><a href=\"#Обработка-пропущенных-значений\" data-toc-modified-id=\"Обработка-пропущенных-значений-1.1\"><span class=\"toc-item-num\">1.1&nbsp;&nbsp;</span>Обработка пропущенных значений</a></span></li><li><span><a href=\"#Наличие-дубликатов\" data-toc-modified-id=\"Наличие-дубликатов-1.2\"><span class=\"toc-item-num\">1.2&nbsp;&nbsp;</span>Наличие дубликатов</a></span></li><li><span><a href=\"#Соответствие-типов-данных-(преобразование)\" data-toc-modified-id=\"Соответствие-типов-данных-(преобразование)-1.3\"><span class=\"toc-item-num\">1.3&nbsp;&nbsp;</span>Соответствие типов данных (преобразование)</a></span></li></ul></li><li><span><a href=\"#Исследовательский-анализ-данных\" data-toc-modified-id=\"Исследовательский-анализ-данных-2\"><span class=\"toc-item-num\">2&nbsp;&nbsp;</span>Исследовательский анализ данных</a></span><ul class=\"toc-item\"><li><span><a href=\"#Определить-специализацию-колл-центра\" data-toc-modified-id=\"Определить-специализацию-колл-центра-2.1\"><span class=\"toc-item-num\">2.1&nbsp;&nbsp;</span>Определить специализацию колл-центра</a></span></li><li><span><a href=\"#Добавить-тарифный-план\" data-toc-modified-id=\"Добавить-тарифный-план-2.2\"><span class=\"toc-item-num\">2.2&nbsp;&nbsp;</span>Добавить тарифный план</a></span></li><li><span><a href=\"#Количество-звонков-(внешних-и-внутрненних)-и-операторов-в-колл-центрах\" data-toc-modified-id=\"Количество-звонков-(внешних-и-внутрненних)-и-операторов-в-колл-центрах-2.3\"><span class=\"toc-item-num\">2.3&nbsp;&nbsp;</span>Количество звонков (внешних и внутрненних) и операторов в колл-центрах</a></span></li><li><span><a href=\"#Количество-звонков-(внешних-и-внутрненних)\" data-toc-modified-id=\"Количество-звонков-(внешних-и-внутрненних)-2.4\"><span class=\"toc-item-num\">2.4&nbsp;&nbsp;</span>Количество звонков (внешних и внутрненних)</a></span></li><li><span><a href=\"#Анализ-цикличной-нагрузки-на-операторов,-пиковые-дни-работы-операторов\" data-toc-modified-id=\"Анализ-цикличной-нагрузки-на-операторов,-пиковые-дни-работы-операторов-2.5\"><span class=\"toc-item-num\">2.5&nbsp;&nbsp;</span>Анализ цикличной нагрузки на операторов, пиковые дни работы операторов</a></span><ul class=\"toc-item\"><li><span><a href=\"#Колл-центры,-которые-специализируются-на-исходящих-вызовах\" data-toc-modified-id=\"Колл-центры,-которые-специализируются-на-исходящих-вызовах-2.5.1\"><span class=\"toc-item-num\">2.5.1&nbsp;&nbsp;</span>Колл-центры, которые специализируются на исходящих вызовах</a></span></li><li><span><a href=\"#Колл-центры,-которые-специализируются-на-входящих-вызовах\" data-toc-modified-id=\"Колл-центры,-которые-специализируются-на-входящих-вызовах-2.5.2\"><span class=\"toc-item-num\">2.5.2&nbsp;&nbsp;</span>Колл-центры, которые специализируются на входящих вызовах</a></span></li></ul></li><li><span><a href=\"#Исходящие-пропущенные-вызовы-для-колл-центров,-которые-специализируются-на-исходящих-вызовах\" data-toc-modified-id=\"Исходящие-пропущенные-вызовы-для-колл-центров,-которые-специализируются-на-исходящих-вызовах-2.6\"><span class=\"toc-item-num\">2.6&nbsp;&nbsp;</span>Исходящие пропущенные вызовы для колл-центров, которые специализируются на исходящих вызовах</a></span></li><li><span><a href=\"#Пропущенные-входящие-вызововы-для-колл-центров,-которые-специализируются-на-обработке-входящих-звонков-(внешние)\" data-toc-modified-id=\"Пропущенные-входящие-вызововы-для-колл-центров,-которые-специализируются-на-обработке-входящих-звонков-(внешние)-2.7\"><span class=\"toc-item-num\">2.7&nbsp;&nbsp;</span>Пропущенные входящие вызововы для колл-центров, которые специализируются на обработке входящих звонков (внешние)</a></span></li><li><span><a href=\"#Длительность-звонков-(без-учета-времени-ожидания/с-учетом-времени-ожидания)\" data-toc-modified-id=\"Длительность-звонков-(без-учета-времени-ожидания/с-учетом-времени-ожидания)-2.8\"><span class=\"toc-item-num\">2.8&nbsp;&nbsp;</span>Длительность звонков (без учета времени ожидания/с учетом времени ожидания)</a></span></li><li><span><a href=\"#Расчет-средних-показателей-для-алгоритма-определения-неэффективных-операторов\" data-toc-modified-id=\"Расчет-средних-показателей-для-алгоритма-определения-неэффективных-операторов-2.9\"><span class=\"toc-item-num\">2.9&nbsp;&nbsp;</span>Расчет средних показателей для алгоритма определения неэффективных операторов</a></span><ul class=\"toc-item\"><li><span><a href=\"#Среднее-количество-исходящих-вызовов-на-одного-оператора-в-день\" data-toc-modified-id=\"Среднее-количество-исходящих-вызовов-на-одного-оператора-в-день-2.9.1\"><span class=\"toc-item-num\">2.9.1&nbsp;&nbsp;</span>Среднее количество исходящих вызовов на одного оператора в день</a></span></li><li><span><a href=\"#Доля-пропущенных-вызовов-на-одного-оператора-в-день\" data-toc-modified-id=\"Доля-пропущенных-вызовов-на-одного-оператора-в-день-2.9.2\"><span class=\"toc-item-num\">2.9.2&nbsp;&nbsp;</span>Доля пропущенных вызовов на одного оператора в день</a></span></li><li><span><a href=\"#Среднее-время-ожидания-ответа-при-внешнем-входящем-вызове\" data-toc-modified-id=\"Среднее-время-ожидания-ответа-при-внешнем-входящем-вызове-2.9.3\"><span class=\"toc-item-num\">2.9.3&nbsp;&nbsp;</span>Среднее время ожидания ответа при внешнем входящем вызове</a></span></li></ul></li></ul></li><li><span><a href=\"#Неэффективные-операторы\" data-toc-modified-id=\"Неэффективные-операторы-3\"><span class=\"toc-item-num\">3&nbsp;&nbsp;</span>Неэффективные операторы</a></span><ul class=\"toc-item\"><li><span><a href=\"#Вывод\" data-toc-modified-id=\"Вывод-3.1\"><span class=\"toc-item-num\">3.1&nbsp;&nbsp;</span>Вывод</a></span></li></ul></li><li><span><a href=\"#Проверка-статистических-гипотез\" data-toc-modified-id=\"Проверка-статистических-гипотез-4\"><span class=\"toc-item-num\">4&nbsp;&nbsp;</span>Проверка статистических гипотез</a></span><ul class=\"toc-item\"><li><span><a href=\"#Первая-проверка\" data-toc-modified-id=\"Первая-проверка-4.1\"><span class=\"toc-item-num\">4.1&nbsp;&nbsp;</span>Первая проверка</a></span></li><li><span><a href=\"#Вторая-проверка\" data-toc-modified-id=\"Вторая-проверка-4.2\"><span class=\"toc-item-num\">4.2&nbsp;&nbsp;</span>Вторая проверка</a></span></li></ul></li></ul></div>"
   ]
  },
  {
   "cell_type": "markdown",
   "metadata": {},
   "source": [
    "# Телеком — Определение неэффективных операторов"
   ]
  },
  {
   "cell_type": "markdown",
   "metadata": {},
   "source": [
    "Необходимо найти самых неэффективных операторов. \n",
    "\n",
    "Признаки низкой эффективности:\n",
    "\n",
    "- много пропущенных входящих вызовов,\n",
    "- долгое ожидания ответа при входящих внешних вызовах,\n",
    "- мало исходящих вывозов — в случае тех колл-центров, что специализируются на обзвонах, а не обработке входящих звонков."
   ]
  },
  {
   "cell_type": "markdown",
   "metadata": {},
   "source": [
    "# Материалы\n",
    "* [Дашборд] https://public.tableau.com/views/Dashboard_calls_ShvedM_A_/sheet6?:language=en-US&publish=yes&:display_count=n&:origin=viz_share_link"
   ]
  },
  {
   "cell_type": "markdown",
   "metadata": {},
   "source": [
    "## Предобработка данных"
   ]
  },
  {
   "cell_type": "code",
   "execution_count": 1,
   "metadata": {},
   "outputs": [],
   "source": [
    "import pandas as pd\n",
    "import numpy as np\n",
    "import matplotlib.pyplot as plt\n",
    "import plotly.express as px\n",
    "import seaborn as sns\n",
    "from datetime import datetime\n",
    "from scipy import stats as st\n",
    "from plotly import graph_objects as go\n",
    "pd.options.display.float_format = '{:,.2f}'.format\n",
    "import warnings\n",
    "from statsmodels.graphics.gofplots import qqplot\n",
    "from matplotlib import pyplot\n",
    "import statistics\n",
    "\n",
    "warnings.simplefilter('ignore') "
   ]
  },
  {
   "cell_type": "code",
   "execution_count": 2,
   "metadata": {},
   "outputs": [],
   "source": [
    "#Загрузка датасетов\n",
    "telecom_dataset = pd.read_csv('/datasets/telecom_dataset.csv')\n",
    "telecom_clients = pd.read_csv('/datasets/telecom_clients.csv')"
   ]
  },
  {
   "cell_type": "markdown",
   "metadata": {},
   "source": [
    "### Обработка пропущенных значений"
   ]
  },
  {
   "cell_type": "code",
   "execution_count": 3,
   "metadata": {},
   "outputs": [
    {
     "name": "stdout",
     "output_type": "stream",
     "text": [
      "<class 'pandas.core.frame.DataFrame'>\n",
      "RangeIndex: 732 entries, 0 to 731\n",
      "Data columns (total 3 columns):\n",
      "user_id        732 non-null int64\n",
      "tariff_plan    732 non-null object\n",
      "date_start     732 non-null object\n",
      "dtypes: int64(1), object(2)\n",
      "memory usage: 17.3+ KB\n"
     ]
    }
   ],
   "source": [
    "telecom_clients.info()"
   ]
  },
  {
   "cell_type": "markdown",
   "metadata": {},
   "source": [
    "В датасете telecom_clients данные чистые, далее проверю наличие дубликатов."
   ]
  },
  {
   "cell_type": "code",
   "execution_count": 4,
   "metadata": {},
   "outputs": [
    {
     "name": "stdout",
     "output_type": "stream",
     "text": [
      "<class 'pandas.core.frame.DataFrame'>\n",
      "RangeIndex: 53902 entries, 0 to 53901\n",
      "Data columns (total 9 columns):\n",
      "user_id                53902 non-null int64\n",
      "date                   53902 non-null object\n",
      "direction              53902 non-null object\n",
      "internal               53785 non-null object\n",
      "operator_id            45730 non-null float64\n",
      "is_missed_call         53902 non-null bool\n",
      "calls_count            53902 non-null int64\n",
      "call_duration          53902 non-null int64\n",
      "total_call_duration    53902 non-null int64\n",
      "dtypes: bool(1), float64(1), int64(4), object(3)\n",
      "memory usage: 3.3+ MB\n"
     ]
    }
   ],
   "source": [
    "telecom_dataset.info()"
   ]
  },
  {
   "cell_type": "markdown",
   "metadata": {},
   "source": [
    "В столбце operator_id есть пропущенные значения, в связи с тем, что без оператора мы не сможем учесть значения в остальных столбцах, то пустые необходимо удалить."
   ]
  },
  {
   "cell_type": "code",
   "execution_count": 5,
   "metadata": {},
   "outputs": [
    {
     "data": {
      "text/plain": [
       "1092"
      ]
     },
     "execution_count": 5,
     "metadata": {},
     "output_type": "execute_result"
    }
   ],
   "source": [
    "#Количество операторов во всех колл-центрах\n",
    "telecom_dataset['operator_id'].nunique()"
   ]
  },
  {
   "cell_type": "code",
   "execution_count": 6,
   "metadata": {},
   "outputs": [],
   "source": [
    "#Удаление строк с пустыми значениями\n",
    "telecom_dataset = telecom_dataset.dropna()"
   ]
  },
  {
   "cell_type": "code",
   "execution_count": 7,
   "metadata": {},
   "outputs": [
    {
     "name": "stdout",
     "output_type": "stream",
     "text": [
      "<class 'pandas.core.frame.DataFrame'>\n",
      "Int64Index: 45670 entries, 1 to 53900\n",
      "Data columns (total 9 columns):\n",
      "user_id                45670 non-null int64\n",
      "date                   45670 non-null object\n",
      "direction              45670 non-null object\n",
      "internal               45670 non-null object\n",
      "operator_id            45670 non-null float64\n",
      "is_missed_call         45670 non-null bool\n",
      "calls_count            45670 non-null int64\n",
      "call_duration          45670 non-null int64\n",
      "total_call_duration    45670 non-null int64\n",
      "dtypes: bool(1), float64(1), int64(4), object(3)\n",
      "memory usage: 3.2+ MB\n"
     ]
    }
   ],
   "source": [
    "#Проверка\n",
    "telecom_dataset.info()"
   ]
  },
  {
   "cell_type": "code",
   "execution_count": 8,
   "metadata": {},
   "outputs": [
    {
     "data": {
      "text/plain": [
       "1092"
      ]
     },
     "execution_count": 8,
     "metadata": {},
     "output_type": "execute_result"
    }
   ],
   "source": [
    "telecom_dataset['operator_id'].nunique()\n",
    "#После удаления количество операторов не изменилось"
   ]
  },
  {
   "cell_type": "markdown",
   "metadata": {},
   "source": [
    "### Наличие дубликатов"
   ]
  },
  {
   "cell_type": "code",
   "execution_count": 9,
   "metadata": {},
   "outputs": [
    {
     "name": "stdout",
     "output_type": "stream",
     "text": [
      "Количество дубликатов telecom_dataset: 4179\n",
      "Количество дубликатов telecom_clients: 0\n"
     ]
    }
   ],
   "source": [
    "print('Количество дубликатов telecom_dataset:', telecom_dataset.duplicated().sum())\n",
    "print('Количество дубликатов telecom_clients:', telecom_clients.duplicated().sum())"
   ]
  },
  {
   "cell_type": "code",
   "execution_count": 10,
   "metadata": {},
   "outputs": [],
   "source": [
    "#Удаление дубликатов\n",
    "telecom_dataset = telecom_dataset.drop_duplicates()"
   ]
  },
  {
   "cell_type": "markdown",
   "metadata": {},
   "source": [
    "### Соответствие типов данных (преобразование)"
   ]
  },
  {
   "cell_type": "code",
   "execution_count": 11,
   "metadata": {},
   "outputs": [],
   "source": [
    "#Замены типа данных float64 на int64\n",
    "telecom_dataset['operator_id'] = telecom_dataset['operator_id'].astype(np.int64)"
   ]
  },
  {
   "cell_type": "code",
   "execution_count": 12,
   "metadata": {},
   "outputs": [],
   "source": [
    "telecom_dataset['date'] = pd.to_datetime(telecom_dataset['date'], format = '%Y-%m-%d')"
   ]
  },
  {
   "cell_type": "code",
   "execution_count": 13,
   "metadata": {},
   "outputs": [],
   "source": [
    "#Добавляю наименование дня\n",
    "telecom_dataset['day_name'] = telecom_dataset['date'].dt.day_name()\n",
    "#Добавляю наименование месяца\n",
    "telecom_dataset['month_name'] = telecom_dataset['date'].dt.month_name()"
   ]
  },
  {
   "cell_type": "markdown",
   "metadata": {},
   "source": [
    "## Исследовательский анализ данных"
   ]
  },
  {
   "cell_type": "markdown",
   "metadata": {},
   "source": [
    "### Определить специализацию колл-центра"
   ]
  },
  {
   "cell_type": "markdown",
   "metadata": {},
   "source": [
    "Для того, чтобы определить специализацию колл-центра (входящие или исходящие вызовы) посчитаю долю исходящих вызовов от общего количества вызовов."
   ]
  },
  {
   "cell_type": "code",
   "execution_count": 14,
   "metadata": {},
   "outputs": [],
   "source": [
    "#Количество исходящих вызовов\n",
    "df_out = telecom_dataset.query('direction == \"out\"').groupby('user_id')['direction'].count().sort_values(ascending=False).reset_index()"
   ]
  },
  {
   "cell_type": "code",
   "execution_count": 15,
   "metadata": {},
   "outputs": [],
   "source": [
    "#Общее количество вызовов\n",
    "df_all = telecom_dataset.groupby('user_id')['direction'].count().sort_values(ascending=False).reset_index()"
   ]
  },
  {
   "cell_type": "code",
   "execution_count": 16,
   "metadata": {},
   "outputs": [],
   "source": [
    "#Соединяю два сгруппированных датафрейма\n",
    "merge_out_all = df_out.merge(df_all, on = 'user_id', how='right')\n",
    "merge_out_all = merge_out_all.rename(columns={'direction_x': 'out', 'direction_y': 'all'}) \n",
    "#Считаю долю исходящих вызовов\n",
    "merge_out_all['%_out']=(merge_out_all['out'] / merge_out_all['all'])*100\n",
    "#NaN заменяю на 0, значит, что нет исходящих вызовов\n",
    "merge_out_all = merge_out_all.fillna(0)"
   ]
  },
  {
   "cell_type": "code",
   "execution_count": 17,
   "metadata": {},
   "outputs": [
    {
     "data": {
      "text/html": [
       "<div>\n",
       "<style scoped>\n",
       "    .dataframe tbody tr th:only-of-type {\n",
       "        vertical-align: middle;\n",
       "    }\n",
       "\n",
       "    .dataframe tbody tr th {\n",
       "        vertical-align: top;\n",
       "    }\n",
       "\n",
       "    .dataframe thead th {\n",
       "        text-align: right;\n",
       "    }\n",
       "</style>\n",
       "<table border=\"1\" class=\"dataframe\">\n",
       "  <thead>\n",
       "    <tr style=\"text-align: right;\">\n",
       "      <th></th>\n",
       "      <th>user_id</th>\n",
       "      <th>out</th>\n",
       "      <th>all</th>\n",
       "      <th>%_out</th>\n",
       "    </tr>\n",
       "  </thead>\n",
       "  <tbody>\n",
       "    <tr>\n",
       "      <td>0</td>\n",
       "      <td>166658</td>\n",
       "      <td>1,546.00</td>\n",
       "      <td>1779</td>\n",
       "      <td>86.90</td>\n",
       "    </tr>\n",
       "    <tr>\n",
       "      <td>1</td>\n",
       "      <td>168187</td>\n",
       "      <td>1,283.00</td>\n",
       "      <td>2267</td>\n",
       "      <td>56.59</td>\n",
       "    </tr>\n",
       "    <tr>\n",
       "      <td>2</td>\n",
       "      <td>168361</td>\n",
       "      <td>1,097.00</td>\n",
       "      <td>1097</td>\n",
       "      <td>100.00</td>\n",
       "    </tr>\n",
       "    <tr>\n",
       "      <td>3</td>\n",
       "      <td>167626</td>\n",
       "      <td>1,077.00</td>\n",
       "      <td>1138</td>\n",
       "      <td>94.64</td>\n",
       "    </tr>\n",
       "    <tr>\n",
       "      <td>4</td>\n",
       "      <td>167497</td>\n",
       "      <td>996.00</td>\n",
       "      <td>1204</td>\n",
       "      <td>82.72</td>\n",
       "    </tr>\n",
       "    <tr>\n",
       "      <td>...</td>\n",
       "      <td>...</td>\n",
       "      <td>...</td>\n",
       "      <td>...</td>\n",
       "      <td>...</td>\n",
       "    </tr>\n",
       "    <tr>\n",
       "      <td>285</td>\n",
       "      <td>166548</td>\n",
       "      <td>0.00</td>\n",
       "      <td>1</td>\n",
       "      <td>0.00</td>\n",
       "    </tr>\n",
       "    <tr>\n",
       "      <td>286</td>\n",
       "      <td>166481</td>\n",
       "      <td>0.00</td>\n",
       "      <td>1</td>\n",
       "      <td>0.00</td>\n",
       "    </tr>\n",
       "    <tr>\n",
       "      <td>287</td>\n",
       "      <td>168459</td>\n",
       "      <td>0.00</td>\n",
       "      <td>1</td>\n",
       "      <td>0.00</td>\n",
       "    </tr>\n",
       "    <tr>\n",
       "      <td>288</td>\n",
       "      <td>168090</td>\n",
       "      <td>0.00</td>\n",
       "      <td>1</td>\n",
       "      <td>0.00</td>\n",
       "    </tr>\n",
       "    <tr>\n",
       "      <td>289</td>\n",
       "      <td>167139</td>\n",
       "      <td>0.00</td>\n",
       "      <td>1</td>\n",
       "      <td>0.00</td>\n",
       "    </tr>\n",
       "  </tbody>\n",
       "</table>\n",
       "<p>290 rows × 4 columns</p>\n",
       "</div>"
      ],
      "text/plain": [
       "     user_id      out   all  %_out\n",
       "0     166658 1,546.00  1779  86.90\n",
       "1     168187 1,283.00  2267  56.59\n",
       "2     168361 1,097.00  1097 100.00\n",
       "3     167626 1,077.00  1138  94.64\n",
       "4     167497   996.00  1204  82.72\n",
       "..       ...      ...   ...    ...\n",
       "285   166548     0.00     1   0.00\n",
       "286   166481     0.00     1   0.00\n",
       "287   168459     0.00     1   0.00\n",
       "288   168090     0.00     1   0.00\n",
       "289   167139     0.00     1   0.00\n",
       "\n",
       "[290 rows x 4 columns]"
      ]
     },
     "execution_count": 17,
     "metadata": {},
     "output_type": "execute_result"
    }
   ],
   "source": [
    "merge_out_all"
   ]
  },
  {
   "cell_type": "code",
   "execution_count": 18,
   "metadata": {},
   "outputs": [],
   "source": [
    "#Объединяю полученный датафрейм с исходным\n",
    "telecom_dataset= telecom_dataset.merge(merge_out_all, on='user_id',how='right')\n",
    "#Удаляю лишние столбцы\n",
    "telecom_dataset=telecom_dataset.drop(columns = ['out', 'all'])\n",
    "#Преобразую долю исходящих вызовов в int64\n",
    "telecom_dataset['%_out'] = telecom_dataset['%_out'].astype(np.int64)"
   ]
  },
  {
   "cell_type": "markdown",
   "metadata": {},
   "source": [
    "Если доля исходящих вызовов больше 80%, то это колл-центр, который специализируется на обзвонах, остальные специализируется на входящих вызовах. Далее обозначения: \"исходящие\" и \"входящие\""
   ]
  },
  {
   "cell_type": "code",
   "execution_count": 19,
   "metadata": {},
   "outputs": [],
   "source": [
    "#Добавляю столбец со специализацией колл-центра\n",
    "telecom_dataset['specialization'] = np.where(telecom_dataset['%_out'] >= 80, 'исходящие' , 'входящие')\n",
    "#Удаляю лишний столбец\n",
    "telecom_dataset=telecom_dataset.drop(columns = ['%_out'])"
   ]
  },
  {
   "cell_type": "code",
   "execution_count": 20,
   "metadata": {},
   "outputs": [
    {
     "data": {
      "text/html": [
       "<div>\n",
       "<style scoped>\n",
       "    .dataframe tbody tr th:only-of-type {\n",
       "        vertical-align: middle;\n",
       "    }\n",
       "\n",
       "    .dataframe tbody tr th {\n",
       "        vertical-align: top;\n",
       "    }\n",
       "\n",
       "    .dataframe thead th {\n",
       "        text-align: right;\n",
       "    }\n",
       "</style>\n",
       "<table border=\"1\" class=\"dataframe\">\n",
       "  <thead>\n",
       "    <tr style=\"text-align: right;\">\n",
       "      <th></th>\n",
       "      <th>user_id</th>\n",
       "      <th>date</th>\n",
       "      <th>direction</th>\n",
       "      <th>internal</th>\n",
       "      <th>operator_id</th>\n",
       "      <th>is_missed_call</th>\n",
       "      <th>calls_count</th>\n",
       "      <th>call_duration</th>\n",
       "      <th>total_call_duration</th>\n",
       "      <th>day_name</th>\n",
       "      <th>month_name</th>\n",
       "      <th>specialization</th>\n",
       "    </tr>\n",
       "  </thead>\n",
       "  <tbody>\n",
       "    <tr>\n",
       "      <td>0</td>\n",
       "      <td>166377</td>\n",
       "      <td>2019-08-05 00:00:00+03:00</td>\n",
       "      <td>out</td>\n",
       "      <td>True</td>\n",
       "      <td>880022</td>\n",
       "      <td>True</td>\n",
       "      <td>3</td>\n",
       "      <td>0</td>\n",
       "      <td>5</td>\n",
       "      <td>Monday</td>\n",
       "      <td>August</td>\n",
       "      <td>исходящие</td>\n",
       "    </tr>\n",
       "    <tr>\n",
       "      <td>1</td>\n",
       "      <td>166377</td>\n",
       "      <td>2019-08-05 00:00:00+03:00</td>\n",
       "      <td>out</td>\n",
       "      <td>True</td>\n",
       "      <td>880020</td>\n",
       "      <td>True</td>\n",
       "      <td>1</td>\n",
       "      <td>0</td>\n",
       "      <td>1</td>\n",
       "      <td>Monday</td>\n",
       "      <td>August</td>\n",
       "      <td>исходящие</td>\n",
       "    </tr>\n",
       "    <tr>\n",
       "      <td>2</td>\n",
       "      <td>166377</td>\n",
       "      <td>2019-08-05 00:00:00+03:00</td>\n",
       "      <td>out</td>\n",
       "      <td>True</td>\n",
       "      <td>880020</td>\n",
       "      <td>False</td>\n",
       "      <td>1</td>\n",
       "      <td>10</td>\n",
       "      <td>18</td>\n",
       "      <td>Monday</td>\n",
       "      <td>August</td>\n",
       "      <td>исходящие</td>\n",
       "    </tr>\n",
       "    <tr>\n",
       "      <td>3</td>\n",
       "      <td>166377</td>\n",
       "      <td>2019-08-05 00:00:00+03:00</td>\n",
       "      <td>out</td>\n",
       "      <td>False</td>\n",
       "      <td>880022</td>\n",
       "      <td>True</td>\n",
       "      <td>3</td>\n",
       "      <td>0</td>\n",
       "      <td>25</td>\n",
       "      <td>Monday</td>\n",
       "      <td>August</td>\n",
       "      <td>исходящие</td>\n",
       "    </tr>\n",
       "    <tr>\n",
       "      <td>4</td>\n",
       "      <td>166377</td>\n",
       "      <td>2019-08-05 00:00:00+03:00</td>\n",
       "      <td>out</td>\n",
       "      <td>False</td>\n",
       "      <td>880020</td>\n",
       "      <td>False</td>\n",
       "      <td>2</td>\n",
       "      <td>3</td>\n",
       "      <td>29</td>\n",
       "      <td>Monday</td>\n",
       "      <td>August</td>\n",
       "      <td>исходящие</td>\n",
       "    </tr>\n",
       "  </tbody>\n",
       "</table>\n",
       "</div>"
      ],
      "text/plain": [
       "   user_id                      date direction internal  operator_id  \\\n",
       "0   166377 2019-08-05 00:00:00+03:00       out     True       880022   \n",
       "1   166377 2019-08-05 00:00:00+03:00       out     True       880020   \n",
       "2   166377 2019-08-05 00:00:00+03:00       out     True       880020   \n",
       "3   166377 2019-08-05 00:00:00+03:00       out    False       880022   \n",
       "4   166377 2019-08-05 00:00:00+03:00       out    False       880020   \n",
       "\n",
       "   is_missed_call  calls_count  call_duration  total_call_duration day_name  \\\n",
       "0            True            3              0                    5   Monday   \n",
       "1            True            1              0                    1   Monday   \n",
       "2           False            1             10                   18   Monday   \n",
       "3            True            3              0                   25   Monday   \n",
       "4           False            2              3                   29   Monday   \n",
       "\n",
       "  month_name specialization  \n",
       "0     August      исходящие  \n",
       "1     August      исходящие  \n",
       "2     August      исходящие  \n",
       "3     August      исходящие  \n",
       "4     August      исходящие  "
      ]
     },
     "execution_count": 20,
     "metadata": {},
     "output_type": "execute_result"
    }
   ],
   "source": [
    "telecom_dataset.head()"
   ]
  },
  {
   "cell_type": "markdown",
   "metadata": {},
   "source": [
    "### Добавить тарифный план"
   ]
  },
  {
   "cell_type": "code",
   "execution_count": 21,
   "metadata": {},
   "outputs": [],
   "source": [
    "#Объединяю два датафрейма\n",
    "telecom_dataset= telecom_dataset.merge(telecom_clients , on='user_id')"
   ]
  },
  {
   "cell_type": "code",
   "execution_count": 22,
   "metadata": {},
   "outputs": [
    {
     "name": "stdout",
     "output_type": "stream",
     "text": [
      "Количество дубликатов telecom_dataset: 0\n"
     ]
    }
   ],
   "source": [
    "#Проверка не задублировались ли данные\n",
    "print('Количество дубликатов telecom_dataset:', telecom_dataset.duplicated().sum())"
   ]
  },
  {
   "cell_type": "markdown",
   "metadata": {},
   "source": [
    "### Количество звонков (внешних и внутрненних) и операторов в колл-центрах "
   ]
  },
  {
   "cell_type": "markdown",
   "metadata": {},
   "source": [
    "Далее исследовательский анализ данных в некоторых пунктах будет проводиться для каждого типа колл-центра отдельно.\n",
    "\n",
    "Поэтому необходимо выделить два датафрема."
   ]
  },
  {
   "cell_type": "code",
   "execution_count": 23,
   "metadata": {},
   "outputs": [],
   "source": [
    "#Колл-центры, которые специализируются на исходящих вызовах\n",
    "telecom_out = telecom_dataset.query('specialization == \"исходящие\"')\n",
    "#Колл-центры, которые специализируются на входящих вызовах\n",
    "telecom_in = telecom_dataset.query('specialization == \"входящие\"')"
   ]
  },
  {
   "cell_type": "code",
   "execution_count": 24,
   "metadata": {},
   "outputs": [
    {
     "name": "stdout",
     "output_type": "stream",
     "text": [
      "Всего услугами провайдера за период с 2019-08-02 00:00:00+03:00 по 2019-11-28 00:00:00+03:00 пользовались 290 колл-центров.\n",
      "Всего колл-центров, которые специализируются на исходящих вызовах 67, в которых работает 432 операторов.\n",
      "Всего колл-центров, которые специализируются на входящих вызова: 223, в которых работает 660 операторов.\n"
     ]
    }
   ],
   "source": [
    "print('Всего услугами провайдера за период с {} по {} пользовались {} колл-центров.'.format(telecom_dataset['date'].min(),telecom_dataset['date'].max(),telecom_dataset['user_id'].nunique()))\n",
    "print('Всего колл-центров, которые специализируются на исходящих вызовах {}, в которых работает {} операторов.'.format(telecom_out['user_id'].nunique(), telecom_out['operator_id'].nunique()))\n",
    "print('Всего колл-центров, которые специализируются на входящих вызова: {}, в которых работает {} операторов.'.format(telecom_in['user_id'].nunique(), telecom_in['operator_id'].nunique()))"
   ]
  },
  {
   "cell_type": "markdown",
   "metadata": {},
   "source": [
    "Сразу замечаю, что численное преимущество у колл-центров, которые специализируются на входящих вызовах."
   ]
  },
  {
   "cell_type": "code",
   "execution_count": 25,
   "metadata": {},
   "outputs": [
    {
     "name": "stdout",
     "output_type": "stream",
     "text": [
      "Количество колл-центров в месяц\n"
     ]
    },
    {
     "data": {
      "text/html": [
       "<div>\n",
       "<style scoped>\n",
       "    .dataframe tbody tr th:only-of-type {\n",
       "        vertical-align: middle;\n",
       "    }\n",
       "\n",
       "    .dataframe tbody tr th {\n",
       "        vertical-align: top;\n",
       "    }\n",
       "\n",
       "    .dataframe thead th {\n",
       "        text-align: right;\n",
       "    }\n",
       "</style>\n",
       "<table border=\"1\" class=\"dataframe\">\n",
       "  <thead>\n",
       "    <tr style=\"text-align: right;\">\n",
       "      <th></th>\n",
       "      <th>month_name</th>\n",
       "      <th>user_id</th>\n",
       "    </tr>\n",
       "  </thead>\n",
       "  <tbody>\n",
       "    <tr>\n",
       "      <td>0</td>\n",
       "      <td>August</td>\n",
       "      <td>67</td>\n",
       "    </tr>\n",
       "    <tr>\n",
       "      <td>1</td>\n",
       "      <td>November</td>\n",
       "      <td>245</td>\n",
       "    </tr>\n",
       "    <tr>\n",
       "      <td>2</td>\n",
       "      <td>October</td>\n",
       "      <td>231</td>\n",
       "    </tr>\n",
       "    <tr>\n",
       "      <td>3</td>\n",
       "      <td>September</td>\n",
       "      <td>155</td>\n",
       "    </tr>\n",
       "  </tbody>\n",
       "</table>\n",
       "</div>"
      ],
      "text/plain": [
       "  month_name  user_id\n",
       "0     August       67\n",
       "1   November      245\n",
       "2    October      231\n",
       "3  September      155"
      ]
     },
     "execution_count": 25,
     "metadata": {},
     "output_type": "execute_result"
    }
   ],
   "source": [
    "month_group = telecom_dataset.groupby('month_name')['user_id'].nunique().reset_index()\n",
    "print('Количество колл-центров в месяц')\n",
    "month_group "
   ]
  },
  {
   "cell_type": "code",
   "execution_count": 26,
   "metadata": {},
   "outputs": [
    {
     "name": "stdout",
     "output_type": "stream",
     "text": [
      "Количество колл-центров в провайдере меняется в каждом месяце, наибольшее количество 245 колл-центров, наименьшее 67 .\n"
     ]
    }
   ],
   "source": [
    "print('Количество колл-центров в провайдере меняется в каждом месяце, наибольшее количество {} колл-центров, наименьшее {} .'.format(month_group ['user_id'].max(), month_group ['user_id'].min()))"
   ]
  },
  {
   "cell_type": "markdown",
   "metadata": {},
   "source": [
    "### Количество звонков (внешних и внутрненних)"
   ]
  },
  {
   "cell_type": "code",
   "execution_count": 27,
   "metadata": {},
   "outputs": [
    {
     "name": "stdout",
     "output_type": "stream",
     "text": [
      "Распределение вызовов по типам в колл-центре, который специализируется на исходящих вызовах\n"
     ]
    },
    {
     "data": {
      "text/html": [
       "<div>\n",
       "<style scoped>\n",
       "    .dataframe tbody tr th:only-of-type {\n",
       "        vertical-align: middle;\n",
       "    }\n",
       "\n",
       "    .dataframe tbody tr th {\n",
       "        vertical-align: top;\n",
       "    }\n",
       "\n",
       "    .dataframe thead th {\n",
       "        text-align: right;\n",
       "    }\n",
       "</style>\n",
       "<table border=\"1\" class=\"dataframe\">\n",
       "  <thead>\n",
       "    <tr style=\"text-align: right;\">\n",
       "      <th></th>\n",
       "      <th>direction</th>\n",
       "      <th>internal</th>\n",
       "      <th>calls_count</th>\n",
       "      <th>%_of_sum</th>\n",
       "    </tr>\n",
       "  </thead>\n",
       "  <tbody>\n",
       "    <tr>\n",
       "      <td>0</td>\n",
       "      <td>in</td>\n",
       "      <td>False</td>\n",
       "      <td>1741</td>\n",
       "      <td>10</td>\n",
       "    </tr>\n",
       "    <tr>\n",
       "      <td>1</td>\n",
       "      <td>in</td>\n",
       "      <td>True</td>\n",
       "      <td>40</td>\n",
       "      <td>0</td>\n",
       "    </tr>\n",
       "    <tr>\n",
       "      <td>2</td>\n",
       "      <td>out</td>\n",
       "      <td>False</td>\n",
       "      <td>11401</td>\n",
       "      <td>71</td>\n",
       "    </tr>\n",
       "    <tr>\n",
       "      <td>3</td>\n",
       "      <td>out</td>\n",
       "      <td>True</td>\n",
       "      <td>2835</td>\n",
       "      <td>17</td>\n",
       "    </tr>\n",
       "  </tbody>\n",
       "</table>\n",
       "</div>"
      ],
      "text/plain": [
       "  direction  internal  calls_count  %_of_sum\n",
       "0        in     False         1741        10\n",
       "1        in      True           40         0\n",
       "2       out     False        11401        71\n",
       "3       out      True         2835        17"
      ]
     },
     "execution_count": 27,
     "metadata": {},
     "output_type": "execute_result"
    }
   ],
   "source": [
    "telecom_out_count = telecom_out.groupby(['direction','internal'])\\\n",
    "                  .agg({'calls_count':'count'})\\\n",
    "                  .reset_index()\n",
    "telecom_out_count['%_of_sum']=((telecom_out_count['calls_count']/telecom_out_count['calls_count'].sum())*100).astype(int)\n",
    "print('Распределение вызовов по типам в колл-центре, который специализируется на исходящих вызовах')\n",
    "telecom_out_count"
   ]
  },
  {
   "cell_type": "markdown",
   "metadata": {},
   "source": [
    "Большая часть вызовов является внешними исходящими вызовами, что подтверждает спецификацию колл-центров."
   ]
  },
  {
   "cell_type": "code",
   "execution_count": 28,
   "metadata": {
    "scrolled": true
   },
   "outputs": [
    {
     "name": "stdout",
     "output_type": "stream",
     "text": [
      "Распределение вызовов по типам в колл-центре, который специализируется на входящих вызовах\n"
     ]
    },
    {
     "data": {
      "text/html": [
       "<div>\n",
       "<style scoped>\n",
       "    .dataframe tbody tr th:only-of-type {\n",
       "        vertical-align: middle;\n",
       "    }\n",
       "\n",
       "    .dataframe tbody tr th {\n",
       "        vertical-align: top;\n",
       "    }\n",
       "\n",
       "    .dataframe thead th {\n",
       "        text-align: right;\n",
       "    }\n",
       "</style>\n",
       "<table border=\"1\" class=\"dataframe\">\n",
       "  <thead>\n",
       "    <tr style=\"text-align: right;\">\n",
       "      <th></th>\n",
       "      <th>direction</th>\n",
       "      <th>internal</th>\n",
       "      <th>calls_count</th>\n",
       "      <th>%_of_sum</th>\n",
       "    </tr>\n",
       "  </thead>\n",
       "  <tbody>\n",
       "    <tr>\n",
       "      <td>0</td>\n",
       "      <td>in</td>\n",
       "      <td>False</td>\n",
       "      <td>10551</td>\n",
       "      <td>41</td>\n",
       "    </tr>\n",
       "    <tr>\n",
       "      <td>1</td>\n",
       "      <td>in</td>\n",
       "      <td>True</td>\n",
       "      <td>346</td>\n",
       "      <td>1</td>\n",
       "    </tr>\n",
       "    <tr>\n",
       "      <td>2</td>\n",
       "      <td>out</td>\n",
       "      <td>False</td>\n",
       "      <td>12468</td>\n",
       "      <td>48</td>\n",
       "    </tr>\n",
       "    <tr>\n",
       "      <td>3</td>\n",
       "      <td>out</td>\n",
       "      <td>True</td>\n",
       "      <td>2109</td>\n",
       "      <td>8</td>\n",
       "    </tr>\n",
       "  </tbody>\n",
       "</table>\n",
       "</div>"
      ],
      "text/plain": [
       "  direction  internal  calls_count  %_of_sum\n",
       "0        in     False        10551        41\n",
       "1        in      True          346         1\n",
       "2       out     False        12468        48\n",
       "3       out      True         2109         8"
      ]
     },
     "execution_count": 28,
     "metadata": {},
     "output_type": "execute_result"
    }
   ],
   "source": [
    "telecom_in_count = telecom_in.groupby(['direction','internal'])\\\n",
    "                  .agg({'calls_count':'count'})\\\n",
    "                  .reset_index()\n",
    "telecom_in_count['%_of_sum']=((telecom_in_count['calls_count']/telecom_in_count['calls_count'].sum())*100).astype(int)\n",
    "print('Распределение вызовов по типам в колл-центре, который специализируется на входящих вызовах')\n",
    "telecom_in_count"
   ]
  },
  {
   "cell_type": "markdown",
   "metadata": {},
   "source": [
    "Интересно, что количество исходящих внешних вызовов немного выше, чем количество внешних входящих вызовов для колл-центров, которые специализируется на входящих вызовах."
   ]
  },
  {
   "cell_type": "markdown",
   "metadata": {},
   "source": [
    "### Анализ цикличной нагрузки на операторов, пиковые дни работы операторов"
   ]
  },
  {
   "cell_type": "markdown",
   "metadata": {},
   "source": [
    "#### Колл-центры, которые специализируются на исходящих вызовах"
   ]
  },
  {
   "cell_type": "markdown",
   "metadata": {},
   "source": [
    "Рассмотрю колл-центры, которые специализируются на исходящих вызовах."
   ]
  },
  {
   "cell_type": "code",
   "execution_count": 29,
   "metadata": {
    "scrolled": false
   },
   "outputs": [
    {
     "data": {
      "image/png": "[encoded data removed]",
      "text/plain": [
       "<Figure size 1080x504 with 1 Axes>"
      ]
     },
     "metadata": {
      "needs_background": "light"
     },
     "output_type": "display_data"
    }
   ],
   "source": [
    "#Сгруппирую датасет telecom_out, выбрав только исходящие звонки, так как внутренних исходящих звонков мало\n",
    "#в сравнении с общим кол-вом исходящих звонков, то ими можно пренебречь\n",
    "user_calls_out = telecom_out.loc[(telecom_out['direction'] == 'out')].groupby(['date'])\\\n",
    "                  .agg({'calls_count':'sum'}).reset_index()\n",
    "user_calls_out.plot(x= 'date',y = 'calls_count',grid=True,figsize=(15,7))\n",
    "plt.title('Распределение количества исходящих звонков в колл-центрах типа out по времени',size=15)\n",
    "plt.xlabel('Дата').set_size(13)\n",
    "plt.xticks(rotation=45,size=13)\n",
    "plt.ylabel('Количество звонков').set_size(13)\n",
    "plt.yticks(rotation=0, size = 13)\n",
    "plt.show()"
   ]
  },
  {
   "cell_type": "markdown",
   "metadata": {},
   "source": [
    "По графику видно, рост количества звонков начинается в конце сентября и начале октября, и достигает пика активности в середине ноября,а минимум на середину октября. График напоминает синусоиду, скорее всего, потому что в выходные дни активность операторов снижается, а с понедельника по пятницу снова увеличивается. Далее проверю эту гипотезу."
   ]
  },
  {
   "cell_type": "code",
   "execution_count": 30,
   "metadata": {
    "scrolled": false
   },
   "outputs": [
    {
     "data": {
      "image/png": "[encoded data removed]",
      "text/plain": [
       "<Figure size 504x360 with 1 Axes>"
      ]
     },
     "metadata": {
      "needs_background": "light"
     },
     "output_type": "display_data"
    }
   ],
   "source": [
    "#Проверяю как распределяются исходящие звонки в течение недели\n",
    "telecom_out.loc[(telecom_out['direction'] == 'out')].groupby(['day_name'])\\\n",
    "                  .agg({'calls_count':'sum'}).sort_values(by='day_name',ascending=True).plot(kind='bar',grid=False,figsize=(7,5))\n",
    "plt.title('Распределение количества исходящих звонков в колл-центрах типа out по дню недели',size=15)\n",
    "plt.xticks(rotation=45,size=13)\n",
    "plt.ylabel('Количество звонков').set_size(13)\n",
    "plt.xlabel('День недели').set_size(13)\n",
    "plt.yticks(rotation=0, size = 13)\n",
    "plt.show()"
   ]
  },
  {
   "cell_type": "markdown",
   "metadata": {},
   "source": [
    "Действительно, в воскресенье делается минимальное количество звонков, чуть больше в субботу, а максимальное в четверг."
   ]
  },
  {
   "cell_type": "markdown",
   "metadata": {},
   "source": [
    "#### Колл-центры, которые специализируются на входящих вызовах"
   ]
  },
  {
   "cell_type": "code",
   "execution_count": 31,
   "metadata": {
    "scrolled": false
   },
   "outputs": [
    {
     "data": {
      "image/png": "[encoded data removed]",
      "text/plain": [
       "<Figure size 1080x504 with 1 Axes>"
      ]
     },
     "metadata": {
      "needs_background": "light"
     },
     "output_type": "display_data"
    }
   ],
   "source": [
    "#Сгруппирую датасет telecom_in, выбрав только входящие звонки, так как внутренних входящих звонков мало\n",
    "#в сравнении с общим кол-вом входящих звонков, то ими можно пренебречь\n",
    "user_calls_in = telecom_in.loc[(telecom_in['direction'] == 'in')].groupby(['date'])\\\n",
    "                  .agg({'calls_count':'sum'}).reset_index()\n",
    "user_calls_in.plot(x= 'date',y = 'calls_count',grid=True,figsize=(15,7))\n",
    "plt.title('Распределение количества входящих звонков в колл-центрах типа in по времени',size=15)\n",
    "plt.xlabel('Дата').set_size(13)\n",
    "plt.xticks(rotation=45,size=13)\n",
    "plt.ylabel('Количество звонков').set_size(13)\n",
    "plt.yticks(rotation=0, size = 13)\n",
    "plt.show()"
   ]
  },
  {
   "cell_type": "markdown",
   "metadata": {},
   "source": [
    "Начиная с середины августа количество входящих звонков в колл-центры постоянно увеличивается по синусоиде из-за уменьшения активности клиентов в выходные."
   ]
  },
  {
   "cell_type": "code",
   "execution_count": 32,
   "metadata": {
    "scrolled": false
   },
   "outputs": [
    {
     "data": {
      "image/png": "[encoded data removed]",
      "text/plain": [
       "<Figure size 504x360 with 1 Axes>"
      ]
     },
     "metadata": {
      "needs_background": "light"
     },
     "output_type": "display_data"
    }
   ],
   "source": [
    "#Проверяю как распределяются входящие звонки в течение недели, так как внутренних входящих звонков мало\n",
    "#в сравнении с общим кол-вом входящих звонков, то ими можно пренебречь\n",
    "telecom_in.loc[(telecom_in['direction'] == 'in')].groupby(['day_name'])\\\n",
    "                  .agg({'calls_count':'sum'}).sort_values(by='day_name',ascending=True).plot(kind='bar',grid=False,figsize=(7,5))\n",
    "plt.title('Распределение количества входящих звонков в колл-центрах типа in по дню недели',size=15)\n",
    "plt.xticks(rotation=45,size=13)\n",
    "plt.ylabel('Количество звонков').set_size(13)\n",
    "plt.xlabel('День недели').set_size(13)\n",
    "plt.yticks(rotation=0, size = 13)\n",
    "plt.show()"
   ]
  },
  {
   "cell_type": "markdown",
   "metadata": {},
   "source": [
    "Действительно, в воскресенье делается минимальное количество звонков, чуть больше в субботу, а максимальное во вторник."
   ]
  },
  {
   "cell_type": "markdown",
   "metadata": {},
   "source": [
    "*Увеличение количества звонков в обоих типах колл-центров к концу года может быть связано с активностью потребления услуг к концу года, в связи с предстоящими праздниками. Август и сентябрь отпускные месяца, а вот октябрь, ноябрь и декабрь больше рабочие.*"
   ]
  },
  {
   "cell_type": "markdown",
   "metadata": {},
   "source": [
    "### Исходящие пропущенные вызовы для колл-центров, которые специализируются на исходящих вызовах"
   ]
  },
  {
   "cell_type": "code",
   "execution_count": 33,
   "metadata": {},
   "outputs": [
    {
     "name": "stdout",
     "output_type": "stream",
     "text": [
      "Количество исходящих вызовов (пропущенные/принятие)\n"
     ]
    },
    {
     "data": {
      "text/html": [
       "<div>\n",
       "<style scoped>\n",
       "    .dataframe tbody tr th:only-of-type {\n",
       "        vertical-align: middle;\n",
       "    }\n",
       "\n",
       "    .dataframe tbody tr th {\n",
       "        vertical-align: top;\n",
       "    }\n",
       "\n",
       "    .dataframe thead th {\n",
       "        text-align: right;\n",
       "    }\n",
       "</style>\n",
       "<table border=\"1\" class=\"dataframe\">\n",
       "  <thead>\n",
       "    <tr style=\"text-align: right;\">\n",
       "      <th></th>\n",
       "      <th>is_missed_call</th>\n",
       "      <th>calls_count</th>\n",
       "      <th>%_of_sum</th>\n",
       "    </tr>\n",
       "  </thead>\n",
       "  <tbody>\n",
       "    <tr>\n",
       "      <td>0</td>\n",
       "      <td>False</td>\n",
       "      <td>9355</td>\n",
       "      <td>58.00</td>\n",
       "    </tr>\n",
       "    <tr>\n",
       "      <td>1</td>\n",
       "      <td>True</td>\n",
       "      <td>6662</td>\n",
       "      <td>42.00</td>\n",
       "    </tr>\n",
       "  </tbody>\n",
       "</table>\n",
       "</div>"
      ],
      "text/plain": [
       "   is_missed_call  calls_count  %_of_sum\n",
       "0           False         9355     58.00\n",
       "1            True         6662     42.00"
      ]
     },
     "execution_count": 33,
     "metadata": {},
     "output_type": "execute_result"
    }
   ],
   "source": [
    "#В связи с тем, что исходящие внутренние вызовы составляют небольшую долю от общего кол-ва вызовов, то ими можно пренебречь\n",
    "telecom_out_count_is_missed_call = telecom_out.groupby(['is_missed_call'])\\\n",
    "                  .agg({'calls_count':'count'})\\\n",
    "                  .reset_index()\n",
    "#Добавляю в столбец % от общего количество звонков\n",
    "telecom_out_count_is_missed_call['%_of_sum']=((telecom_out_count_is_missed_call['calls_count']/telecom_out_count_is_missed_call['calls_count'].sum())*100).round()\n",
    "print('Количество исходящих вызовов (пропущенные/принятие)')\n",
    "telecom_out_count_is_missed_call"
   ]
  },
  {
   "cell_type": "markdown",
   "metadata": {},
   "source": [
    "Из таблицы видно, что 58% звонков являются принятыми, а 42% - пропущенные. "
   ]
  },
  {
   "cell_type": "markdown",
   "metadata": {},
   "source": [
    "### Пропущенные входящие вызововы для колл-центров, которые специализируются на обработке входящих звонков (внешние)"
   ]
  },
  {
   "cell_type": "code",
   "execution_count": 34,
   "metadata": {},
   "outputs": [
    {
     "name": "stdout",
     "output_type": "stream",
     "text": [
      "Количество входящих вызовов (пропущенные/принятие)\n"
     ]
    },
    {
     "data": {
      "text/html": [
       "<div>\n",
       "<style scoped>\n",
       "    .dataframe tbody tr th:only-of-type {\n",
       "        vertical-align: middle;\n",
       "    }\n",
       "\n",
       "    .dataframe tbody tr th {\n",
       "        vertical-align: top;\n",
       "    }\n",
       "\n",
       "    .dataframe thead th {\n",
       "        text-align: right;\n",
       "    }\n",
       "</style>\n",
       "<table border=\"1\" class=\"dataframe\">\n",
       "  <thead>\n",
       "    <tr style=\"text-align: right;\">\n",
       "      <th></th>\n",
       "      <th>is_missed_call</th>\n",
       "      <th>calls_count</th>\n",
       "      <th>%_of_sum</th>\n",
       "    </tr>\n",
       "  </thead>\n",
       "  <tbody>\n",
       "    <tr>\n",
       "      <td>0</td>\n",
       "      <td>False</td>\n",
       "      <td>18027</td>\n",
       "      <td>71.00</td>\n",
       "    </tr>\n",
       "    <tr>\n",
       "      <td>1</td>\n",
       "      <td>True</td>\n",
       "      <td>7447</td>\n",
       "      <td>29.00</td>\n",
       "    </tr>\n",
       "  </tbody>\n",
       "</table>\n",
       "</div>"
      ],
      "text/plain": [
       "   is_missed_call  calls_count  %_of_sum\n",
       "0           False        18027     71.00\n",
       "1            True         7447     29.00"
      ]
     },
     "execution_count": 34,
     "metadata": {},
     "output_type": "execute_result"
    }
   ],
   "source": [
    "#В связи с тем, что пропущенные внутренние входящие вызовы составляют небольшую долю от общего кол-ва вызовов, то ими можн пренебречь\n",
    "telecom_in_count_is_missed_call = telecom_in.groupby(['is_missed_call'])\\\n",
    "                  .agg({'calls_count':'count'})\\\n",
    "                  .reset_index()\n",
    "#Добавляю в столбец % от общего количество звонков\n",
    "telecom_in_count_is_missed_call['%_of_sum']=((telecom_in_count_is_missed_call['calls_count']/telecom_in_count_is_missed_call['calls_count'].sum())*100).round()\n",
    "print('Количество входящих вызовов (пропущенные/принятие)')\n",
    "telecom_in_count_is_missed_call"
   ]
  },
  {
   "cell_type": "markdown",
   "metadata": {},
   "source": [
    "Из таблицы видно, что 71% входящих вызовов являются принятыми, а 29% - пропущенными."
   ]
  },
  {
   "cell_type": "markdown",
   "metadata": {},
   "source": [
    "### Длительность звонков (без учета времени ожидания/с учетом времени ожидания)"
   ]
  },
  {
   "cell_type": "code",
   "execution_count": 35,
   "metadata": {},
   "outputs": [
    {
     "name": "stdout",
     "output_type": "stream",
     "text": [
      "Медианное значение длительности звонка без учета времени ожидания для всех колл-центров: 106.0 секунд, с учетом времени ожидания: 289.0 секунд.\n"
     ]
    }
   ],
   "source": [
    "print('Медианное значение длительности звонка без учета времени ожидания для всех колл-центров: {} секунд, с учетом времени ожидания: {} секунд.'.format(telecom_dataset['call_duration'].median(), telecom_dataset['total_call_duration'].median()))"
   ]
  },
  {
   "cell_type": "markdown",
   "metadata": {},
   "source": [
    "Посмотрю диаграмму размаха длительности звонка без учета времени ожидания ответа для всех типов колл-центров."
   ]
  },
  {
   "cell_type": "code",
   "execution_count": 36,
   "metadata": {},
   "outputs": [
    {
     "data": {
      "image/png": "[encoded data removed]",
      "text/plain": [
       "<Figure size 360x360 with 1 Axes>"
      ]
     },
     "metadata": {
      "needs_background": "light"
     },
     "output_type": "display_data"
    }
   ],
   "source": [
    "telecom_dataset.boxplot(column='call_duration',fontsize=20,figsize=(5,5))\n",
    "plt.ylim(-100, 5000)\n",
    "plt.title('Диаграмма размаха длительности звонка без учета времени ожидания ответа',size=15)\n",
    "plt.yticks(size=15)\n",
    "plt.show()"
   ]
  },
  {
   "cell_type": "markdown",
   "metadata": {},
   "source": [
    "Большая часть вызовов без учета ожидания ответа длится до 1000 секунд, что составляет около 16 минут."
   ]
  },
  {
   "cell_type": "markdown",
   "metadata": {},
   "source": [
    "Посмотрю диаграмму размаха длительности звонка с учетом времени ожидания ответа для всех типов колл-центров."
   ]
  },
  {
   "cell_type": "code",
   "execution_count": 37,
   "metadata": {},
   "outputs": [
    {
     "data": {
      "image/png": "[encoded data removed]",
      "text/plain": [
       "<Figure size 360x360 with 1 Axes>"
      ]
     },
     "metadata": {
      "needs_background": "light"
     },
     "output_type": "display_data"
    }
   ],
   "source": [
    "telecom_dataset.boxplot(column='total_call_duration',fontsize=20,figsize=(5,5))\n",
    "plt.ylim(-100, 5000)\n",
    "plt.title('Диаграмма размаха длительности звонка с учетом времени ожидания ответа',size=15)\n",
    "plt.yticks(size=15)\n",
    "plt.show()"
   ]
  },
  {
   "cell_type": "markdown",
   "metadata": {},
   "source": [
    "Большая часть вызовов с учетом ожидания ответа длится до 1100-1200 секунд, что составляет около 18-20 минут."
   ]
  },
  {
   "cell_type": "markdown",
   "metadata": {},
   "source": [
    "*Их диаграмм размаха можно сказать, что бОльшая часть вызово длится 16 минут, а с учетом ожидания ответа 18-20 минут. Значит ожидание ответа составляет около 2-3 минут, проверю это далее.*"
   ]
  },
  {
   "cell_type": "code",
   "execution_count": 38,
   "metadata": {},
   "outputs": [],
   "source": [
    "#Добалвяю столбец времени ожидания ответа, вычитая из общей длительности разговора длительность разговора без учета времени оиждания\n",
    "telecom_dataset['waiting_duration']=telecom_dataset['total_call_duration']-telecom_dataset['call_duration']"
   ]
  },
  {
   "cell_type": "code",
   "execution_count": 39,
   "metadata": {},
   "outputs": [
    {
     "data": {
      "image/png": "[encoded data removed]",
      "text/plain": [
       "<Figure size 360x360 with 1 Axes>"
      ]
     },
     "metadata": {
      "needs_background": "light"
     },
     "output_type": "display_data"
    }
   ],
   "source": [
    "telecom_dataset.boxplot(column='waiting_duration',fontsize=20,figsize=(5,5))\n",
    "plt.ylim(-100, 1000)\n",
    "plt.title('Диаграмма размаха длительности ожидания ответа пользователем',size=15)\n",
    "plt.yticks(size=15)\n",
    "plt.show()"
   ]
  },
  {
   "cell_type": "markdown",
   "metadata": {},
   "source": [
    "*Время ожидания ответа на звонок оператора составляет по больше части 200-220 секунд, что составляет 3,3 - 3,6 минут для обоих типов колл-центров. Возможно, пользователи, которым поступает звонок не отклоняют его, а заглушают звук вызова.*"
   ]
  },
  {
   "cell_type": "markdown",
   "metadata": {},
   "source": [
    "### Расчет средних показателей для алгоритма определения неэффективных операторов"
   ]
  },
  {
   "cell_type": "markdown",
   "metadata": {},
   "source": [
    "#### Среднее количество исходящих вызовов на одного оператора в день"
   ]
  },
  {
   "cell_type": "markdown",
   "metadata": {},
   "source": [
    "Рассматриваю датасет с колл-центрами, которые специализируются на исходящих вызовах.\n",
    "\n",
    "Выбираю исходящие внешние непропущенные вызовы, потому что потенциально эти вызовы могут принести доход.\n",
    "\n",
    "Считаю количество звонков на оператора в день для каждого колл-центра, чтобы учесть специфику колл-центра. Затем считаю количество звонков, которые фактически сделал оператор за каждый рабочий день. Если оператор сделал меньше звонков в день, чем норма колл-центра, то он считается неэффективным."
   ]
  },
  {
   "cell_type": "code",
   "execution_count": 40,
   "metadata": {},
   "outputs": [],
   "source": [
    "#Преобразовываю логические значения для дальнейших вычислений\n",
    "telecom_dataset = telecom_dataset[telecom_dataset['internal'].notnull()].copy()\n",
    "telecom_dataset['internal'] = telecom_dataset['internal'].astype(int)\n",
    "#Преобразовываю логические значения для дальнейших вычислений\n",
    "telecom_dataset = telecom_dataset[telecom_dataset['is_missed_call'].notnull()].copy()\n",
    "telecom_dataset[\"is_missed_call\"] = telecom_dataset[\"is_missed_call\"].astype(int)"
   ]
  },
  {
   "cell_type": "code",
   "execution_count": 41,
   "metadata": {},
   "outputs": [],
   "source": [
    "#Преобразовываю логические значения для дальнейших вычислений\n",
    "telecom_out = telecom_out[telecom_out['internal'].notnull()].copy()\n",
    "telecom_out['internal'] = telecom_out['internal'].astype(int)\n",
    "#Преобразовываю логические значения для дальнейших вычислений\n",
    "telecom_out = telecom_out[telecom_out['is_missed_call'].notnull()].copy()\n",
    "telecom_out[\"is_missed_call\"] = telecom_out[\"is_missed_call\"].astype(int)\n",
    "#False=0, True=1"
   ]
  },
  {
   "cell_type": "code",
   "execution_count": 42,
   "metadata": {},
   "outputs": [
    {
     "data": {
      "text/html": [
       "<div>\n",
       "<style scoped>\n",
       "    .dataframe tbody tr th:only-of-type {\n",
       "        vertical-align: middle;\n",
       "    }\n",
       "\n",
       "    .dataframe tbody tr th {\n",
       "        vertical-align: top;\n",
       "    }\n",
       "\n",
       "    .dataframe thead th {\n",
       "        text-align: right;\n",
       "    }\n",
       "</style>\n",
       "<table border=\"1\" class=\"dataframe\">\n",
       "  <thead>\n",
       "    <tr style=\"text-align: right;\">\n",
       "      <th></th>\n",
       "      <th>user_id</th>\n",
       "      <th>operator_id</th>\n",
       "      <th>calls_count</th>\n",
       "      <th>date</th>\n",
       "      <th>calls_per_day_operator</th>\n",
       "    </tr>\n",
       "  </thead>\n",
       "  <tbody>\n",
       "    <tr>\n",
       "      <td>0</td>\n",
       "      <td>166377</td>\n",
       "      <td>880020</td>\n",
       "      <td>15</td>\n",
       "      <td>6</td>\n",
       "      <td>2</td>\n",
       "    </tr>\n",
       "    <tr>\n",
       "      <td>1</td>\n",
       "      <td>166377</td>\n",
       "      <td>880022</td>\n",
       "      <td>84</td>\n",
       "      <td>33</td>\n",
       "      <td>3</td>\n",
       "    </tr>\n",
       "    <tr>\n",
       "      <td>2</td>\n",
       "      <td>166377</td>\n",
       "      <td>880026</td>\n",
       "      <td>1560</td>\n",
       "      <td>77</td>\n",
       "      <td>20</td>\n",
       "    </tr>\n",
       "    <tr>\n",
       "      <td>3</td>\n",
       "      <td>166377</td>\n",
       "      <td>880028</td>\n",
       "      <td>1502</td>\n",
       "      <td>77</td>\n",
       "      <td>20</td>\n",
       "    </tr>\n",
       "    <tr>\n",
       "      <td>4</td>\n",
       "      <td>166377</td>\n",
       "      <td>881278</td>\n",
       "      <td>3</td>\n",
       "      <td>1</td>\n",
       "      <td>3</td>\n",
       "    </tr>\n",
       "  </tbody>\n",
       "</table>\n",
       "</div>"
      ],
      "text/plain": [
       "   user_id  operator_id  calls_count  date  calls_per_day_operator\n",
       "0   166377       880020           15     6                       2\n",
       "1   166377       880022           84    33                       3\n",
       "2   166377       880026         1560    77                      20\n",
       "3   166377       880028         1502    77                      20\n",
       "4   166377       881278            3     1                       3"
      ]
     },
     "execution_count": 42,
     "metadata": {},
     "output_type": "execute_result"
    }
   ],
   "source": [
    "#Считаю количество звонков оператора в день(calls_per_day_operator)\n",
    "operator_calls_telecom_out = telecom_out.loc[(telecom_out['direction'] == 'out') & (telecom_out['internal'] == 0) & (telecom_out['is_missed_call'] == 0)].groupby(['user_id','operator_id',])\\\n",
    "                  .agg({'calls_count':'sum','date' : 'nunique'})\\\n",
    "                  .reset_index()\n",
    "operator_calls_telecom_out['calls_per_day_operator']=(operator_calls_telecom_out['calls_count']/operator_calls_telecom_out['date']).round().astype(int)\n",
    "operator_calls_telecom_out.head()"
   ]
  },
  {
   "cell_type": "code",
   "execution_count": 43,
   "metadata": {},
   "outputs": [
    {
     "data": {
      "text/html": [
       "<div>\n",
       "<style scoped>\n",
       "    .dataframe tbody tr th:only-of-type {\n",
       "        vertical-align: middle;\n",
       "    }\n",
       "\n",
       "    .dataframe tbody tr th {\n",
       "        vertical-align: top;\n",
       "    }\n",
       "\n",
       "    .dataframe thead th {\n",
       "        text-align: right;\n",
       "    }\n",
       "</style>\n",
       "<table border=\"1\" class=\"dataframe\">\n",
       "  <thead>\n",
       "    <tr style=\"text-align: right;\">\n",
       "      <th></th>\n",
       "      <th>user_id</th>\n",
       "      <th>calls_count</th>\n",
       "      <th>date</th>\n",
       "      <th>operator_id</th>\n",
       "      <th>calls_per_day_user</th>\n",
       "    </tr>\n",
       "  </thead>\n",
       "  <tbody>\n",
       "    <tr>\n",
       "      <td>0</td>\n",
       "      <td>166377</td>\n",
       "      <td>3164</td>\n",
       "      <td>83</td>\n",
       "      <td>5</td>\n",
       "      <td>7</td>\n",
       "    </tr>\n",
       "    <tr>\n",
       "      <td>1</td>\n",
       "      <td>166407</td>\n",
       "      <td>125</td>\n",
       "      <td>41</td>\n",
       "      <td>7</td>\n",
       "      <td>0</td>\n",
       "    </tr>\n",
       "    <tr>\n",
       "      <td>2</td>\n",
       "      <td>166485</td>\n",
       "      <td>4273</td>\n",
       "      <td>72</td>\n",
       "      <td>6</td>\n",
       "      <td>9</td>\n",
       "    </tr>\n",
       "    <tr>\n",
       "      <td>3</td>\n",
       "      <td>166507</td>\n",
       "      <td>1</td>\n",
       "      <td>1</td>\n",
       "      <td>1</td>\n",
       "      <td>1</td>\n",
       "    </tr>\n",
       "    <tr>\n",
       "      <td>4</td>\n",
       "      <td>166520</td>\n",
       "      <td>3875</td>\n",
       "      <td>70</td>\n",
       "      <td>16</td>\n",
       "      <td>3</td>\n",
       "    </tr>\n",
       "  </tbody>\n",
       "</table>\n",
       "</div>"
      ],
      "text/plain": [
       "   user_id  calls_count  date  operator_id  calls_per_day_user\n",
       "0   166377         3164    83            5                   7\n",
       "1   166407          125    41            7                   0\n",
       "2   166485         4273    72            6                   9\n",
       "3   166507            1     1            1                   1\n",
       "4   166520         3875    70           16                   3"
      ]
     },
     "execution_count": 43,
     "metadata": {},
     "output_type": "execute_result"
    }
   ],
   "source": [
    "#Считаю норму звонков в колл-центрах(calls_per_day_user)\n",
    "user_calls_telecom_out = telecom_out.loc[(telecom_out['direction'] == 'out') & (telecom_out['internal'] == 0) & (telecom_out['is_missed_call'] == 0)].groupby(['user_id'])\\\n",
    "                  .agg({'calls_count':'sum','date' : 'nunique','operator_id' : 'nunique'})\\\n",
    "                  .reset_index()\n",
    "user_calls_telecom_out['calls_per_day_user']=(((user_calls_telecom_out['calls_count']/user_calls_telecom_out['date']))/user_calls_telecom_out['operator_id']).round(2).astype(int)\n",
    "user_calls_telecom_out.head()"
   ]
  },
  {
   "cell_type": "code",
   "execution_count": 44,
   "metadata": {},
   "outputs": [],
   "source": [
    "merge_telecom_out = operator_calls_telecom_out.merge(user_calls_telecom_out, on = 'user_id', how='left')"
   ]
  },
  {
   "cell_type": "code",
   "execution_count": 45,
   "metadata": {},
   "outputs": [
    {
     "data": {
      "text/html": [
       "<div>\n",
       "<style scoped>\n",
       "    .dataframe tbody tr th:only-of-type {\n",
       "        vertical-align: middle;\n",
       "    }\n",
       "\n",
       "    .dataframe tbody tr th {\n",
       "        vertical-align: top;\n",
       "    }\n",
       "\n",
       "    .dataframe thead th {\n",
       "        text-align: right;\n",
       "    }\n",
       "</style>\n",
       "<table border=\"1\" class=\"dataframe\">\n",
       "  <thead>\n",
       "    <tr style=\"text-align: right;\">\n",
       "      <th></th>\n",
       "      <th>user_id</th>\n",
       "      <th>operator_id_x</th>\n",
       "      <th>calls_count_x</th>\n",
       "      <th>date_x</th>\n",
       "      <th>calls_per_day_operator</th>\n",
       "      <th>calls_count_y</th>\n",
       "      <th>date_y</th>\n",
       "      <th>operator_id_y</th>\n",
       "      <th>calls_per_day_user</th>\n",
       "    </tr>\n",
       "  </thead>\n",
       "  <tbody>\n",
       "    <tr>\n",
       "      <td>0</td>\n",
       "      <td>166377</td>\n",
       "      <td>880020</td>\n",
       "      <td>15</td>\n",
       "      <td>6</td>\n",
       "      <td>2</td>\n",
       "      <td>3164</td>\n",
       "      <td>83</td>\n",
       "      <td>5</td>\n",
       "      <td>7</td>\n",
       "    </tr>\n",
       "    <tr>\n",
       "      <td>1</td>\n",
       "      <td>166377</td>\n",
       "      <td>880022</td>\n",
       "      <td>84</td>\n",
       "      <td>33</td>\n",
       "      <td>3</td>\n",
       "      <td>3164</td>\n",
       "      <td>83</td>\n",
       "      <td>5</td>\n",
       "      <td>7</td>\n",
       "    </tr>\n",
       "    <tr>\n",
       "      <td>2</td>\n",
       "      <td>166377</td>\n",
       "      <td>880026</td>\n",
       "      <td>1560</td>\n",
       "      <td>77</td>\n",
       "      <td>20</td>\n",
       "      <td>3164</td>\n",
       "      <td>83</td>\n",
       "      <td>5</td>\n",
       "      <td>7</td>\n",
       "    </tr>\n",
       "    <tr>\n",
       "      <td>3</td>\n",
       "      <td>166377</td>\n",
       "      <td>880028</td>\n",
       "      <td>1502</td>\n",
       "      <td>77</td>\n",
       "      <td>20</td>\n",
       "      <td>3164</td>\n",
       "      <td>83</td>\n",
       "      <td>5</td>\n",
       "      <td>7</td>\n",
       "    </tr>\n",
       "    <tr>\n",
       "      <td>4</td>\n",
       "      <td>166377</td>\n",
       "      <td>881278</td>\n",
       "      <td>3</td>\n",
       "      <td>1</td>\n",
       "      <td>3</td>\n",
       "      <td>3164</td>\n",
       "      <td>83</td>\n",
       "      <td>5</td>\n",
       "      <td>7</td>\n",
       "    </tr>\n",
       "  </tbody>\n",
       "</table>\n",
       "</div>"
      ],
      "text/plain": [
       "   user_id  operator_id_x  calls_count_x  date_x  calls_per_day_operator  \\\n",
       "0   166377         880020             15       6                       2   \n",
       "1   166377         880022             84      33                       3   \n",
       "2   166377         880026           1560      77                      20   \n",
       "3   166377         880028           1502      77                      20   \n",
       "4   166377         881278              3       1                       3   \n",
       "\n",
       "   calls_count_y  date_y  operator_id_y  calls_per_day_user  \n",
       "0           3164      83              5                   7  \n",
       "1           3164      83              5                   7  \n",
       "2           3164      83              5                   7  \n",
       "3           3164      83              5                   7  \n",
       "4           3164      83              5                   7  "
      ]
     },
     "execution_count": 45,
     "metadata": {},
     "output_type": "execute_result"
    }
   ],
   "source": [
    "merge_telecom_out.head()"
   ]
  },
  {
   "cell_type": "code",
   "execution_count": 46,
   "metadata": {},
   "outputs": [
    {
     "data": {
      "text/html": [
       "<div>\n",
       "<style scoped>\n",
       "    .dataframe tbody tr th:only-of-type {\n",
       "        vertical-align: middle;\n",
       "    }\n",
       "\n",
       "    .dataframe tbody tr th {\n",
       "        vertical-align: top;\n",
       "    }\n",
       "\n",
       "    .dataframe thead th {\n",
       "        text-align: right;\n",
       "    }\n",
       "</style>\n",
       "<table border=\"1\" class=\"dataframe\">\n",
       "  <thead>\n",
       "    <tr style=\"text-align: right;\">\n",
       "      <th></th>\n",
       "      <th>user_id</th>\n",
       "      <th>operator_id_x</th>\n",
       "      <th>calls_count_x</th>\n",
       "      <th>date_x</th>\n",
       "      <th>calls_per_day_operator</th>\n",
       "      <th>calls_count_y</th>\n",
       "      <th>date_y</th>\n",
       "      <th>operator_id_y</th>\n",
       "      <th>calls_per_day_user</th>\n",
       "      <th>category</th>\n",
       "    </tr>\n",
       "  </thead>\n",
       "  <tbody>\n",
       "    <tr>\n",
       "      <td>0</td>\n",
       "      <td>166377</td>\n",
       "      <td>880020</td>\n",
       "      <td>15</td>\n",
       "      <td>6</td>\n",
       "      <td>2</td>\n",
       "      <td>3164</td>\n",
       "      <td>83</td>\n",
       "      <td>5</td>\n",
       "      <td>7</td>\n",
       "      <td>неэффективный</td>\n",
       "    </tr>\n",
       "    <tr>\n",
       "      <td>1</td>\n",
       "      <td>166377</td>\n",
       "      <td>880022</td>\n",
       "      <td>84</td>\n",
       "      <td>33</td>\n",
       "      <td>3</td>\n",
       "      <td>3164</td>\n",
       "      <td>83</td>\n",
       "      <td>5</td>\n",
       "      <td>7</td>\n",
       "      <td>неэффективный</td>\n",
       "    </tr>\n",
       "    <tr>\n",
       "      <td>2</td>\n",
       "      <td>166377</td>\n",
       "      <td>880026</td>\n",
       "      <td>1560</td>\n",
       "      <td>77</td>\n",
       "      <td>20</td>\n",
       "      <td>3164</td>\n",
       "      <td>83</td>\n",
       "      <td>5</td>\n",
       "      <td>7</td>\n",
       "      <td>эффективный</td>\n",
       "    </tr>\n",
       "    <tr>\n",
       "      <td>3</td>\n",
       "      <td>166377</td>\n",
       "      <td>880028</td>\n",
       "      <td>1502</td>\n",
       "      <td>77</td>\n",
       "      <td>20</td>\n",
       "      <td>3164</td>\n",
       "      <td>83</td>\n",
       "      <td>5</td>\n",
       "      <td>7</td>\n",
       "      <td>эффективный</td>\n",
       "    </tr>\n",
       "    <tr>\n",
       "      <td>4</td>\n",
       "      <td>166377</td>\n",
       "      <td>881278</td>\n",
       "      <td>3</td>\n",
       "      <td>1</td>\n",
       "      <td>3</td>\n",
       "      <td>3164</td>\n",
       "      <td>83</td>\n",
       "      <td>5</td>\n",
       "      <td>7</td>\n",
       "      <td>неэффективный</td>\n",
       "    </tr>\n",
       "  </tbody>\n",
       "</table>\n",
       "</div>"
      ],
      "text/plain": [
       "   user_id  operator_id_x  calls_count_x  date_x  calls_per_day_operator  \\\n",
       "0   166377         880020             15       6                       2   \n",
       "1   166377         880022             84      33                       3   \n",
       "2   166377         880026           1560      77                      20   \n",
       "3   166377         880028           1502      77                      20   \n",
       "4   166377         881278              3       1                       3   \n",
       "\n",
       "   calls_count_y  date_y  operator_id_y  calls_per_day_user       category  \n",
       "0           3164      83              5                   7  неэффективный  \n",
       "1           3164      83              5                   7  неэффективный  \n",
       "2           3164      83              5                   7    эффективный  \n",
       "3           3164      83              5                   7    эффективный  \n",
       "4           3164      83              5                   7  неэффективный  "
      ]
     },
     "execution_count": 46,
     "metadata": {},
     "output_type": "execute_result"
    }
   ],
   "source": [
    "def apply_telecom_out(row):\n",
    "    if row['calls_per_day_operator'] < row['calls_per_day_user']:\n",
    "        return 'неэффективный'\n",
    "    elif row['calls_per_day_operator'] >= row['calls_per_day_user']:\n",
    "        return 'эффективный'\n",
    "merge_telecom_out['category'] = merge_telecom_out.apply(apply_telecom_out, axis=1)\n",
    "merge_telecom_out.head()"
   ]
  },
  {
   "cell_type": "code",
   "execution_count": 47,
   "metadata": {},
   "outputs": [
    {
     "name": "stdout",
     "output_type": "stream",
     "text": [
      "Количество операторов по категориям\n",
      "category\n",
      "неэффективный     78\n",
      "эффективный      305\n",
      "Name: category, dtype: int64\n"
     ]
    }
   ],
   "source": [
    "print('Количество операторов по категориям')\n",
    "print(merge_telecom_out.groupby(['category'])['category'].count())"
   ]
  },
  {
   "cell_type": "code",
   "execution_count": 48,
   "metadata": {},
   "outputs": [
    {
     "name": "stdout",
     "output_type": "stream",
     "text": [
      "Количество операторов по категориям\n",
      "category\n",
      "неэффективный     78\n",
      "эффективный      305\n",
      "Name: category, dtype: int64\n"
     ]
    }
   ],
   "source": [
    "print('Количество операторов по категориям')\n",
    "print(merge_telecom_out.groupby(['category'])['category'].count())\n",
    "#Выделяю только неэффективных, чтобы создать список\n",
    "out_list = merge_telecom_out.query('category == \"неэффективный\"')\n",
    "#Список неэфективных операторов по количеству исходящих вызовов в день\n",
    "list_out_id = out_list['operator_id_x'].to_list()"
   ]
  },
  {
   "cell_type": "markdown",
   "metadata": {},
   "source": [
    "#### Доля пропущенных вызовов на одного оператора в день"
   ]
  },
  {
   "cell_type": "markdown",
   "metadata": {},
   "source": [
    "Рассматриваю датасет с колл-центрами, которые специализируются на входящих вызовах.\n",
    "\n",
    "Выбираю входящие вызовы.\n",
    "\n",
    "Считаю долю пропущенных звонков от общего количества звонков в день (в %).\n",
    "\n",
    "Считаю долю для каждого колл-центра в день и сравниваю с долей пропущенных вызовов на одного оператора в день. Если оператор пропускает больше, то он считается неэффективным."
   ]
  },
  {
   "cell_type": "code",
   "execution_count": 49,
   "metadata": {},
   "outputs": [],
   "source": [
    "#Преобразовываю логические значения для дальнейших вычислений\n",
    "telecom_in = telecom_in[telecom_in['is_missed_call'].notnull()].copy()\n",
    "telecom_in[\"is_missed_call\"] = telecom_in[\"is_missed_call\"].astype(int)\n",
    "#Преобразовываю логические значения для дальнейших вычислений\n",
    "telecom_in = telecom_in[telecom_in['internal'].notnull()].copy()\n",
    "telecom_in['internal'] = telecom_in['internal'].astype(int)"
   ]
  },
  {
   "cell_type": "code",
   "execution_count": 50,
   "metadata": {},
   "outputs": [],
   "source": [
    "#Датасет с пропущенными вызовами\n",
    "#variable = 1\n",
    "#telecom_in_true = telecom_in.query('is_missed_call == @variable')\n",
    "#False=0, True=1"
   ]
  },
  {
   "cell_type": "code",
   "execution_count": 51,
   "metadata": {},
   "outputs": [],
   "source": [
    "#Проверка\n",
    "#telecom_in.groupby(['direction','internal','is_missed_call'])['operator_id'].count()"
   ]
  },
  {
   "cell_type": "code",
   "execution_count": 52,
   "metadata": {},
   "outputs": [
    {
     "data": {
      "text/html": [
       "<div>\n",
       "<style scoped>\n",
       "    .dataframe tbody tr th:only-of-type {\n",
       "        vertical-align: middle;\n",
       "    }\n",
       "\n",
       "    .dataframe tbody tr th {\n",
       "        vertical-align: top;\n",
       "    }\n",
       "\n",
       "    .dataframe thead th {\n",
       "        text-align: right;\n",
       "    }\n",
       "</style>\n",
       "<table border=\"1\" class=\"dataframe\">\n",
       "  <thead>\n",
       "    <tr style=\"text-align: right;\">\n",
       "      <th></th>\n",
       "      <th>operator_id</th>\n",
       "      <th>calls_count_missed</th>\n",
       "    </tr>\n",
       "  </thead>\n",
       "  <tbody>\n",
       "    <tr>\n",
       "      <td>0</td>\n",
       "      <td>882680</td>\n",
       "      <td>3</td>\n",
       "    </tr>\n",
       "    <tr>\n",
       "      <td>1</td>\n",
       "      <td>882684</td>\n",
       "      <td>4</td>\n",
       "    </tr>\n",
       "    <tr>\n",
       "      <td>2</td>\n",
       "      <td>882686</td>\n",
       "      <td>5</td>\n",
       "    </tr>\n",
       "    <tr>\n",
       "      <td>3</td>\n",
       "      <td>882690</td>\n",
       "      <td>2</td>\n",
       "    </tr>\n",
       "    <tr>\n",
       "      <td>4</td>\n",
       "      <td>884408</td>\n",
       "      <td>2</td>\n",
       "    </tr>\n",
       "  </tbody>\n",
       "</table>\n",
       "</div>"
      ],
      "text/plain": [
       "   operator_id  calls_count_missed\n",
       "0       882680                   3\n",
       "1       882684                   4\n",
       "2       882686                   5\n",
       "3       882690                   2\n",
       "4       884408                   2"
      ]
     },
     "execution_count": 52,
     "metadata": {},
     "output_type": "execute_result"
    }
   ],
   "source": [
    "#Считаю количество пропущенных вызовов оператором\n",
    "user_calls_telecom_in_true = telecom_in.loc[(telecom_in['direction'] == 'in') & (telecom_in['internal'] == 0) & (telecom_in['is_missed_call'] == 1)].groupby(['operator_id'])\\\n",
    "                  .agg({'calls_count':'count'})\\\n",
    "                  .reset_index()\n",
    "user_calls_telecom_in_true.rename(columns={'calls_count': 'calls_count_missed'}, inplace=True)\n",
    "user_calls_telecom_in_true.head()"
   ]
  },
  {
   "cell_type": "code",
   "execution_count": 53,
   "metadata": {},
   "outputs": [
    {
     "data": {
      "text/html": [
       "<div>\n",
       "<style scoped>\n",
       "    .dataframe tbody tr th:only-of-type {\n",
       "        vertical-align: middle;\n",
       "    }\n",
       "\n",
       "    .dataframe tbody tr th {\n",
       "        vertical-align: top;\n",
       "    }\n",
       "\n",
       "    .dataframe thead th {\n",
       "        text-align: right;\n",
       "    }\n",
       "</style>\n",
       "<table border=\"1\" class=\"dataframe\">\n",
       "  <thead>\n",
       "    <tr style=\"text-align: right;\">\n",
       "      <th></th>\n",
       "      <th>user_id</th>\n",
       "      <th>operator_id</th>\n",
       "      <th>calls_count_all</th>\n",
       "      <th>date</th>\n",
       "    </tr>\n",
       "  </thead>\n",
       "  <tbody>\n",
       "    <tr>\n",
       "      <td>0</td>\n",
       "      <td>166391</td>\n",
       "      <td>882476</td>\n",
       "      <td>3</td>\n",
       "      <td>3</td>\n",
       "    </tr>\n",
       "    <tr>\n",
       "      <td>1</td>\n",
       "      <td>166391</td>\n",
       "      <td>882478</td>\n",
       "      <td>1</td>\n",
       "      <td>1</td>\n",
       "    </tr>\n",
       "    <tr>\n",
       "      <td>2</td>\n",
       "      <td>166392</td>\n",
       "      <td>886892</td>\n",
       "      <td>1</td>\n",
       "      <td>1</td>\n",
       "    </tr>\n",
       "    <tr>\n",
       "      <td>3</td>\n",
       "      <td>166392</td>\n",
       "      <td>891900</td>\n",
       "      <td>17</td>\n",
       "      <td>17</td>\n",
       "    </tr>\n",
       "    <tr>\n",
       "      <td>4</td>\n",
       "      <td>166392</td>\n",
       "      <td>891906</td>\n",
       "      <td>29</td>\n",
       "      <td>29</td>\n",
       "    </tr>\n",
       "  </tbody>\n",
       "</table>\n",
       "</div>"
      ],
      "text/plain": [
       "   user_id  operator_id  calls_count_all  date\n",
       "0   166391       882476                3     3\n",
       "1   166391       882478                1     1\n",
       "2   166392       886892                1     1\n",
       "3   166392       891900               17    17\n",
       "4   166392       891906               29    29"
      ]
     },
     "execution_count": 53,
     "metadata": {},
     "output_type": "execute_result"
    }
   ],
   "source": [
    "#Считаю общее количество всех вызовов оператора и количество рабочих дней\n",
    "user_calls_telecom_in_all = telecom_in.loc[(telecom_in['direction'] == 'in') & (telecom_in['internal'] == 0)].groupby(['user_id','operator_id'])\\\n",
    "                  .agg({'calls_count':'count','date' : 'nunique'})\\\n",
    "                  .reset_index()\n",
    "user_calls_telecom_in_all.rename(columns={'calls_count': 'calls_count_all'}, inplace=True)\n",
    "user_calls_telecom_in_all.head()"
   ]
  },
  {
   "cell_type": "code",
   "execution_count": 54,
   "metadata": {},
   "outputs": [],
   "source": [
    "#Соединяю два сгруппированных датафрейма для того, чтобы посчитать долю пропущенных вызовов в день\n",
    "merge_telecom_in = user_calls_telecom_in_all.merge(user_calls_telecom_in_true, on = 'operator_id', how='left')\n",
    "#NaN заменяю на 0, значит, что нет пропущенных вызовов\n",
    "merge_telecom_in= merge_telecom_in.fillna(0)\n",
    "#Привоже столбец calls_count_missed к типу int\n",
    "merge_telecom_in['calls_count_missed']=merge_telecom_in['calls_count_missed'].round(2).astype(int)"
   ]
  },
  {
   "cell_type": "code",
   "execution_count": 55,
   "metadata": {},
   "outputs": [],
   "source": [
    "#Считаю долю пропущенных вызовов каждого оператора в день от общего количества вызовов\n",
    "merge_telecom_in['%_missed_per_day_operator']=(((merge_telecom_in['calls_count_missed']/merge_telecom_in['calls_count_all'])/merge_telecom_in['date'])*100)"
   ]
  },
  {
   "cell_type": "code",
   "execution_count": 56,
   "metadata": {},
   "outputs": [
    {
     "data": {
      "text/html": [
       "<div>\n",
       "<style scoped>\n",
       "    .dataframe tbody tr th:only-of-type {\n",
       "        vertical-align: middle;\n",
       "    }\n",
       "\n",
       "    .dataframe tbody tr th {\n",
       "        vertical-align: top;\n",
       "    }\n",
       "\n",
       "    .dataframe thead th {\n",
       "        text-align: right;\n",
       "    }\n",
       "</style>\n",
       "<table border=\"1\" class=\"dataframe\">\n",
       "  <thead>\n",
       "    <tr style=\"text-align: right;\">\n",
       "      <th></th>\n",
       "      <th>user_id</th>\n",
       "      <th>operator_id</th>\n",
       "      <th>calls_count_all</th>\n",
       "      <th>date</th>\n",
       "      <th>calls_count_missed</th>\n",
       "      <th>%_missed_per_day_operator</th>\n",
       "    </tr>\n",
       "  </thead>\n",
       "  <tbody>\n",
       "    <tr>\n",
       "      <td>0</td>\n",
       "      <td>166391</td>\n",
       "      <td>882476</td>\n",
       "      <td>3</td>\n",
       "      <td>3</td>\n",
       "      <td>0</td>\n",
       "      <td>0.00</td>\n",
       "    </tr>\n",
       "    <tr>\n",
       "      <td>1</td>\n",
       "      <td>166391</td>\n",
       "      <td>882478</td>\n",
       "      <td>1</td>\n",
       "      <td>1</td>\n",
       "      <td>0</td>\n",
       "      <td>0.00</td>\n",
       "    </tr>\n",
       "    <tr>\n",
       "      <td>2</td>\n",
       "      <td>166392</td>\n",
       "      <td>886892</td>\n",
       "      <td>1</td>\n",
       "      <td>1</td>\n",
       "      <td>0</td>\n",
       "      <td>0.00</td>\n",
       "    </tr>\n",
       "    <tr>\n",
       "      <td>3</td>\n",
       "      <td>166392</td>\n",
       "      <td>891900</td>\n",
       "      <td>17</td>\n",
       "      <td>17</td>\n",
       "      <td>0</td>\n",
       "      <td>0.00</td>\n",
       "    </tr>\n",
       "    <tr>\n",
       "      <td>4</td>\n",
       "      <td>166392</td>\n",
       "      <td>891906</td>\n",
       "      <td>29</td>\n",
       "      <td>29</td>\n",
       "      <td>0</td>\n",
       "      <td>0.00</td>\n",
       "    </tr>\n",
       "  </tbody>\n",
       "</table>\n",
       "</div>"
      ],
      "text/plain": [
       "   user_id  operator_id  calls_count_all  date  calls_count_missed  \\\n",
       "0   166391       882476                3     3                   0   \n",
       "1   166391       882478                1     1                   0   \n",
       "2   166392       886892                1     1                   0   \n",
       "3   166392       891900               17    17                   0   \n",
       "4   166392       891906               29    29                   0   \n",
       "\n",
       "   %_missed_per_day_operator  \n",
       "0                       0.00  \n",
       "1                       0.00  \n",
       "2                       0.00  \n",
       "3                       0.00  \n",
       "4                       0.00  "
      ]
     },
     "execution_count": 56,
     "metadata": {},
     "output_type": "execute_result"
    }
   ],
   "source": [
    "merge_telecom_in.head()"
   ]
  },
  {
   "cell_type": "code",
   "execution_count": 57,
   "metadata": {},
   "outputs": [
    {
     "data": {
      "text/html": [
       "<div>\n",
       "<style scoped>\n",
       "    .dataframe tbody tr th:only-of-type {\n",
       "        vertical-align: middle;\n",
       "    }\n",
       "\n",
       "    .dataframe tbody tr th {\n",
       "        vertical-align: top;\n",
       "    }\n",
       "\n",
       "    .dataframe thead th {\n",
       "        text-align: right;\n",
       "    }\n",
       "</style>\n",
       "<table border=\"1\" class=\"dataframe\">\n",
       "  <thead>\n",
       "    <tr style=\"text-align: right;\">\n",
       "      <th></th>\n",
       "      <th>calls_count_all</th>\n",
       "      <th>calls_count_missed</th>\n",
       "      <th>date</th>\n",
       "      <th>operator_id</th>\n",
       "    </tr>\n",
       "    <tr>\n",
       "      <th>user_id</th>\n",
       "      <th></th>\n",
       "      <th></th>\n",
       "      <th></th>\n",
       "      <th></th>\n",
       "    </tr>\n",
       "  </thead>\n",
       "  <tbody>\n",
       "    <tr>\n",
       "      <td>166391</td>\n",
       "      <td>4</td>\n",
       "      <td>0</td>\n",
       "      <td>2</td>\n",
       "      <td>2</td>\n",
       "    </tr>\n",
       "    <tr>\n",
       "      <td>166392</td>\n",
       "      <td>47</td>\n",
       "      <td>0</td>\n",
       "      <td>3</td>\n",
       "      <td>3</td>\n",
       "    </tr>\n",
       "    <tr>\n",
       "      <td>166399</td>\n",
       "      <td>9</td>\n",
       "      <td>0</td>\n",
       "      <td>1</td>\n",
       "      <td>1</td>\n",
       "    </tr>\n",
       "    <tr>\n",
       "      <td>166405</td>\n",
       "      <td>248</td>\n",
       "      <td>16</td>\n",
       "      <td>9</td>\n",
       "      <td>10</td>\n",
       "    </tr>\n",
       "    <tr>\n",
       "      <td>166406</td>\n",
       "      <td>77</td>\n",
       "      <td>0</td>\n",
       "      <td>2</td>\n",
       "      <td>2</td>\n",
       "    </tr>\n",
       "  </tbody>\n",
       "</table>\n",
       "</div>"
      ],
      "text/plain": [
       "         calls_count_all  calls_count_missed  date  operator_id\n",
       "user_id                                                        \n",
       "166391                 4                   0     2            2\n",
       "166392                47                   0     3            3\n",
       "166399                 9                   0     1            1\n",
       "166405               248                  16     9           10\n",
       "166406                77                   0     2            2"
      ]
     },
     "execution_count": 57,
     "metadata": {},
     "output_type": "execute_result"
    }
   ],
   "source": [
    "#Считаю долю пропущенных вызовов каждого колл-центра в день\n",
    "missed_call_user = merge_telecom_in.groupby(['user_id'])\\\n",
    "                  .agg({'calls_count_all':'sum','calls_count_missed' : 'sum','date':'nunique','operator_id':'nunique'})\n",
    "missed_call_user.head()"
   ]
  },
  {
   "cell_type": "code",
   "execution_count": 58,
   "metadata": {},
   "outputs": [],
   "source": [
    "#Доля пропущенных вызово на одного оператора в день в каждом колл-центре\n",
    "missed_call_user['%_missed_per_day_user']=(((((missed_call_user['calls_count_missed']/missed_call_user['calls_count_all'])/missed_call_user['date'])))/missed_call_user['operator_id'])*100"
   ]
  },
  {
   "cell_type": "code",
   "execution_count": 59,
   "metadata": {},
   "outputs": [],
   "source": [
    "merge_missed_call_user = missed_call_user.merge(merge_telecom_in, on = 'user_id', how='right')"
   ]
  },
  {
   "cell_type": "code",
   "execution_count": 60,
   "metadata": {},
   "outputs": [
    {
     "data": {
      "text/html": [
       "<div>\n",
       "<style scoped>\n",
       "    .dataframe tbody tr th:only-of-type {\n",
       "        vertical-align: middle;\n",
       "    }\n",
       "\n",
       "    .dataframe tbody tr th {\n",
       "        vertical-align: top;\n",
       "    }\n",
       "\n",
       "    .dataframe thead th {\n",
       "        text-align: right;\n",
       "    }\n",
       "</style>\n",
       "<table border=\"1\" class=\"dataframe\">\n",
       "  <thead>\n",
       "    <tr style=\"text-align: right;\">\n",
       "      <th></th>\n",
       "      <th>user_id</th>\n",
       "      <th>calls_count_all_x</th>\n",
       "      <th>calls_count_missed_x</th>\n",
       "      <th>date_x</th>\n",
       "      <th>operator_id_x</th>\n",
       "      <th>%_missed_per_day_user</th>\n",
       "      <th>operator_id_y</th>\n",
       "      <th>calls_count_all_y</th>\n",
       "      <th>date_y</th>\n",
       "      <th>calls_count_missed_y</th>\n",
       "      <th>%_missed_per_day_operator</th>\n",
       "    </tr>\n",
       "  </thead>\n",
       "  <tbody>\n",
       "    <tr>\n",
       "      <td>0</td>\n",
       "      <td>166391</td>\n",
       "      <td>4</td>\n",
       "      <td>0</td>\n",
       "      <td>2</td>\n",
       "      <td>2</td>\n",
       "      <td>0.00</td>\n",
       "      <td>882476</td>\n",
       "      <td>3</td>\n",
       "      <td>3</td>\n",
       "      <td>0</td>\n",
       "      <td>0.00</td>\n",
       "    </tr>\n",
       "    <tr>\n",
       "      <td>1</td>\n",
       "      <td>166391</td>\n",
       "      <td>4</td>\n",
       "      <td>0</td>\n",
       "      <td>2</td>\n",
       "      <td>2</td>\n",
       "      <td>0.00</td>\n",
       "      <td>882478</td>\n",
       "      <td>1</td>\n",
       "      <td>1</td>\n",
       "      <td>0</td>\n",
       "      <td>0.00</td>\n",
       "    </tr>\n",
       "    <tr>\n",
       "      <td>2</td>\n",
       "      <td>166392</td>\n",
       "      <td>47</td>\n",
       "      <td>0</td>\n",
       "      <td>3</td>\n",
       "      <td>3</td>\n",
       "      <td>0.00</td>\n",
       "      <td>886892</td>\n",
       "      <td>1</td>\n",
       "      <td>1</td>\n",
       "      <td>0</td>\n",
       "      <td>0.00</td>\n",
       "    </tr>\n",
       "    <tr>\n",
       "      <td>3</td>\n",
       "      <td>166392</td>\n",
       "      <td>47</td>\n",
       "      <td>0</td>\n",
       "      <td>3</td>\n",
       "      <td>3</td>\n",
       "      <td>0.00</td>\n",
       "      <td>891900</td>\n",
       "      <td>17</td>\n",
       "      <td>17</td>\n",
       "      <td>0</td>\n",
       "      <td>0.00</td>\n",
       "    </tr>\n",
       "    <tr>\n",
       "      <td>4</td>\n",
       "      <td>166392</td>\n",
       "      <td>47</td>\n",
       "      <td>0</td>\n",
       "      <td>3</td>\n",
       "      <td>3</td>\n",
       "      <td>0.00</td>\n",
       "      <td>891906</td>\n",
       "      <td>29</td>\n",
       "      <td>29</td>\n",
       "      <td>0</td>\n",
       "      <td>0.00</td>\n",
       "    </tr>\n",
       "  </tbody>\n",
       "</table>\n",
       "</div>"
      ],
      "text/plain": [
       "   user_id  calls_count_all_x  calls_count_missed_x  date_x  operator_id_x  \\\n",
       "0   166391                  4                     0       2              2   \n",
       "1   166391                  4                     0       2              2   \n",
       "2   166392                 47                     0       3              3   \n",
       "3   166392                 47                     0       3              3   \n",
       "4   166392                 47                     0       3              3   \n",
       "\n",
       "   %_missed_per_day_user  operator_id_y  calls_count_all_y  date_y  \\\n",
       "0                   0.00         882476                  3       3   \n",
       "1                   0.00         882478                  1       1   \n",
       "2                   0.00         886892                  1       1   \n",
       "3                   0.00         891900                 17      17   \n",
       "4                   0.00         891906                 29      29   \n",
       "\n",
       "   calls_count_missed_y  %_missed_per_day_operator  \n",
       "0                     0                       0.00  \n",
       "1                     0                       0.00  \n",
       "2                     0                       0.00  \n",
       "3                     0                       0.00  \n",
       "4                     0                       0.00  "
      ]
     },
     "execution_count": 60,
     "metadata": {},
     "output_type": "execute_result"
    }
   ],
   "source": [
    "merge_missed_call_user.head()"
   ]
  },
  {
   "cell_type": "code",
   "execution_count": 61,
   "metadata": {},
   "outputs": [
    {
     "data": {
      "text/html": [
       "<div>\n",
       "<style scoped>\n",
       "    .dataframe tbody tr th:only-of-type {\n",
       "        vertical-align: middle;\n",
       "    }\n",
       "\n",
       "    .dataframe tbody tr th {\n",
       "        vertical-align: top;\n",
       "    }\n",
       "\n",
       "    .dataframe thead th {\n",
       "        text-align: right;\n",
       "    }\n",
       "</style>\n",
       "<table border=\"1\" class=\"dataframe\">\n",
       "  <thead>\n",
       "    <tr style=\"text-align: right;\">\n",
       "      <th></th>\n",
       "      <th>user_id</th>\n",
       "      <th>calls_count_all_x</th>\n",
       "      <th>calls_count_missed_x</th>\n",
       "      <th>date_x</th>\n",
       "      <th>operator_id_x</th>\n",
       "      <th>%_missed_per_day_user</th>\n",
       "      <th>operator_id_y</th>\n",
       "      <th>calls_count_all_y</th>\n",
       "      <th>date_y</th>\n",
       "      <th>calls_count_missed_y</th>\n",
       "      <th>%_missed_per_day_operator</th>\n",
       "      <th>category</th>\n",
       "    </tr>\n",
       "  </thead>\n",
       "  <tbody>\n",
       "    <tr>\n",
       "      <td>0</td>\n",
       "      <td>166391</td>\n",
       "      <td>4</td>\n",
       "      <td>0</td>\n",
       "      <td>2</td>\n",
       "      <td>2</td>\n",
       "      <td>0.00</td>\n",
       "      <td>882476</td>\n",
       "      <td>3</td>\n",
       "      <td>3</td>\n",
       "      <td>0</td>\n",
       "      <td>0.00</td>\n",
       "      <td>неэффективный</td>\n",
       "    </tr>\n",
       "    <tr>\n",
       "      <td>1</td>\n",
       "      <td>166391</td>\n",
       "      <td>4</td>\n",
       "      <td>0</td>\n",
       "      <td>2</td>\n",
       "      <td>2</td>\n",
       "      <td>0.00</td>\n",
       "      <td>882478</td>\n",
       "      <td>1</td>\n",
       "      <td>1</td>\n",
       "      <td>0</td>\n",
       "      <td>0.00</td>\n",
       "      <td>неэффективный</td>\n",
       "    </tr>\n",
       "    <tr>\n",
       "      <td>2</td>\n",
       "      <td>166392</td>\n",
       "      <td>47</td>\n",
       "      <td>0</td>\n",
       "      <td>3</td>\n",
       "      <td>3</td>\n",
       "      <td>0.00</td>\n",
       "      <td>886892</td>\n",
       "      <td>1</td>\n",
       "      <td>1</td>\n",
       "      <td>0</td>\n",
       "      <td>0.00</td>\n",
       "      <td>неэффективный</td>\n",
       "    </tr>\n",
       "    <tr>\n",
       "      <td>3</td>\n",
       "      <td>166392</td>\n",
       "      <td>47</td>\n",
       "      <td>0</td>\n",
       "      <td>3</td>\n",
       "      <td>3</td>\n",
       "      <td>0.00</td>\n",
       "      <td>891900</td>\n",
       "      <td>17</td>\n",
       "      <td>17</td>\n",
       "      <td>0</td>\n",
       "      <td>0.00</td>\n",
       "      <td>неэффективный</td>\n",
       "    </tr>\n",
       "    <tr>\n",
       "      <td>4</td>\n",
       "      <td>166392</td>\n",
       "      <td>47</td>\n",
       "      <td>0</td>\n",
       "      <td>3</td>\n",
       "      <td>3</td>\n",
       "      <td>0.00</td>\n",
       "      <td>891906</td>\n",
       "      <td>29</td>\n",
       "      <td>29</td>\n",
       "      <td>0</td>\n",
       "      <td>0.00</td>\n",
       "      <td>неэффективный</td>\n",
       "    </tr>\n",
       "  </tbody>\n",
       "</table>\n",
       "</div>"
      ],
      "text/plain": [
       "   user_id  calls_count_all_x  calls_count_missed_x  date_x  operator_id_x  \\\n",
       "0   166391                  4                     0       2              2   \n",
       "1   166391                  4                     0       2              2   \n",
       "2   166392                 47                     0       3              3   \n",
       "3   166392                 47                     0       3              3   \n",
       "4   166392                 47                     0       3              3   \n",
       "\n",
       "   %_missed_per_day_user  operator_id_y  calls_count_all_y  date_y  \\\n",
       "0                   0.00         882476                  3       3   \n",
       "1                   0.00         882478                  1       1   \n",
       "2                   0.00         886892                  1       1   \n",
       "3                   0.00         891900                 17      17   \n",
       "4                   0.00         891906                 29      29   \n",
       "\n",
       "   calls_count_missed_y  %_missed_per_day_operator       category  \n",
       "0                     0                       0.00  неэффективный  \n",
       "1                     0                       0.00  неэффективный  \n",
       "2                     0                       0.00  неэффективный  \n",
       "3                     0                       0.00  неэффективный  \n",
       "4                     0                       0.00  неэффективный  "
      ]
     },
     "execution_count": 61,
     "metadata": {},
     "output_type": "execute_result"
    }
   ],
   "source": [
    "def missed_in(row):\n",
    "    if row['%_missed_per_day_operator'] >= row['%_missed_per_day_user']:\n",
    "        return 'неэффективный'\n",
    "    elif row['%_missed_per_day_operator'] < row['%_missed_per_day_user']:\n",
    "        return 'эффективный'\n",
    "merge_missed_call_user['category'] = merge_missed_call_user.apply(missed_in, axis=1)\n",
    "merge_missed_call_user.head()"
   ]
  },
  {
   "cell_type": "code",
   "execution_count": 62,
   "metadata": {
    "scrolled": true
   },
   "outputs": [
    {
     "name": "stdout",
     "output_type": "stream",
     "text": [
      "Количество операторов по категориям\n",
      "category\n",
      "неэффективный    319\n",
      "эффективный      251\n",
      "Name: category, dtype: int64\n"
     ]
    }
   ],
   "source": [
    "print('Количество операторов по категориям')\n",
    "print(merge_missed_call_user.groupby(['category'])['category'].count())\n",
    "#Выделяю только неэффективных, чтобы создать список\n",
    "merge_missed_call_user = merge_missed_call_user.query('category == \"неэффективный\"')\n",
    "#Список неэфективных операторов по доле пропущенных вызовов\n",
    "merge_missed_call_user = merge_missed_call_user.rename(columns={'operator_id_y': 'operator_id'}) \n",
    "list_missed_per_day = merge_missed_call_user['operator_id'].to_list()"
   ]
  },
  {
   "cell_type": "markdown",
   "metadata": {},
   "source": [
    "#### Среднее время ожидания ответа при внешнем входящем вызове"
   ]
  },
  {
   "cell_type": "markdown",
   "metadata": {},
   "source": [
    "Необходимо выбрать только внешние входящие вызовы.\n",
    "\n",
    "Необходимо посчитать медианное время ожидания ответа для каждого колл-центра. Если медианное время ожидания ответа на звонок больше, чем медианное время ожидания звонка в колл-центре, то оператор считается неэффективным."
   ]
  },
  {
   "cell_type": "code",
   "execution_count": 64,
   "metadata": {},
   "outputs": [],
   "source": [
    "#Датасет в котором будут только внешние вызовы (Убрать все значения True из столбца internal) колл-центров, которые\n",
    "#специализируются на входящих вызовах\n",
    "variable = 0\n",
    "telecom_dataset_time = telecom_in.query('internal == @variable')\n",
    "#False=0, True=1"
   ]
  },
  {
   "cell_type": "code",
   "execution_count": 65,
   "metadata": {},
   "outputs": [],
   "source": [
    "#Добалвяю столбец времени ожидания ответа, вычитая из общей длительности разговора длительность разговора без учета времени оиждания\n",
    "#перевожу секунды в минуты\n",
    "telecom_dataset_time['waiting_duration']=(telecom_dataset_time['total_call_duration']-telecom_dataset_time['call_duration'])/60"
   ]
  },
  {
   "cell_type": "code",
   "execution_count": 66,
   "metadata": {},
   "outputs": [
    {
     "data": {
      "text/html": [
       "<div>\n",
       "<style scoped>\n",
       "    .dataframe tbody tr th:only-of-type {\n",
       "        vertical-align: middle;\n",
       "    }\n",
       "\n",
       "    .dataframe tbody tr th {\n",
       "        vertical-align: top;\n",
       "    }\n",
       "\n",
       "    .dataframe thead th {\n",
       "        text-align: right;\n",
       "    }\n",
       "</style>\n",
       "<table border=\"1\" class=\"dataframe\">\n",
       "  <thead>\n",
       "    <tr style=\"text-align: right;\">\n",
       "      <th></th>\n",
       "      <th>user_id</th>\n",
       "      <th>waiting_duration_median_user</th>\n",
       "      <th>operator_id</th>\n",
       "    </tr>\n",
       "  </thead>\n",
       "  <tbody>\n",
       "    <tr>\n",
       "      <td>0</td>\n",
       "      <td>166391</td>\n",
       "      <td>0.28</td>\n",
       "      <td>2</td>\n",
       "    </tr>\n",
       "    <tr>\n",
       "      <td>1</td>\n",
       "      <td>166392</td>\n",
       "      <td>0.87</td>\n",
       "      <td>3</td>\n",
       "    </tr>\n",
       "    <tr>\n",
       "      <td>2</td>\n",
       "      <td>166399</td>\n",
       "      <td>0.18</td>\n",
       "      <td>1</td>\n",
       "    </tr>\n",
       "    <tr>\n",
       "      <td>3</td>\n",
       "      <td>166405</td>\n",
       "      <td>2.27</td>\n",
       "      <td>10</td>\n",
       "    </tr>\n",
       "    <tr>\n",
       "      <td>4</td>\n",
       "      <td>166406</td>\n",
       "      <td>3.30</td>\n",
       "      <td>3</td>\n",
       "    </tr>\n",
       "  </tbody>\n",
       "</table>\n",
       "</div>"
      ],
      "text/plain": [
       "   user_id  waiting_duration_median_user  operator_id\n",
       "0   166391                          0.28            2\n",
       "1   166392                          0.87            3\n",
       "2   166399                          0.18            1\n",
       "3   166405                          2.27           10\n",
       "4   166406                          3.30            3"
      ]
     },
     "execution_count": 66,
     "metadata": {},
     "output_type": "execute_result"
    }
   ],
   "source": [
    "#Считаю медианное время ожидания ответа для каждого колл-центра\n",
    "telecom_dataset_time_waiting_user = telecom_dataset_time.groupby(['user_id'])\\\n",
    "                  .agg({'waiting_duration':'median','operator_id' : 'nunique'})\\\n",
    "                  .reset_index()\n",
    "telecom_dataset_time_waiting_user = telecom_dataset_time_waiting_user.rename(columns={'waiting_duration': 'waiting_duration_median_user'}) \n",
    "telecom_dataset_time_waiting_user.head()"
   ]
  },
  {
   "cell_type": "code",
   "execution_count": 67,
   "metadata": {},
   "outputs": [
    {
     "data": {
      "text/html": [
       "<div>\n",
       "<style scoped>\n",
       "    .dataframe tbody tr th:only-of-type {\n",
       "        vertical-align: middle;\n",
       "    }\n",
       "\n",
       "    .dataframe tbody tr th {\n",
       "        vertical-align: top;\n",
       "    }\n",
       "\n",
       "    .dataframe thead th {\n",
       "        text-align: right;\n",
       "    }\n",
       "</style>\n",
       "<table border=\"1\" class=\"dataframe\">\n",
       "  <thead>\n",
       "    <tr style=\"text-align: right;\">\n",
       "      <th></th>\n",
       "      <th>user_id</th>\n",
       "      <th>operator_id</th>\n",
       "      <th>waiting_duration_median_operator</th>\n",
       "    </tr>\n",
       "  </thead>\n",
       "  <tbody>\n",
       "    <tr>\n",
       "      <td>0</td>\n",
       "      <td>166391</td>\n",
       "      <td>882476</td>\n",
       "      <td>0.33</td>\n",
       "    </tr>\n",
       "    <tr>\n",
       "      <td>1</td>\n",
       "      <td>166391</td>\n",
       "      <td>882478</td>\n",
       "      <td>0.22</td>\n",
       "    </tr>\n",
       "    <tr>\n",
       "      <td>2</td>\n",
       "      <td>166392</td>\n",
       "      <td>886892</td>\n",
       "      <td>0.97</td>\n",
       "    </tr>\n",
       "    <tr>\n",
       "      <td>3</td>\n",
       "      <td>166392</td>\n",
       "      <td>891900</td>\n",
       "      <td>0.85</td>\n",
       "    </tr>\n",
       "    <tr>\n",
       "      <td>4</td>\n",
       "      <td>166392</td>\n",
       "      <td>891906</td>\n",
       "      <td>0.87</td>\n",
       "    </tr>\n",
       "  </tbody>\n",
       "</table>\n",
       "</div>"
      ],
      "text/plain": [
       "   user_id  operator_id  waiting_duration_median_operator\n",
       "0   166391       882476                              0.33\n",
       "1   166391       882478                              0.22\n",
       "2   166392       886892                              0.97\n",
       "3   166392       891900                              0.85\n",
       "4   166392       891906                              0.87"
      ]
     },
     "execution_count": 67,
     "metadata": {},
     "output_type": "execute_result"
    }
   ],
   "source": [
    "#Считаю медианное время ожидания для каждого оператора\n",
    "telecom_dataset_time_waiting_operator = telecom_dataset_time.groupby(['user_id','operator_id'])\\\n",
    "                  .agg({'waiting_duration':'median'})\\\n",
    "                  .reset_index()\n",
    "telecom_dataset_time_waiting_operator = telecom_dataset_time_waiting_operator.rename(columns={'waiting_duration': 'waiting_duration_median_operator'}) \n",
    "telecom_dataset_time_waiting_operator.head()"
   ]
  },
  {
   "cell_type": "code",
   "execution_count": 68,
   "metadata": {},
   "outputs": [],
   "source": [
    "#Объединяю датафреймы\n",
    "telecom_dataset_time_waiting = telecom_dataset_time_waiting_user.merge(telecom_dataset_time_waiting_operator, on = 'user_id', how='left')"
   ]
  },
  {
   "cell_type": "code",
   "execution_count": 69,
   "metadata": {
    "scrolled": true
   },
   "outputs": [],
   "source": [
    "#Добавляю столбец с классификацией операторов\n",
    "def waiting_duration(row):\n",
    "    if row['waiting_duration_median_operator'] >= row['waiting_duration_median_user']:\n",
    "        return 'неэффективный'\n",
    "    elif row['waiting_duration_median_operator'] < row['waiting_duration_median_user']:\n",
    "        return 'эффективный'\n",
    "telecom_dataset_time_waiting['category'] = telecom_dataset_time_waiting.apply(waiting_duration, axis=1)"
   ]
  },
  {
   "cell_type": "code",
   "execution_count": 70,
   "metadata": {},
   "outputs": [
    {
     "name": "stdout",
     "output_type": "stream",
     "text": [
      "Количество операторов по категориям\n",
      "        category  operator_id_y\n",
      "0  неэффективный            340\n",
      "1    эффективный            297\n"
     ]
    }
   ],
   "source": [
    "print('Количество операторов по категориям')\n",
    "print(telecom_dataset_time_waiting.groupby(['category'])\\\n",
    "                  .agg({'operator_id_y':'nunique'})\\\n",
    "                  .reset_index())\n",
    "#Выделяю только неэффективных, чтобы создать список\n",
    "#long_waiting_duration = telecom_dataset_time_waiting.loc[(telecom_dataset_time_waiting['category'] == 'неэффективный')]\n",
    "long_waiting_duration = telecom_dataset_time_waiting.query('category == \"неэффективный\"')\n",
    "#Список неэфективных операторов по длительности ожидания ответа оператора\n",
    "long_waiting_duration = long_waiting_duration.rename(columns={'operator_id_y': 'operator_id'}) \n",
    "list_long_waiting_duration = long_waiting_duration['operator_id'].to_list()"
   ]
  },
  {
   "cell_type": "markdown",
   "metadata": {},
   "source": [
    "Итого получила 3 списка неэффективных операторов согласно критериям."
   ]
  },
  {
   "cell_type": "markdown",
   "metadata": {},
   "source": [
    "Cписок list_out_id относится к колл-центрам, которые специализируются на исходящих вызовах; списки list_missed_per_day и list_long_waiting_duration на колл-центрах, которые специализируются на входящих вызовах."
   ]
  },
  {
   "cell_type": "markdown",
   "metadata": {},
   "source": [
    "## Неэффективные операторы"
   ]
  },
  {
   "cell_type": "markdown",
   "metadata": {},
   "source": [
    "1. Исходящие колл-центры\n",
    "\n",
    "Список неэфективных операторов по среднему количеству исходящих вызовов на одного оператора в день\n",
    "\n",
    "-list_out_id\n",
    "\n",
    "2. Входящие колл-центры\n",
    "\n",
    "Список неэфективных операторов по доле пропущенных вызовов\n",
    "\n",
    "-list_missed_per_day\n",
    "\n",
    "Список неэфективных операторов по длительности ожидания ответа оператора\n",
    "\n",
    "-list_long_waiting_duration"
   ]
  },
  {
   "cell_type": "markdown",
   "metadata": {},
   "source": [
    "Отдельно составлю списки для двух колл-центров. \n",
    "\n",
    "Для колл-центров, которые специализируются на входящих вызовах проверяю по одному списку, для тех, которые специализируются на исходящих вызовах проверяю по двум спискам."
   ]
  },
  {
   "cell_type": "code",
   "execution_count": 71,
   "metadata": {},
   "outputs": [],
   "source": [
    "#Фукнция для колл-центров типа out\n",
    "def apply_telecom_out(row):\n",
    "    result=None\n",
    "    if row['operator_id'] in list_out_id:\n",
    "        result='по среднему количеству исходящих вызовов' #неэффективные\n",
    "    else:\n",
    "        result='эффективные'\n",
    "    return result"
   ]
  },
  {
   "cell_type": "code",
   "execution_count": 72,
   "metadata": {},
   "outputs": [],
   "source": [
    "#Добавляю столбец в df\n",
    "telecom_out['category_operator'] = telecom_out.apply(apply_telecom_out, axis=1)"
   ]
  },
  {
   "cell_type": "code",
   "execution_count": 73,
   "metadata": {},
   "outputs": [
    {
     "data": {
      "text/html": [
       "<div>\n",
       "<style scoped>\n",
       "    .dataframe tbody tr th:only-of-type {\n",
       "        vertical-align: middle;\n",
       "    }\n",
       "\n",
       "    .dataframe tbody tr th {\n",
       "        vertical-align: top;\n",
       "    }\n",
       "\n",
       "    .dataframe thead th {\n",
       "        text-align: right;\n",
       "    }\n",
       "</style>\n",
       "<table border=\"1\" class=\"dataframe\">\n",
       "  <thead>\n",
       "    <tr style=\"text-align: right;\">\n",
       "      <th></th>\n",
       "      <th>category_operator</th>\n",
       "      <th>operator_id</th>\n",
       "      <th>%_per_all</th>\n",
       "    </tr>\n",
       "  </thead>\n",
       "  <tbody>\n",
       "    <tr>\n",
       "      <td>0</td>\n",
       "      <td>по среднему количеству исходящих вызовов</td>\n",
       "      <td>78</td>\n",
       "      <td>18</td>\n",
       "    </tr>\n",
       "    <tr>\n",
       "      <td>1</td>\n",
       "      <td>эффективные</td>\n",
       "      <td>354</td>\n",
       "      <td>82</td>\n",
       "    </tr>\n",
       "  </tbody>\n",
       "</table>\n",
       "</div>"
      ],
      "text/plain": [
       "                          category_operator  operator_id  %_per_all\n",
       "0  по среднему количеству исходящих вызовов           78         18\n",
       "1                               эффективные          354         82"
      ]
     },
     "execution_count": 73,
     "metadata": {},
     "output_type": "execute_result"
    }
   ],
   "source": [
    "result_out = telecom_out.groupby(['category_operator'])\\\n",
    "                  .agg({'operator_id':'nunique'})\\\n",
    "                  .reset_index()\n",
    "#Доля признака от общего количество операторов\n",
    "result_out['%_per_all']=((result_out['operator_id']/result_out['operator_id'].sum())*100).round().astype(int)\n",
    "result_out"
   ]
  },
  {
   "cell_type": "markdown",
   "metadata": {},
   "source": [
    "В колл-центрах, которые специализируются на исходящих вызовах большая доля операторов являются эффективными."
   ]
  },
  {
   "cell_type": "code",
   "execution_count": 74,
   "metadata": {},
   "outputs": [],
   "source": [
    "#Фукнция для колл-центров типа in\n",
    "def apply_telecom_in(row):\n",
    "    result=None\n",
    "    if row['operator_id'] in list_missed_per_day and row['operator_id'] not in list_long_waiting_duration:  #неэффективные\n",
    "        result='по доле пропущенных вызовов'\n",
    "    elif row['operator_id'] in list_long_waiting_duration and row['operator_id'] not in list_missed_per_day:  #неэффективные\n",
    "        result='по длительности ожидания ответа оператора'\n",
    "    elif row['operator_id']  in list_long_waiting_duration and row['operator_id']  in list_missed_per_day:  #неэффективные\n",
    "        result='доля вызовов и длительность ожидания'\n",
    "    else:\n",
    "        result='эффективные'\n",
    "    return result"
   ]
  },
  {
   "cell_type": "code",
   "execution_count": 75,
   "metadata": {},
   "outputs": [],
   "source": [
    "#Добавляю столбец в df\n",
    "telecom_in['category_operator'] = telecom_in.apply(apply_telecom_in, axis=1)"
   ]
  },
  {
   "cell_type": "code",
   "execution_count": 76,
   "metadata": {},
   "outputs": [
    {
     "data": {
      "text/html": [
       "<div>\n",
       "<style scoped>\n",
       "    .dataframe tbody tr th:only-of-type {\n",
       "        vertical-align: middle;\n",
       "    }\n",
       "\n",
       "    .dataframe tbody tr th {\n",
       "        vertical-align: top;\n",
       "    }\n",
       "\n",
       "    .dataframe thead th {\n",
       "        text-align: right;\n",
       "    }\n",
       "</style>\n",
       "<table border=\"1\" class=\"dataframe\">\n",
       "  <thead>\n",
       "    <tr style=\"text-align: right;\">\n",
       "      <th></th>\n",
       "      <th>category_operator</th>\n",
       "      <th>operator_id</th>\n",
       "      <th>%_per_all</th>\n",
       "    </tr>\n",
       "  </thead>\n",
       "  <tbody>\n",
       "    <tr>\n",
       "      <td>0</td>\n",
       "      <td>доля вызовов и длительность ожидания</td>\n",
       "      <td>195</td>\n",
       "      <td>29</td>\n",
       "    </tr>\n",
       "    <tr>\n",
       "      <td>1</td>\n",
       "      <td>по длительности ожидания ответа оператора</td>\n",
       "      <td>145</td>\n",
       "      <td>21</td>\n",
       "    </tr>\n",
       "    <tr>\n",
       "      <td>2</td>\n",
       "      <td>по доле пропущенных вызовов</td>\n",
       "      <td>124</td>\n",
       "      <td>18</td>\n",
       "    </tr>\n",
       "    <tr>\n",
       "      <td>3</td>\n",
       "      <td>эффективные</td>\n",
       "      <td>196</td>\n",
       "      <td>29</td>\n",
       "    </tr>\n",
       "  </tbody>\n",
       "</table>\n",
       "</div>"
      ],
      "text/plain": [
       "                           category_operator  operator_id  %_per_all\n",
       "0       доля вызовов и длительность ожидания          195         29\n",
       "1  по длительности ожидания ответа оператора          145         21\n",
       "2                по доле пропущенных вызовов          124         18\n",
       "3                                эффективные          196         29"
      ]
     },
     "execution_count": 76,
     "metadata": {},
     "output_type": "execute_result"
    }
   ],
   "source": [
    "result_in = telecom_in.groupby(['category_operator'])\\\n",
    "                  .agg({'operator_id':'nunique'})\\\n",
    "                  .reset_index()\n",
    "#Доля признака от общего количество операторов\n",
    "result_in['%_per_all']=((result_in['operator_id']/result_in['operator_id'].sum())*100).astype(int)\n",
    "result_in"
   ]
  },
  {
   "cell_type": "markdown",
   "metadata": {},
   "source": [
    "В колл-центрах, которые специализируются на входящих вызовах доля эффективных и неэффективных по разным параметрам операторо распределилась почти равномерно. Часть операторов неэффективна сразу по двум признакам или только по одному из."
   ]
  },
  {
   "cell_type": "code",
   "execution_count": 77,
   "metadata": {},
   "outputs": [
    {
     "data": {
      "text/html": [
       "<div>\n",
       "<style scoped>\n",
       "    .dataframe tbody tr th:only-of-type {\n",
       "        vertical-align: middle;\n",
       "    }\n",
       "\n",
       "    .dataframe tbody tr th {\n",
       "        vertical-align: top;\n",
       "    }\n",
       "\n",
       "    .dataframe thead th {\n",
       "        text-align: right;\n",
       "    }\n",
       "</style>\n",
       "<table border=\"1\" class=\"dataframe\">\n",
       "  <thead>\n",
       "    <tr style=\"text-align: right;\">\n",
       "      <th></th>\n",
       "      <th>user_id</th>\n",
       "      <th>date</th>\n",
       "      <th>direction</th>\n",
       "      <th>internal</th>\n",
       "      <th>operator_id</th>\n",
       "      <th>is_missed_call</th>\n",
       "      <th>calls_count</th>\n",
       "      <th>call_duration</th>\n",
       "      <th>total_call_duration</th>\n",
       "      <th>day_name</th>\n",
       "      <th>month_name</th>\n",
       "      <th>specialization</th>\n",
       "      <th>tariff_plan</th>\n",
       "      <th>date_start</th>\n",
       "      <th>category_operator</th>\n",
       "    </tr>\n",
       "  </thead>\n",
       "  <tbody>\n",
       "    <tr>\n",
       "      <td>482</td>\n",
       "      <td>166391</td>\n",
       "      <td>2019-08-06 00:00:00+03:00</td>\n",
       "      <td>in</td>\n",
       "      <td>0</td>\n",
       "      <td>882476</td>\n",
       "      <td>0</td>\n",
       "      <td>1</td>\n",
       "      <td>175</td>\n",
       "      <td>186</td>\n",
       "      <td>Tuesday</td>\n",
       "      <td>August</td>\n",
       "      <td>входящие</td>\n",
       "      <td>C</td>\n",
       "      <td>2019-08-01</td>\n",
       "      <td>доля вызовов и длительность ожидания</td>\n",
       "    </tr>\n",
       "    <tr>\n",
       "      <td>483</td>\n",
       "      <td>166391</td>\n",
       "      <td>2019-08-07 00:00:00+03:00</td>\n",
       "      <td>in</td>\n",
       "      <td>1</td>\n",
       "      <td>882478</td>\n",
       "      <td>0</td>\n",
       "      <td>2</td>\n",
       "      <td>11</td>\n",
       "      <td>74</td>\n",
       "      <td>Wednesday</td>\n",
       "      <td>August</td>\n",
       "      <td>входящие</td>\n",
       "      <td>C</td>\n",
       "      <td>2019-08-01</td>\n",
       "      <td>по доле пропущенных вызовов</td>\n",
       "    </tr>\n",
       "    <tr>\n",
       "      <td>484</td>\n",
       "      <td>166391</td>\n",
       "      <td>2019-08-07 00:00:00+03:00</td>\n",
       "      <td>in</td>\n",
       "      <td>0</td>\n",
       "      <td>882478</td>\n",
       "      <td>0</td>\n",
       "      <td>1</td>\n",
       "      <td>57</td>\n",
       "      <td>70</td>\n",
       "      <td>Wednesday</td>\n",
       "      <td>August</td>\n",
       "      <td>входящие</td>\n",
       "      <td>C</td>\n",
       "      <td>2019-08-01</td>\n",
       "      <td>по доле пропущенных вызовов</td>\n",
       "    </tr>\n",
       "    <tr>\n",
       "      <td>485</td>\n",
       "      <td>166391</td>\n",
       "      <td>2019-08-07 00:00:00+03:00</td>\n",
       "      <td>out</td>\n",
       "      <td>1</td>\n",
       "      <td>882478</td>\n",
       "      <td>1</td>\n",
       "      <td>1</td>\n",
       "      <td>0</td>\n",
       "      <td>7</td>\n",
       "      <td>Wednesday</td>\n",
       "      <td>August</td>\n",
       "      <td>входящие</td>\n",
       "      <td>C</td>\n",
       "      <td>2019-08-01</td>\n",
       "      <td>по доле пропущенных вызовов</td>\n",
       "    </tr>\n",
       "    <tr>\n",
       "      <td>486</td>\n",
       "      <td>166391</td>\n",
       "      <td>2019-09-23 00:00:00+03:00</td>\n",
       "      <td>in</td>\n",
       "      <td>0</td>\n",
       "      <td>882476</td>\n",
       "      <td>0</td>\n",
       "      <td>1</td>\n",
       "      <td>4</td>\n",
       "      <td>24</td>\n",
       "      <td>Monday</td>\n",
       "      <td>September</td>\n",
       "      <td>входящие</td>\n",
       "      <td>C</td>\n",
       "      <td>2019-08-01</td>\n",
       "      <td>доля вызовов и длительность ожидания</td>\n",
       "    </tr>\n",
       "  </tbody>\n",
       "</table>\n",
       "</div>"
      ],
      "text/plain": [
       "     user_id                      date direction  internal  operator_id  \\\n",
       "482   166391 2019-08-06 00:00:00+03:00        in         0       882476   \n",
       "483   166391 2019-08-07 00:00:00+03:00        in         1       882478   \n",
       "484   166391 2019-08-07 00:00:00+03:00        in         0       882478   \n",
       "485   166391 2019-08-07 00:00:00+03:00       out         1       882478   \n",
       "486   166391 2019-09-23 00:00:00+03:00        in         0       882476   \n",
       "\n",
       "     is_missed_call  calls_count  call_duration  total_call_duration  \\\n",
       "482               0            1            175                  186   \n",
       "483               0            2             11                   74   \n",
       "484               0            1             57                   70   \n",
       "485               1            1              0                    7   \n",
       "486               0            1              4                   24   \n",
       "\n",
       "      day_name month_name specialization tariff_plan  date_start  \\\n",
       "482    Tuesday     August       входящие           C  2019-08-01   \n",
       "483  Wednesday     August       входящие           C  2019-08-01   \n",
       "484  Wednesday     August       входящие           C  2019-08-01   \n",
       "485  Wednesday     August       входящие           C  2019-08-01   \n",
       "486     Monday  September       входящие           C  2019-08-01   \n",
       "\n",
       "                        category_operator  \n",
       "482  доля вызовов и длительность ожидания  \n",
       "483           по доле пропущенных вызовов  \n",
       "484           по доле пропущенных вызовов  \n",
       "485           по доле пропущенных вызовов  \n",
       "486  доля вызовов и длительность ожидания  "
      ]
     },
     "execution_count": 77,
     "metadata": {},
     "output_type": "execute_result"
    }
   ],
   "source": [
    "#Соединяю два датафрейм в единый\n",
    "df = pd.concat([telecom_in, telecom_out])\n",
    "df.head()"
   ]
  },
  {
   "cell_type": "code",
   "execution_count": 78,
   "metadata": {},
   "outputs": [
    {
     "data": {
      "text/html": [
       "<div>\n",
       "<style scoped>\n",
       "    .dataframe tbody tr th:only-of-type {\n",
       "        vertical-align: middle;\n",
       "    }\n",
       "\n",
       "    .dataframe tbody tr th {\n",
       "        vertical-align: top;\n",
       "    }\n",
       "\n",
       "    .dataframe thead th {\n",
       "        text-align: right;\n",
       "    }\n",
       "</style>\n",
       "<table border=\"1\" class=\"dataframe\">\n",
       "  <thead>\n",
       "    <tr style=\"text-align: right;\">\n",
       "      <th></th>\n",
       "      <th>user_id</th>\n",
       "      <th>category_operator</th>\n",
       "      <th>specialization</th>\n",
       "      <th>operator_id</th>\n",
       "    </tr>\n",
       "  </thead>\n",
       "  <tbody>\n",
       "    <tr>\n",
       "      <td>0</td>\n",
       "      <td>166377</td>\n",
       "      <td>по среднему количеству исходящих вызовов</td>\n",
       "      <td>исходящие</td>\n",
       "      <td>3</td>\n",
       "    </tr>\n",
       "    <tr>\n",
       "      <td>1</td>\n",
       "      <td>166377</td>\n",
       "      <td>эффективные</td>\n",
       "      <td>исходящие</td>\n",
       "      <td>2</td>\n",
       "    </tr>\n",
       "    <tr>\n",
       "      <td>2</td>\n",
       "      <td>166391</td>\n",
       "      <td>доля вызовов и длительность ожидания</td>\n",
       "      <td>входящие</td>\n",
       "      <td>1</td>\n",
       "    </tr>\n",
       "    <tr>\n",
       "      <td>3</td>\n",
       "      <td>166391</td>\n",
       "      <td>по доле пропущенных вызовов</td>\n",
       "      <td>входящие</td>\n",
       "      <td>1</td>\n",
       "    </tr>\n",
       "    <tr>\n",
       "      <td>4</td>\n",
       "      <td>166392</td>\n",
       "      <td>доля вызовов и длительность ожидания</td>\n",
       "      <td>входящие</td>\n",
       "      <td>2</td>\n",
       "    </tr>\n",
       "    <tr>\n",
       "      <td>...</td>\n",
       "      <td>...</td>\n",
       "      <td>...</td>\n",
       "      <td>...</td>\n",
       "      <td>...</td>\n",
       "    </tr>\n",
       "    <tr>\n",
       "      <td>493</td>\n",
       "      <td>168598</td>\n",
       "      <td>доля вызовов и длительность ожидания</td>\n",
       "      <td>входящие</td>\n",
       "      <td>1</td>\n",
       "    </tr>\n",
       "    <tr>\n",
       "      <td>494</td>\n",
       "      <td>168601</td>\n",
       "      <td>доля вызовов и длительность ожидания</td>\n",
       "      <td>входящие</td>\n",
       "      <td>1</td>\n",
       "    </tr>\n",
       "    <tr>\n",
       "      <td>495</td>\n",
       "      <td>168601</td>\n",
       "      <td>по доле пропущенных вызовов</td>\n",
       "      <td>входящие</td>\n",
       "      <td>1</td>\n",
       "    </tr>\n",
       "    <tr>\n",
       "      <td>496</td>\n",
       "      <td>168603</td>\n",
       "      <td>эффективные</td>\n",
       "      <td>исходящие</td>\n",
       "      <td>1</td>\n",
       "    </tr>\n",
       "    <tr>\n",
       "      <td>497</td>\n",
       "      <td>168606</td>\n",
       "      <td>доля вызовов и длительность ожидания</td>\n",
       "      <td>входящие</td>\n",
       "      <td>1</td>\n",
       "    </tr>\n",
       "  </tbody>\n",
       "</table>\n",
       "<p>498 rows × 4 columns</p>\n",
       "</div>"
      ],
      "text/plain": [
       "     user_id                         category_operator specialization  \\\n",
       "0     166377  по среднему количеству исходящих вызовов      исходящие   \n",
       "1     166377                               эффективные      исходящие   \n",
       "2     166391      доля вызовов и длительность ожидания       входящие   \n",
       "3     166391               по доле пропущенных вызовов       входящие   \n",
       "4     166392      доля вызовов и длительность ожидания       входящие   \n",
       "..       ...                                       ...            ...   \n",
       "493   168598      доля вызовов и длительность ожидания       входящие   \n",
       "494   168601      доля вызовов и длительность ожидания       входящие   \n",
       "495   168601               по доле пропущенных вызовов       входящие   \n",
       "496   168603                               эффективные      исходящие   \n",
       "497   168606      доля вызовов и длительность ожидания       входящие   \n",
       "\n",
       "     operator_id  \n",
       "0              3  \n",
       "1              2  \n",
       "2              1  \n",
       "3              1  \n",
       "4              2  \n",
       "..           ...  \n",
       "493            1  \n",
       "494            1  \n",
       "495            1  \n",
       "496            1  \n",
       "497            1  \n",
       "\n",
       "[498 rows x 4 columns]"
      ]
     },
     "execution_count": 78,
     "metadata": {},
     "output_type": "execute_result"
    }
   ],
   "source": [
    "#Группировка по колл-центру с количеством операторов по признаку\n",
    "df.groupby(['user_id','category_operator','specialization'])\\\n",
    "                  .agg({'operator_id':'nunique'})\\\n",
    "                  .reset_index()"
   ]
  },
  {
   "cell_type": "code",
   "execution_count": 79,
   "metadata": {},
   "outputs": [
    {
     "data": {
      "text/html": [
       "<div>\n",
       "<style scoped>\n",
       "    .dataframe tbody tr th:only-of-type {\n",
       "        vertical-align: middle;\n",
       "    }\n",
       "\n",
       "    .dataframe tbody tr th {\n",
       "        vertical-align: top;\n",
       "    }\n",
       "\n",
       "    .dataframe thead th {\n",
       "        text-align: right;\n",
       "    }\n",
       "</style>\n",
       "<table border=\"1\" class=\"dataframe\">\n",
       "  <thead>\n",
       "    <tr style=\"text-align: right;\">\n",
       "      <th></th>\n",
       "      <th>user_id</th>\n",
       "      <th>date</th>\n",
       "    </tr>\n",
       "  </thead>\n",
       "  <tbody>\n",
       "    <tr>\n",
       "      <td>21</td>\n",
       "      <td>166582</td>\n",
       "      <td>101</td>\n",
       "    </tr>\n",
       "    <tr>\n",
       "      <td>49</td>\n",
       "      <td>166782</td>\n",
       "      <td>98</td>\n",
       "    </tr>\n",
       "    <tr>\n",
       "      <td>4</td>\n",
       "      <td>166405</td>\n",
       "      <td>97</td>\n",
       "    </tr>\n",
       "    <tr>\n",
       "      <td>13</td>\n",
       "      <td>166503</td>\n",
       "      <td>92</td>\n",
       "    </tr>\n",
       "    <tr>\n",
       "      <td>5</td>\n",
       "      <td>166406</td>\n",
       "      <td>91</td>\n",
       "    </tr>\n",
       "    <tr>\n",
       "      <td>...</td>\n",
       "      <td>...</td>\n",
       "      <td>...</td>\n",
       "    </tr>\n",
       "    <tr>\n",
       "      <td>8</td>\n",
       "      <td>166481</td>\n",
       "      <td>1</td>\n",
       "    </tr>\n",
       "    <tr>\n",
       "      <td>275</td>\n",
       "      <td>168459</td>\n",
       "      <td>1</td>\n",
       "    </tr>\n",
       "    <tr>\n",
       "      <td>138</td>\n",
       "      <td>167288</td>\n",
       "      <td>1</td>\n",
       "    </tr>\n",
       "    <tr>\n",
       "      <td>141</td>\n",
       "      <td>167364</td>\n",
       "      <td>1</td>\n",
       "    </tr>\n",
       "    <tr>\n",
       "      <td>20</td>\n",
       "      <td>166548</td>\n",
       "      <td>1</td>\n",
       "    </tr>\n",
       "  </tbody>\n",
       "</table>\n",
       "<p>290 rows × 2 columns</p>\n",
       "</div>"
      ],
      "text/plain": [
       "     user_id  date\n",
       "21    166582   101\n",
       "49    166782    98\n",
       "4     166405    97\n",
       "13    166503    92\n",
       "5     166406    91\n",
       "..       ...   ...\n",
       "8     166481     1\n",
       "275   168459     1\n",
       "138   167288     1\n",
       "141   167364     1\n",
       "20    166548     1\n",
       "\n",
       "[290 rows x 2 columns]"
      ]
     },
     "execution_count": 79,
     "metadata": {},
     "output_type": "execute_result"
    }
   ],
   "source": [
    "#Группировка колл-центров по времени существования\n",
    "lifetime_user = df.groupby(['user_id'])\\\n",
    "                  .agg({'date':'nunique'})\\\n",
    "                  .reset_index().sort_values(by='date',ascending=False)\n",
    "lifetime_user"
   ]
  },
  {
   "cell_type": "code",
   "execution_count": 80,
   "metadata": {},
   "outputs": [
    {
     "name": "stdout",
     "output_type": "stream",
     "text": [
      "80% колл-центров сущестуют 53.0 дня\n"
     ]
    }
   ],
   "source": [
    "print('80% колл-центров сущестуют {} дня'.format(np.percentile(lifetime_user['date'], 80)))"
   ]
  },
  {
   "cell_type": "markdown",
   "metadata": {},
   "source": [
    "### Вывод"
   ]
  },
  {
   "cell_type": "markdown",
   "metadata": {},
   "source": [
    "Операторов в колл-центрах необходимо оценивать учитывая спецификацию колл-центра, поэтому параметры рассматривались отдельно для каждой группы колл-центров.\n",
    "\n",
    "На основании полученных данных можно сказать, что услуга может быть более интересна колл-центрам, которые специализируются на входящих вызовах. Такая большая доля неэффективных операторов получилась в связи с тем, что бОльшая часть операторов попала в списки неэффективных сразу по двум параметрам (по доля пропущенных вызовов и длительности ожидание ответа), так как нельзя не учитывать факт попадания сразу в два списка.  \n",
    "\n",
    "Так же данная услуга может быть интересна колл-центрам, которые собираются существовать долго и набирать в штат сотрудников, которые после испытательного срока будут соответствовать требованиям к данным параметрам, учитывая специфику колл-центра.\n",
    "\n",
    "На эффективность оператора сильно влияют особенности колл-центров, такие как: время существования, специализация, количество операторов."
   ]
  },
  {
   "cell_type": "markdown",
   "metadata": {},
   "source": [
    "## Проверка статистических гипотез"
   ]
  },
  {
   "cell_type": "markdown",
   "metadata": {},
   "source": [
    "### Первая проверка"
   ]
  },
  {
   "cell_type": "markdown",
   "metadata": {},
   "source": [
    "\n",
    "***`H0: Количество пропущенных звонков не зависит от тарифа, который есть у клиента.`***\n",
    "\n",
    "\n",
    "***`H1: Количество пропущенных звонков зависит от тарифа, который есть у клиента.`***"
   ]
  },
  {
   "cell_type": "code",
   "execution_count": 81,
   "metadata": {},
   "outputs": [],
   "source": [
    "#Преобразовываю логические значения для дальнейших вычислений\n",
    "telecom_dataset = telecom_dataset[telecom_dataset['is_missed_call'].notnull()].copy()\n",
    "telecom_dataset[\"is_missed_call\"] = telecom_dataset[\"is_missed_call\"].astype(int)\n",
    "#False=0, True=1"
   ]
  },
  {
   "cell_type": "code",
   "execution_count": 82,
   "metadata": {},
   "outputs": [],
   "source": [
    "#Датасет в котором будут только пропущенные вызовы\n",
    "variable = 1\n",
    "telecom_dataset_hip1 = telecom_dataset.query('is_missed_call == @variable')\n",
    "#False=0, True=1"
   ]
  },
  {
   "cell_type": "code",
   "execution_count": 83,
   "metadata": {},
   "outputs": [],
   "source": [
    "#Датасет с клиентами тарифа А\n",
    "telecom_dataset_hip1_A = telecom_dataset_hip1.loc[(telecom_dataset_hip1['tariff_plan'] == 'A')]\n",
    "#Датасет с клиентами тарифа В\n",
    "telecom_dataset_hip1_B = telecom_dataset_hip1.loc[(telecom_dataset_hip1['tariff_plan'] == 'B')]\n",
    "#Датасет с клиентами тарифа C\n",
    "telecom_dataset_hip1_C = telecom_dataset_hip1.loc[(telecom_dataset_hip1['tariff_plan'] == 'C')]"
   ]
  },
  {
   "cell_type": "code",
   "execution_count": 84,
   "metadata": {},
   "outputs": [],
   "source": [
    "#Выборки\n",
    "telecom_dataset_A = telecom_dataset_hip1_A['calls_count']\n",
    "telecom_dataset_B = telecom_dataset_hip1_B['calls_count']\n",
    "telecom_dataset_C = telecom_dataset_hip1_C['calls_count']"
   ]
  },
  {
   "cell_type": "markdown",
   "metadata": {},
   "source": [
    "Перед проверкой гипотез проверяю дисперсии выборок, чтобы корректно определить атрибут equal_val в Т–тесте."
   ]
  },
  {
   "cell_type": "code",
   "execution_count": 85,
   "metadata": {},
   "outputs": [],
   "source": [
    "#функция дли проверки\n",
    "#Функция variance()модуля statistics возвращает дисперсию выборки из элементов числовой последовательности data \n",
    "def variance(df):\n",
    "    m_a = statistics.mean(df)\n",
    "    p = statistics.variance(df,m_a)\n",
    "    print('Дисперсия выборки:', p)\n",
    "    print (\" \")"
   ]
  },
  {
   "cell_type": "code",
   "execution_count": 86,
   "metadata": {},
   "outputs": [
    {
     "name": "stdout",
     "output_type": "stream",
     "text": [
      "Выборка А\n",
      "Дисперсия выборки: 7796.737747453115\n",
      " \n",
      "Выборка В\n",
      "Дисперсия выборки: 234.06582403291202\n",
      " \n",
      "Выборка С\n",
      "Дисперсия выборки: 9097.75328992129\n",
      " \n"
     ]
    }
   ],
   "source": [
    "print('Выборка А')\n",
    "variance(telecom_dataset_A)\n",
    "print('Выборка В')\n",
    "variance(telecom_dataset_B)\n",
    "print('Выборка С')\n",
    "variance(telecom_dataset_C)"
   ]
  },
  {
   "cell_type": "markdown",
   "metadata": {},
   "source": [
    "Не считаю равными дисперсии генеральных совокупностей,equal_var=False."
   ]
  },
  {
   "cell_type": "code",
   "execution_count": 87,
   "metadata": {},
   "outputs": [],
   "source": [
    "#Функция для т-теста\n",
    "def t_test(df1,df2):\n",
    "    alpha = 0.05\n",
    "    p = st.ttest_ind(df1,df2,equal_var=False)\n",
    "    if p.pvalue < 0.05:\n",
    "                    print('p-значение:',p.pvalue,\"Отвергаем нулевую гипотезу\")\n",
    "                    print (\" \")\n",
    "    else:\n",
    "                    print('p-значение:',p.pvalue,\"Не получилось отвергнуть нулевую гипотезу\")\n",
    "                    print (\" \")\n"
   ]
  },
  {
   "cell_type": "code",
   "execution_count": 88,
   "metadata": {},
   "outputs": [
    {
     "name": "stdout",
     "output_type": "stream",
     "text": [
      "Выборки А и В\n",
      "p-значение: 4.9342138231789955e-86 Отвергаем нулевую гипотезу\n",
      " \n",
      "Выборки В и С\n",
      "p-значение: 5.9291138427956745e-06 Отвергаем нулевую гипотезу\n",
      " \n",
      "Выборки С и А\n",
      "p-значение: 1.0965594552452573e-27 Отвергаем нулевую гипотезу\n",
      " \n"
     ]
    }
   ],
   "source": [
    "print('Выборки А и В')\n",
    "\n",
    "t_test(telecom_dataset_A , telecom_dataset_B)\n",
    "print('Выборки В и С')\n",
    "\n",
    "t_test(telecom_dataset_B , telecom_dataset_C)\n",
    "print('Выборки С и А')\n",
    "\n",
    "t_test(telecom_dataset_C , telecom_dataset_A)"
   ]
  },
  {
   "cell_type": "markdown",
   "metadata": {},
   "source": [
    "Для всех возможных вариантов отвергли нулевую гипотезу о том, что количество пропущенных звонков не зависит от тарифа, который есть у клиента. Нужно проанализировать отдельно тарифные планы."
   ]
  },
  {
   "cell_type": "markdown",
   "metadata": {},
   "source": [
    "### Вторая проверка\n"
   ]
  },
  {
   "cell_type": "markdown",
   "metadata": {},
   "source": [
    "***`H0: Ожидание ответа оператором не зависит от тарифа, который есть у клиента.`***\n",
    "\n",
    "***`H1: Ожидание ответа оператором зависит от тарифа, который есть у клиента.`***"
   ]
  },
  {
   "cell_type": "markdown",
   "metadata": {},
   "source": [
    "Для проверки гипотез беру только входящие внешние звонки."
   ]
  },
  {
   "cell_type": "code",
   "execution_count": 89,
   "metadata": {},
   "outputs": [],
   "source": [
    "#Фильтрация telecom_dataset\n",
    "variable_in = 'in'\n",
    "telecom_dataset_hip2 = telecom_dataset.query('direction == @variable_in & internal == 0')"
   ]
  },
  {
   "cell_type": "code",
   "execution_count": 90,
   "metadata": {},
   "outputs": [],
   "source": [
    "#Датасет с клиентами тарифа А\n",
    "telecom_dataset_hip2_A = telecom_dataset_hip2.loc[(telecom_dataset['tariff_plan'] == 'A')]\n",
    "#Датасет с клиентами тарифа В\n",
    "telecom_dataset_hip2_B = telecom_dataset_hip2.loc[(telecom_dataset['tariff_plan'] == 'B')]\n",
    "#Датасет с клиентами тарифа C\n",
    "telecom_dataset_hip2_C = telecom_dataset_hip2.loc[(telecom_dataset['tariff_plan'] == 'C')]"
   ]
  },
  {
   "cell_type": "code",
   "execution_count": 91,
   "metadata": {},
   "outputs": [],
   "source": [
    "#Выборки\n",
    "telecom_A = telecom_dataset_hip2_A['waiting_duration']\n",
    "telecom_B = telecom_dataset_hip2_B['waiting_duration']\n",
    "telecom_C = telecom_dataset_hip2_C['waiting_duration']"
   ]
  },
  {
   "cell_type": "code",
   "execution_count": 92,
   "metadata": {},
   "outputs": [
    {
     "name": "stdout",
     "output_type": "stream",
     "text": [
      "Дисперсия выборки telecom_dataset_A: 18245.27100258789\n"
     ]
    }
   ],
   "source": [
    "#Функция variance()модуля statistics возвращает дисперсию выборки из элементов числовой последовательности data \n",
    "m_a = statistics.mean(telecom_A)\n",
    "print('Дисперсия выборки telecom_dataset_A:',statistics.variance(telecom_A,m_a))"
   ]
  },
  {
   "cell_type": "code",
   "execution_count": 93,
   "metadata": {},
   "outputs": [
    {
     "name": "stdout",
     "output_type": "stream",
     "text": [
      "Выборка А\n",
      "Дисперсия выборки: 18245.27100258789\n",
      " \n",
      "Выборка В\n",
      "Дисперсия выборки: 52700.60828754431\n",
      " \n",
      "Выборка С\n",
      "Дисперсия выборки: 31433.876241294896\n",
      " \n"
     ]
    }
   ],
   "source": [
    "print('Выборка А')\n",
    "variance(telecom_A)\n",
    "print('Выборка В')\n",
    "variance(telecom_B)\n",
    "print('Выборка С')\n",
    "variance(telecom_C)"
   ]
  },
  {
   "cell_type": "markdown",
   "metadata": {},
   "source": [
    "Не считаю равными дисперсии генеральных совокупностей,equal_var=False."
   ]
  },
  {
   "cell_type": "code",
   "execution_count": 94,
   "metadata": {},
   "outputs": [
    {
     "name": "stdout",
     "output_type": "stream",
     "text": [
      "Выборки А и В\n",
      "p-значение: 5.88712863784134e-12 Отвергаем нулевую гипотезу\n",
      " \n",
      "Выборки В и С\n",
      "p-значение: 1.2127901415296518e-17 Отвергаем нулевую гипотезу\n",
      " \n",
      "Выборки С и А\n",
      "p-значение: 0.022956381598450544 Отвергаем нулевую гипотезу\n",
      " \n"
     ]
    }
   ],
   "source": [
    "print('Выборки А и В')\n",
    "t_test(telecom_A , telecom_B)\n",
    "print('Выборки В и С')\n",
    "t_test(telecom_B , telecom_C)\n",
    "print('Выборки С и А')\n",
    "t_test(telecom_C , telecom_A)"
   ]
  },
  {
   "cell_type": "markdown",
   "metadata": {},
   "source": [
    "Для всех возможных вариантов отвергли нулевую гипотезу о том, что ожидание ответа оператором не зависит от тарифа, который есть у клиента. Нужно проанализировать отдельно тарифные планы."
   ]
  },
  {
   "cell_type": "markdown",
   "metadata": {},
   "source": [
    "Интересно, что тарифные планы играют существенную роль для работы колл-центра, в рамках данного исследования мы это не рассматриваем, но в рамках рекламной кампании для колл-центров, которые планируют пользоваться нашими услугами можно было бы провести небольшое исследование. Это может поспособствовать смене условий тарифных планов на более выгодные для клиентов, и тем самым увеличить количество клиентов."
   ]
  }
 ],
 "metadata": {
  "ExecuteTimeLog": [
   {
    "duration": 26172,
    "start_time": "2021-08-17T17:37:54.443Z"
   },
   {
    "duration": 1823,
    "start_time": "2021-08-17T17:38:20.617Z"
   },
   {
    "duration": -38,
    "start_time": "2021-08-17T17:38:22.482Z"
   },
   {
    "duration": -38,
    "start_time": "2021-08-17T17:38:22.483Z"
   },
   {
    "duration": -38,
    "start_time": "2021-08-17T17:38:22.484Z"
   },
   {
    "duration": -39,
    "start_time": "2021-08-17T17:38:22.485Z"
   },
   {
    "duration": -39,
    "start_time": "2021-08-17T17:38:22.486Z"
   },
   {
    "duration": -39,
    "start_time": "2021-08-17T17:38:22.487Z"
   },
   {
    "duration": -39,
    "start_time": "2021-08-17T17:38:22.488Z"
   },
   {
    "duration": -39,
    "start_time": "2021-08-17T17:38:22.489Z"
   },
   {
    "duration": -39,
    "start_time": "2021-08-17T17:38:22.490Z"
   },
   {
    "duration": -40,
    "start_time": "2021-08-17T17:38:22.491Z"
   },
   {
    "duration": -39,
    "start_time": "2021-08-17T17:38:22.491Z"
   },
   {
    "duration": -41,
    "start_time": "2021-08-17T17:38:22.493Z"
   },
   {
    "duration": -40,
    "start_time": "2021-08-17T17:38:22.493Z"
   },
   {
    "duration": -40,
    "start_time": "2021-08-17T17:38:22.494Z"
   },
   {
    "duration": -41,
    "start_time": "2021-08-17T17:38:22.495Z"
   },
   {
    "duration": -41,
    "start_time": "2021-08-17T17:38:22.496Z"
   },
   {
    "duration": -41,
    "start_time": "2021-08-17T17:38:22.497Z"
   },
   {
    "duration": -42,
    "start_time": "2021-08-17T17:38:22.498Z"
   },
   {
    "duration": -41,
    "start_time": "2021-08-17T17:38:22.498Z"
   },
   {
    "duration": -48,
    "start_time": "2021-08-17T17:38:22.506Z"
   },
   {
    "duration": -49,
    "start_time": "2021-08-17T17:38:22.507Z"
   },
   {
    "duration": -49,
    "start_time": "2021-08-17T17:38:22.508Z"
   },
   {
    "duration": -49,
    "start_time": "2021-08-17T17:38:22.509Z"
   },
   {
    "duration": -48,
    "start_time": "2021-08-17T17:38:22.509Z"
   },
   {
    "duration": -49,
    "start_time": "2021-08-17T17:38:22.510Z"
   },
   {
    "duration": -49,
    "start_time": "2021-08-17T17:38:22.511Z"
   },
   {
    "duration": -49,
    "start_time": "2021-08-17T17:38:22.512Z"
   },
   {
    "duration": -49,
    "start_time": "2021-08-17T17:38:22.513Z"
   },
   {
    "duration": -49,
    "start_time": "2021-08-17T17:38:22.513Z"
   },
   {
    "duration": -49,
    "start_time": "2021-08-17T17:38:22.514Z"
   },
   {
    "duration": -50,
    "start_time": "2021-08-17T17:38:22.515Z"
   },
   {
    "duration": -50,
    "start_time": "2021-08-17T17:38:22.516Z"
   },
   {
    "duration": -49,
    "start_time": "2021-08-17T17:38:22.516Z"
   },
   {
    "duration": -55,
    "start_time": "2021-08-17T17:38:22.523Z"
   },
   {
    "duration": -55,
    "start_time": "2021-08-17T17:38:22.524Z"
   },
   {
    "duration": -55,
    "start_time": "2021-08-17T17:38:22.525Z"
   },
   {
    "duration": -55,
    "start_time": "2021-08-17T17:38:22.525Z"
   },
   {
    "duration": -55,
    "start_time": "2021-08-17T17:38:22.526Z"
   },
   {
    "duration": -54,
    "start_time": "2021-08-17T17:38:22.526Z"
   },
   {
    "duration": -54,
    "start_time": "2021-08-17T17:38:22.527Z"
   },
   {
    "duration": -55,
    "start_time": "2021-08-17T17:38:22.528Z"
   },
   {
    "duration": -54,
    "start_time": "2021-08-17T17:38:22.528Z"
   },
   {
    "duration": -55,
    "start_time": "2021-08-17T17:38:22.530Z"
   },
   {
    "duration": -56,
    "start_time": "2021-08-17T17:38:22.531Z"
   },
   {
    "duration": -55,
    "start_time": "2021-08-17T17:38:22.531Z"
   },
   {
    "duration": -55,
    "start_time": "2021-08-17T17:38:22.532Z"
   },
   {
    "duration": -61,
    "start_time": "2021-08-17T17:38:22.539Z"
   },
   {
    "duration": -62,
    "start_time": "2021-08-17T17:38:22.540Z"
   },
   {
    "duration": -61,
    "start_time": "2021-08-17T17:38:22.540Z"
   },
   {
    "duration": -62,
    "start_time": "2021-08-17T17:38:22.542Z"
   },
   {
    "duration": -62,
    "start_time": "2021-08-17T17:38:22.542Z"
   },
   {
    "duration": -62,
    "start_time": "2021-08-17T17:38:22.543Z"
   },
   {
    "duration": -62,
    "start_time": "2021-08-17T17:38:22.544Z"
   },
   {
    "duration": -63,
    "start_time": "2021-08-17T17:38:22.545Z"
   },
   {
    "duration": -62,
    "start_time": "2021-08-17T17:38:22.545Z"
   },
   {
    "duration": -63,
    "start_time": "2021-08-17T17:38:22.546Z"
   },
   {
    "duration": -62,
    "start_time": "2021-08-17T17:38:22.546Z"
   },
   {
    "duration": -56,
    "start_time": "2021-08-17T17:38:22.547Z"
   },
   {
    "duration": -56,
    "start_time": "2021-08-17T17:38:22.548Z"
   },
   {
    "duration": -62,
    "start_time": "2021-08-17T17:38:22.554Z"
   },
   {
    "duration": -61,
    "start_time": "2021-08-17T17:38:22.554Z"
   },
   {
    "duration": -61,
    "start_time": "2021-08-17T17:38:22.555Z"
   },
   {
    "duration": -62,
    "start_time": "2021-08-17T17:38:22.556Z"
   },
   {
    "duration": -62,
    "start_time": "2021-08-17T17:38:22.557Z"
   },
   {
    "duration": -61,
    "start_time": "2021-08-17T17:38:22.557Z"
   },
   {
    "duration": -61,
    "start_time": "2021-08-17T17:38:22.558Z"
   },
   {
    "duration": -62,
    "start_time": "2021-08-17T17:38:22.559Z"
   },
   {
    "duration": 80,
    "start_time": "2021-08-17T17:43:50.971Z"
   },
   {
    "duration": 5,
    "start_time": "2021-08-17T17:43:55.942Z"
   },
   {
    "duration": 16,
    "start_time": "2021-08-17T17:43:55.949Z"
   },
   {
    "duration": 6,
    "start_time": "2021-08-17T17:43:55.968Z"
   },
   {
    "duration": 16,
    "start_time": "2021-08-17T17:43:55.976Z"
   },
   {
    "duration": 13,
    "start_time": "2021-08-17T17:43:55.993Z"
   },
   {
    "duration": 5,
    "start_time": "2021-08-17T17:43:56.008Z"
   },
   {
    "duration": 18,
    "start_time": "2021-08-17T17:43:56.015Z"
   },
   {
    "duration": 59,
    "start_time": "2021-08-17T17:43:56.036Z"
   },
   {
    "duration": 3,
    "start_time": "2021-08-17T17:43:56.097Z"
   },
   {
    "duration": 13,
    "start_time": "2021-08-17T17:43:56.102Z"
   },
   {
    "duration": 25,
    "start_time": "2021-08-17T17:43:56.116Z"
   },
   {
    "duration": 19,
    "start_time": "2021-08-17T17:43:56.143Z"
   },
   {
    "duration": 28,
    "start_time": "2021-08-17T17:43:56.163Z"
   },
   {
    "duration": 11,
    "start_time": "2021-08-17T17:43:56.193Z"
   },
   {
    "duration": 11,
    "start_time": "2021-08-17T17:43:56.205Z"
   },
   {
    "duration": 25,
    "start_time": "2021-08-17T17:43:56.217Z"
   },
   {
    "duration": 16,
    "start_time": "2021-08-17T17:43:56.243Z"
   },
   {
    "duration": 48,
    "start_time": "2021-08-17T17:43:56.261Z"
   },
   {
    "duration": 21,
    "start_time": "2021-08-17T17:43:56.311Z"
   },
   {
    "duration": 38,
    "start_time": "2021-08-17T17:43:56.334Z"
   },
   {
    "duration": 48,
    "start_time": "2021-08-17T17:43:56.373Z"
   },
   {
    "duration": 7,
    "start_time": "2021-08-17T17:43:56.422Z"
   },
   {
    "duration": 11,
    "start_time": "2021-08-17T17:43:56.432Z"
   },
   {
    "duration": 3,
    "start_time": "2021-08-17T17:43:56.445Z"
   },
   {
    "duration": 16,
    "start_time": "2021-08-17T17:43:56.449Z"
   },
   {
    "duration": 15,
    "start_time": "2021-08-17T17:43:56.492Z"
   },
   {
    "duration": 303,
    "start_time": "2021-08-17T17:43:56.509Z"
   },
   {
    "duration": 202,
    "start_time": "2021-08-17T17:43:56.813Z"
   },
   {
    "duration": 284,
    "start_time": "2021-08-17T17:43:57.017Z"
   },
   {
    "duration": 203,
    "start_time": "2021-08-17T17:43:57.303Z"
   },
   {
    "duration": 11,
    "start_time": "2021-08-17T17:43:57.508Z"
   },
   {
    "duration": 10,
    "start_time": "2021-08-17T17:43:57.521Z"
   },
   {
    "duration": 5,
    "start_time": "2021-08-17T17:43:57.532Z"
   },
   {
    "duration": 174,
    "start_time": "2021-08-17T17:43:57.538Z"
   },
   {
    "duration": 151,
    "start_time": "2021-08-17T17:43:57.714Z"
   },
   {
    "duration": 4,
    "start_time": "2021-08-17T17:43:57.866Z"
   },
   {
    "duration": 222,
    "start_time": "2021-08-17T17:43:57.871Z"
   },
   {
    "duration": 19,
    "start_time": "2021-08-17T17:43:58.094Z"
   },
   {
    "duration": 4,
    "start_time": "2021-08-17T17:43:58.115Z"
   },
   {
    "duration": 21,
    "start_time": "2021-08-17T17:43:58.120Z"
   },
   {
    "duration": 7,
    "start_time": "2021-08-17T17:43:58.143Z"
   },
   {
    "duration": 14,
    "start_time": "2021-08-17T17:43:58.152Z"
   },
   {
    "duration": 29,
    "start_time": "2021-08-17T17:43:58.168Z"
   },
   {
    "duration": 10,
    "start_time": "2021-08-17T17:43:58.199Z"
   },
   {
    "duration": 14,
    "start_time": "2021-08-17T17:43:58.211Z"
   },
   {
    "duration": 6,
    "start_time": "2021-08-17T17:43:58.226Z"
   },
   {
    "duration": 12,
    "start_time": "2021-08-17T17:43:58.233Z"
   },
   {
    "duration": 9,
    "start_time": "2021-08-17T17:43:58.246Z"
   },
   {
    "duration": 40,
    "start_time": "2021-08-17T17:43:58.256Z"
   },
   {
    "duration": 10,
    "start_time": "2021-08-17T17:43:58.297Z"
   },
   {
    "duration": 27,
    "start_time": "2021-08-17T17:43:58.308Z"
   },
   {
    "duration": 10,
    "start_time": "2021-08-17T17:43:58.336Z"
   },
   {
    "duration": 9,
    "start_time": "2021-08-17T17:43:58.347Z"
   },
   {
    "duration": 7,
    "start_time": "2021-08-17T17:43:58.357Z"
   },
   {
    "duration": 34,
    "start_time": "2021-08-17T17:43:58.366Z"
   },
   {
    "duration": 5,
    "start_time": "2021-08-17T17:43:58.402Z"
   },
   {
    "duration": 12,
    "start_time": "2021-08-17T17:43:58.408Z"
   },
   {
    "duration": 979,
    "start_time": "2021-08-17T17:43:58.421Z"
   },
   {
    "duration": 13,
    "start_time": "2021-08-17T17:43:59.402Z"
   },
   {
    "duration": 2,
    "start_time": "2021-08-17T17:43:59.416Z"
   },
   {
    "duration": 16,
    "start_time": "2021-08-17T17:43:59.419Z"
   },
   {
    "duration": 11,
    "start_time": "2021-08-17T17:43:59.437Z"
   },
   {
    "duration": 13,
    "start_time": "2021-08-17T17:43:59.449Z"
   },
   {
    "duration": 34,
    "start_time": "2021-08-17T17:43:59.463Z"
   },
   {
    "duration": 9,
    "start_time": "2021-08-17T17:43:59.499Z"
   },
   {
    "duration": 9,
    "start_time": "2021-08-17T17:43:59.510Z"
   },
   {
    "duration": 7,
    "start_time": "2021-08-17T17:43:59.521Z"
   },
   {
    "duration": 2271,
    "start_time": "2021-08-18T12:20:07.208Z"
   },
   {
    "duration": 7124,
    "start_time": "2021-08-18T12:20:09.482Z"
   },
   {
    "duration": -38,
    "start_time": "2021-08-18T12:20:16.650Z"
   },
   {
    "duration": -52,
    "start_time": "2021-08-18T12:20:16.666Z"
   },
   {
    "duration": -58,
    "start_time": "2021-08-18T12:20:16.673Z"
   },
   {
    "duration": -62,
    "start_time": "2021-08-18T12:20:16.679Z"
   },
   {
    "duration": -65,
    "start_time": "2021-08-18T12:20:16.683Z"
   },
   {
    "duration": -76,
    "start_time": "2021-08-18T12:20:16.695Z"
   },
   {
    "duration": -78,
    "start_time": "2021-08-18T12:20:16.699Z"
   },
   {
    "duration": -90,
    "start_time": "2021-08-18T12:20:16.712Z"
   },
   {
    "duration": -93,
    "start_time": "2021-08-18T12:20:16.716Z"
   },
   {
    "duration": -97,
    "start_time": "2021-08-18T12:20:16.722Z"
   },
   {
    "duration": -103,
    "start_time": "2021-08-18T12:20:16.729Z"
   },
   {
    "duration": -107,
    "start_time": "2021-08-18T12:20:16.734Z"
   },
   {
    "duration": -110,
    "start_time": "2021-08-18T12:20:16.739Z"
   },
   {
    "duration": -170,
    "start_time": "2021-08-18T12:20:16.800Z"
   },
   {
    "duration": -180,
    "start_time": "2021-08-18T12:20:16.811Z"
   },
   {
    "duration": -184,
    "start_time": "2021-08-18T12:20:16.816Z"
   },
   {
    "duration": -187,
    "start_time": "2021-08-18T12:20:16.821Z"
   },
   {
    "duration": -193,
    "start_time": "2021-08-18T12:20:16.828Z"
   },
   {
    "duration": -198,
    "start_time": "2021-08-18T12:20:16.834Z"
   },
   {
    "duration": -209,
    "start_time": "2021-08-18T12:20:16.847Z"
   },
   {
    "duration": -210,
    "start_time": "2021-08-18T12:20:16.850Z"
   },
   {
    "duration": -220,
    "start_time": "2021-08-18T12:20:16.861Z"
   },
   {
    "duration": -225,
    "start_time": "2021-08-18T12:20:16.867Z"
   },
   {
    "duration": -229,
    "start_time": "2021-08-18T12:20:16.872Z"
   },
   {
    "duration": -235,
    "start_time": "2021-08-18T12:20:16.880Z"
   },
   {
    "duration": -237,
    "start_time": "2021-08-18T12:20:16.883Z"
   },
   {
    "duration": -242,
    "start_time": "2021-08-18T12:20:16.889Z"
   },
   {
    "duration": -251,
    "start_time": "2021-08-18T12:20:16.899Z"
   },
   {
    "duration": -255,
    "start_time": "2021-08-18T12:20:16.904Z"
   },
   {
    "duration": -264,
    "start_time": "2021-08-18T12:20:16.914Z"
   },
   {
    "duration": -264,
    "start_time": "2021-08-18T12:20:16.919Z"
   },
   {
    "duration": -270,
    "start_time": "2021-08-18T12:20:16.927Z"
   },
   {
    "duration": -273,
    "start_time": "2021-08-18T12:20:16.931Z"
   },
   {
    "duration": -277,
    "start_time": "2021-08-18T12:20:16.936Z"
   },
   {
    "duration": -285,
    "start_time": "2021-08-18T12:20:16.946Z"
   },
   {
    "duration": -289,
    "start_time": "2021-08-18T12:20:16.951Z"
   },
   {
    "duration": -293,
    "start_time": "2021-08-18T12:20:16.956Z"
   },
   {
    "duration": -299,
    "start_time": "2021-08-18T12:20:16.964Z"
   },
   {
    "duration": -301,
    "start_time": "2021-08-18T12:20:16.967Z"
   },
   {
    "duration": -305,
    "start_time": "2021-08-18T12:20:16.972Z"
   },
   {
    "duration": -311,
    "start_time": "2021-08-18T12:20:16.979Z"
   },
   {
    "duration": -313,
    "start_time": "2021-08-18T12:20:16.983Z"
   },
   {
    "duration": -316,
    "start_time": "2021-08-18T12:20:16.987Z"
   },
   {
    "duration": -325,
    "start_time": "2021-08-18T12:20:16.997Z"
   },
   {
    "duration": -327,
    "start_time": "2021-08-18T12:20:17.001Z"
   },
   {
    "duration": -330,
    "start_time": "2021-08-18T12:20:17.005Z"
   },
   {
    "duration": -336,
    "start_time": "2021-08-18T12:20:17.013Z"
   },
   {
    "duration": -339,
    "start_time": "2021-08-18T12:20:17.017Z"
   },
   {
    "duration": -344,
    "start_time": "2021-08-18T12:20:17.023Z"
   },
   {
    "duration": -350,
    "start_time": "2021-08-18T12:20:17.031Z"
   },
   {
    "duration": -352,
    "start_time": "2021-08-18T12:20:17.034Z"
   },
   {
    "duration": -357,
    "start_time": "2021-08-18T12:20:17.040Z"
   },
   {
    "duration": -365,
    "start_time": "2021-08-18T12:20:17.049Z"
   },
   {
    "duration": -366,
    "start_time": "2021-08-18T12:20:17.052Z"
   },
   {
    "duration": -375,
    "start_time": "2021-08-18T12:20:17.062Z"
   },
   {
    "duration": -378,
    "start_time": "2021-08-18T12:20:17.066Z"
   },
   {
    "duration": -381,
    "start_time": "2021-08-18T12:20:17.070Z"
   },
   {
    "duration": -387,
    "start_time": "2021-08-18T12:20:17.077Z"
   },
   {
    "duration": -389,
    "start_time": "2021-08-18T12:20:17.081Z"
   },
   {
    "duration": -392,
    "start_time": "2021-08-18T12:20:17.085Z"
   },
   {
    "duration": -398,
    "start_time": "2021-08-18T12:20:17.092Z"
   },
   {
    "duration": -343,
    "start_time": "2021-08-18T12:20:17.100Z"
   },
   {
    "duration": -348,
    "start_time": "2021-08-18T12:20:17.106Z"
   },
   {
    "duration": -355,
    "start_time": "2021-08-18T12:20:17.115Z"
   },
   {
    "duration": -360,
    "start_time": "2021-08-18T12:20:17.121Z"
   },
   {
    "duration": -363,
    "start_time": "2021-08-18T12:20:17.125Z"
   },
   {
    "duration": -364,
    "start_time": "2021-08-18T12:20:17.128Z"
   },
   {
    "duration": -366,
    "start_time": "2021-08-18T12:20:17.131Z"
   },
   {
    "duration": 106,
    "start_time": "2021-08-18T12:20:33.760Z"
   },
   {
    "duration": 9,
    "start_time": "2021-08-18T12:20:35.455Z"
   },
   {
    "duration": 1920,
    "start_time": "2021-08-18T12:20:48.255Z"
   },
   {
    "duration": 106,
    "start_time": "2021-08-18T12:20:50.178Z"
   },
   {
    "duration": 9,
    "start_time": "2021-08-18T12:20:50.287Z"
   },
   {
    "duration": 21,
    "start_time": "2021-08-18T12:20:50.299Z"
   },
   {
    "duration": 8,
    "start_time": "2021-08-18T12:20:50.323Z"
   },
   {
    "duration": 23,
    "start_time": "2021-08-18T12:20:50.334Z"
   },
   {
    "duration": 16,
    "start_time": "2021-08-18T12:20:50.360Z"
   },
   {
    "duration": 5,
    "start_time": "2021-08-18T12:20:50.380Z"
   },
   {
    "duration": 30,
    "start_time": "2021-08-18T12:20:50.388Z"
   },
   {
    "duration": 52,
    "start_time": "2021-08-18T12:20:50.420Z"
   },
   {
    "duration": 5,
    "start_time": "2021-08-18T12:20:50.475Z"
   },
   {
    "duration": 22,
    "start_time": "2021-08-18T12:20:50.482Z"
   },
   {
    "duration": 68,
    "start_time": "2021-08-18T12:20:50.507Z"
   },
   {
    "duration": 25,
    "start_time": "2021-08-18T12:20:50.577Z"
   },
   {
    "duration": 9,
    "start_time": "2021-08-18T12:20:50.605Z"
   },
   {
    "duration": 41,
    "start_time": "2021-08-18T12:20:50.616Z"
   },
   {
    "duration": 18,
    "start_time": "2021-08-18T12:20:50.659Z"
   },
   {
    "duration": 38,
    "start_time": "2021-08-18T12:20:50.679Z"
   },
   {
    "duration": 49,
    "start_time": "2021-08-18T12:20:50.719Z"
   },
   {
    "duration": 18,
    "start_time": "2021-08-18T12:20:50.771Z"
   },
   {
    "duration": 32,
    "start_time": "2021-08-18T12:20:50.792Z"
   },
   {
    "duration": 73,
    "start_time": "2021-08-18T12:20:50.827Z"
   },
   {
    "duration": 52,
    "start_time": "2021-08-18T12:20:50.907Z"
   },
   {
    "duration": 10,
    "start_time": "2021-08-18T12:20:50.963Z"
   },
   {
    "duration": 17,
    "start_time": "2021-08-18T12:20:50.975Z"
   },
   {
    "duration": 5,
    "start_time": "2021-08-18T12:20:50.994Z"
   },
   {
    "duration": 65,
    "start_time": "2021-08-18T12:20:51.001Z"
   },
   {
    "duration": 23,
    "start_time": "2021-08-18T12:20:51.068Z"
   },
   {
    "duration": 524,
    "start_time": "2021-08-18T12:20:51.093Z"
   },
   {
    "duration": 371,
    "start_time": "2021-08-18T12:20:51.620Z"
   },
   {
    "duration": 522,
    "start_time": "2021-08-18T12:20:51.994Z"
   },
   {
    "duration": 354,
    "start_time": "2021-08-18T12:20:52.519Z"
   },
   {
    "duration": 17,
    "start_time": "2021-08-18T12:20:52.875Z"
   },
   {
    "duration": 21,
    "start_time": "2021-08-18T12:20:52.894Z"
   },
   {
    "duration": 39,
    "start_time": "2021-08-18T12:20:52.917Z"
   },
   {
    "duration": 273,
    "start_time": "2021-08-18T12:20:52.958Z"
   },
   {
    "duration": 267,
    "start_time": "2021-08-18T12:20:53.233Z"
   },
   {
    "duration": 5,
    "start_time": "2021-08-18T12:20:53.502Z"
   },
   {
    "duration": 277,
    "start_time": "2021-08-18T12:20:53.510Z"
   },
   {
    "duration": 31,
    "start_time": "2021-08-18T12:20:53.789Z"
   },
   {
    "duration": 6,
    "start_time": "2021-08-18T12:20:53.822Z"
   },
   {
    "duration": 112,
    "start_time": "2021-08-18T12:20:53.857Z"
   },
   {
    "duration": 15,
    "start_time": "2021-08-18T12:20:53.972Z"
   },
   {
    "duration": 23,
    "start_time": "2021-08-18T12:20:53.990Z"
   },
   {
    "duration": 10,
    "start_time": "2021-08-18T12:20:54.016Z"
   },
   {
    "duration": 36,
    "start_time": "2021-08-18T12:20:54.028Z"
   },
   {
    "duration": 32,
    "start_time": "2021-08-18T12:20:54.067Z"
   },
   {
    "duration": 15,
    "start_time": "2021-08-18T12:20:54.102Z"
   },
   {
    "duration": 9,
    "start_time": "2021-08-18T12:20:54.119Z"
   },
   {
    "duration": 18,
    "start_time": "2021-08-18T12:20:54.130Z"
   },
   {
    "duration": 39,
    "start_time": "2021-08-18T12:20:54.156Z"
   },
   {
    "duration": 13,
    "start_time": "2021-08-18T12:20:54.198Z"
   },
   {
    "duration": 49,
    "start_time": "2021-08-18T12:20:54.214Z"
   },
   {
    "duration": 17,
    "start_time": "2021-08-18T12:20:54.266Z"
   },
   {
    "duration": 20,
    "start_time": "2021-08-18T12:20:54.285Z"
   },
   {
    "duration": 19,
    "start_time": "2021-08-18T12:20:54.308Z"
   },
   {
    "duration": 36,
    "start_time": "2021-08-18T12:20:54.330Z"
   },
   {
    "duration": 6,
    "start_time": "2021-08-18T12:20:54.370Z"
   },
   {
    "duration": 26,
    "start_time": "2021-08-18T12:20:54.379Z"
   },
   {
    "duration": 2312,
    "start_time": "2021-08-18T12:20:54.408Z"
   },
   {
    "duration": 35,
    "start_time": "2021-08-18T12:20:56.722Z"
   },
   {
    "duration": 3,
    "start_time": "2021-08-18T12:20:56.759Z"
   },
   {
    "duration": 33,
    "start_time": "2021-08-18T12:20:56.764Z"
   },
   {
    "duration": 22,
    "start_time": "2021-08-18T12:20:56.799Z"
   },
   {
    "duration": 33,
    "start_time": "2021-08-18T12:20:56.823Z"
   },
   {
    "duration": 14,
    "start_time": "2021-08-18T12:20:56.858Z"
   },
   {
    "duration": 4,
    "start_time": "2021-08-18T12:20:56.874Z"
   },
   {
    "duration": 5,
    "start_time": "2021-08-18T12:20:56.885Z"
   },
   {
    "duration": 9,
    "start_time": "2021-08-18T12:20:56.893Z"
   },
   {
    "duration": 9582,
    "start_time": "2021-08-18T12:24:03.301Z"
   },
   {
    "duration": 16,
    "start_time": "2021-08-18T12:24:20.093Z"
   },
   {
    "duration": 1912,
    "start_time": "2021-08-18T12:28:32.571Z"
   },
   {
    "duration": 107,
    "start_time": "2021-08-18T12:28:34.486Z"
   },
   {
    "duration": 9,
    "start_time": "2021-08-18T12:28:34.596Z"
   },
   {
    "duration": 19,
    "start_time": "2021-08-18T12:28:34.608Z"
   },
   {
    "duration": 8,
    "start_time": "2021-08-18T12:28:34.629Z"
   },
   {
    "duration": 28,
    "start_time": "2021-08-18T12:28:34.639Z"
   },
   {
    "duration": 16,
    "start_time": "2021-08-18T12:28:34.669Z"
   },
   {
    "duration": 6,
    "start_time": "2021-08-18T12:28:34.689Z"
   },
   {
    "duration": 24,
    "start_time": "2021-08-18T12:28:34.698Z"
   },
   {
    "duration": 54,
    "start_time": "2021-08-18T12:28:34.725Z"
   },
   {
    "duration": 4,
    "start_time": "2021-08-18T12:28:34.782Z"
   },
   {
    "duration": 23,
    "start_time": "2021-08-18T12:28:34.788Z"
   },
   {
    "duration": 63,
    "start_time": "2021-08-18T12:28:34.813Z"
   },
   {
    "duration": 27,
    "start_time": "2021-08-18T12:28:34.879Z"
   },
   {
    "duration": 10,
    "start_time": "2021-08-18T12:28:34.909Z"
   },
   {
    "duration": 44,
    "start_time": "2021-08-18T12:28:34.921Z"
   },
   {
    "duration": 19,
    "start_time": "2021-08-18T12:28:34.967Z"
   },
   {
    "duration": 42,
    "start_time": "2021-08-18T12:28:34.989Z"
   },
   {
    "duration": 26,
    "start_time": "2021-08-18T12:28:35.056Z"
   },
   {
    "duration": 19,
    "start_time": "2021-08-18T12:28:35.084Z"
   },
   {
    "duration": 51,
    "start_time": "2021-08-18T12:28:35.106Z"
   },
   {
    "duration": 40,
    "start_time": "2021-08-18T12:28:35.160Z"
   },
   {
    "duration": 51,
    "start_time": "2021-08-18T12:28:35.206Z"
   },
   {
    "duration": 11,
    "start_time": "2021-08-18T12:28:35.261Z"
   },
   {
    "duration": 24,
    "start_time": "2021-08-18T12:28:35.275Z"
   },
   {
    "duration": 5,
    "start_time": "2021-08-18T12:28:35.301Z"
   },
   {
    "duration": 57,
    "start_time": "2021-08-18T12:28:35.309Z"
   },
   {
    "duration": 25,
    "start_time": "2021-08-18T12:28:35.368Z"
   },
   {
    "duration": 583,
    "start_time": "2021-08-18T12:28:35.396Z"
   },
   {
    "duration": 370,
    "start_time": "2021-08-18T12:28:35.981Z"
   },
   {
    "duration": 524,
    "start_time": "2021-08-18T12:28:36.356Z"
   },
   {
    "duration": 450,
    "start_time": "2021-08-18T12:28:36.883Z"
   },
   {
    "duration": 26,
    "start_time": "2021-08-18T12:28:37.337Z"
   },
   {
    "duration": 17,
    "start_time": "2021-08-18T12:28:37.366Z"
   },
   {
    "duration": 8,
    "start_time": "2021-08-18T12:28:37.385Z"
   },
   {
    "duration": 300,
    "start_time": "2021-08-18T12:28:37.395Z"
   },
   {
    "duration": 271,
    "start_time": "2021-08-18T12:28:37.697Z"
   },
   {
    "duration": 5,
    "start_time": "2021-08-18T12:28:37.971Z"
   },
   {
    "duration": 262,
    "start_time": "2021-08-18T12:28:37.978Z"
   },
   {
    "duration": 38,
    "start_time": "2021-08-18T12:28:38.243Z"
   },
   {
    "duration": 6,
    "start_time": "2021-08-18T12:28:38.284Z"
   },
   {
    "duration": 140,
    "start_time": "2021-08-18T12:28:38.293Z"
   },
   {
    "duration": 20,
    "start_time": "2021-08-18T12:28:38.436Z"
   },
   {
    "duration": 13,
    "start_time": "2021-08-18T12:28:38.459Z"
   },
   {
    "duration": 10,
    "start_time": "2021-08-18T12:28:38.475Z"
   },
   {
    "duration": 24,
    "start_time": "2021-08-18T12:28:38.488Z"
   },
   {
    "duration": 55,
    "start_time": "2021-08-18T12:28:38.515Z"
   },
   {
    "duration": 10,
    "start_time": "2021-08-18T12:28:38.573Z"
   },
   {
    "duration": 9,
    "start_time": "2021-08-18T12:28:38.585Z"
   },
   {
    "duration": 10,
    "start_time": "2021-08-18T12:28:38.596Z"
   },
   {
    "duration": 56,
    "start_time": "2021-08-18T12:28:38.609Z"
   },
   {
    "duration": 12,
    "start_time": "2021-08-18T12:28:38.668Z"
   },
   {
    "duration": 33,
    "start_time": "2021-08-18T12:28:38.682Z"
   },
   {
    "duration": 44,
    "start_time": "2021-08-18T12:28:38.717Z"
   },
   {
    "duration": 12,
    "start_time": "2021-08-18T12:28:38.764Z"
   },
   {
    "duration": 18,
    "start_time": "2021-08-18T12:28:38.778Z"
   },
   {
    "duration": 23,
    "start_time": "2021-08-18T12:28:38.798Z"
   },
   {
    "duration": 34,
    "start_time": "2021-08-18T12:28:38.823Z"
   },
   {
    "duration": 5,
    "start_time": "2021-08-18T12:28:38.860Z"
   },
   {
    "duration": 2008,
    "start_time": "2021-08-18T12:28:38.867Z"
   },
   {
    "duration": 19,
    "start_time": "2021-08-18T12:28:40.877Z"
   },
   {
    "duration": 2,
    "start_time": "2021-08-18T12:28:40.899Z"
   },
   {
    "duration": 52,
    "start_time": "2021-08-18T12:28:40.903Z"
   },
   {
    "duration": 20,
    "start_time": "2021-08-18T12:28:40.958Z"
   },
   {
    "duration": 28,
    "start_time": "2021-08-18T12:28:40.980Z"
   },
   {
    "duration": 14,
    "start_time": "2021-08-18T12:28:41.010Z"
   },
   {
    "duration": 13,
    "start_time": "2021-08-18T12:28:41.026Z"
   },
   {
    "duration": 5,
    "start_time": "2021-08-18T12:28:41.055Z"
   },
   {
    "duration": 6,
    "start_time": "2021-08-18T12:28:41.062Z"
   },
   {
    "duration": 9393,
    "start_time": "2021-08-18T12:32:05.706Z"
   },
   {
    "duration": 11,
    "start_time": "2021-08-18T12:32:17.232Z"
   },
   {
    "duration": 6,
    "start_time": "2021-08-18T12:32:18.390Z"
   },
   {
    "duration": 15,
    "start_time": "2021-08-18T12:32:29.183Z"
   },
   {
    "duration": 1943,
    "start_time": "2021-08-18T12:32:36.448Z"
   },
   {
    "duration": 109,
    "start_time": "2021-08-18T12:32:38.394Z"
   },
   {
    "duration": 11,
    "start_time": "2021-08-18T12:32:38.510Z"
   },
   {
    "duration": 19,
    "start_time": "2021-08-18T12:32:38.524Z"
   },
   {
    "duration": 16,
    "start_time": "2021-08-18T12:32:38.546Z"
   },
   {
    "duration": 27,
    "start_time": "2021-08-18T12:32:38.565Z"
   },
   {
    "duration": 16,
    "start_time": "2021-08-18T12:32:38.595Z"
   },
   {
    "duration": 6,
    "start_time": "2021-08-18T12:32:38.613Z"
   },
   {
    "duration": 52,
    "start_time": "2021-08-18T12:32:38.622Z"
   },
   {
    "duration": 25,
    "start_time": "2021-08-18T12:32:38.676Z"
   },
   {
    "duration": 4,
    "start_time": "2021-08-18T12:32:38.704Z"
   },
   {
    "duration": 53,
    "start_time": "2021-08-18T12:32:38.710Z"
   },
   {
    "duration": 42,
    "start_time": "2021-08-18T12:32:38.766Z"
   },
   {
    "duration": 46,
    "start_time": "2021-08-18T12:32:38.810Z"
   },
   {
    "duration": 11,
    "start_time": "2021-08-18T12:32:38.858Z"
   },
   {
    "duration": 27,
    "start_time": "2021-08-18T12:32:38.871Z"
   },
   {
    "duration": 20,
    "start_time": "2021-08-18T12:32:38.900Z"
   },
   {
    "duration": 68,
    "start_time": "2021-08-18T12:32:38.922Z"
   },
   {
    "duration": 24,
    "start_time": "2021-08-18T12:32:38.993Z"
   },
   {
    "duration": 20,
    "start_time": "2021-08-18T12:32:39.020Z"
   },
   {
    "duration": 25,
    "start_time": "2021-08-18T12:32:39.057Z"
   },
   {
    "duration": 41,
    "start_time": "2021-08-18T12:32:39.088Z"
   },
   {
    "duration": 34,
    "start_time": "2021-08-18T12:32:39.156Z"
   },
   {
    "duration": 11,
    "start_time": "2021-08-18T12:32:39.192Z"
   },
   {
    "duration": 21,
    "start_time": "2021-08-18T12:32:39.205Z"
   },
   {
    "duration": 29,
    "start_time": "2021-08-18T12:32:39.229Z"
   },
   {
    "duration": 51,
    "start_time": "2021-08-18T12:32:39.261Z"
   },
   {
    "duration": 24,
    "start_time": "2021-08-18T12:32:39.314Z"
   },
   {
    "duration": 668,
    "start_time": "2021-08-18T12:32:39.340Z"
   },
   {
    "duration": 382,
    "start_time": "2021-08-18T12:32:40.011Z"
   },
   {
    "duration": 548,
    "start_time": "2021-08-18T12:32:40.397Z"
   },
   {
    "duration": 354,
    "start_time": "2021-08-18T12:32:40.947Z"
   },
   {
    "duration": 19,
    "start_time": "2021-08-18T12:32:41.303Z"
   },
   {
    "duration": 40,
    "start_time": "2021-08-18T12:32:41.324Z"
   },
   {
    "duration": 7,
    "start_time": "2021-08-18T12:32:41.366Z"
   },
   {
    "duration": 290,
    "start_time": "2021-08-18T12:32:41.375Z"
   },
   {
    "duration": 274,
    "start_time": "2021-08-18T12:32:41.668Z"
   },
   {
    "duration": 13,
    "start_time": "2021-08-18T12:32:41.944Z"
   },
   {
    "duration": 263,
    "start_time": "2021-08-18T12:32:41.959Z"
   },
   {
    "duration": 41,
    "start_time": "2021-08-18T12:32:42.225Z"
   },
   {
    "duration": 6,
    "start_time": "2021-08-18T12:32:42.268Z"
   },
   {
    "duration": 135,
    "start_time": "2021-08-18T12:32:42.277Z"
   },
   {
    "duration": 13,
    "start_time": "2021-08-18T12:32:42.415Z"
   },
   {
    "duration": 34,
    "start_time": "2021-08-18T12:32:42.431Z"
   },
   {
    "duration": 10,
    "start_time": "2021-08-18T12:32:42.467Z"
   },
   {
    "duration": 19,
    "start_time": "2021-08-18T12:32:42.479Z"
   },
   {
    "duration": 22,
    "start_time": "2021-08-18T12:32:42.501Z"
   },
   {
    "duration": 9,
    "start_time": "2021-08-18T12:32:42.555Z"
   },
   {
    "duration": 6,
    "start_time": "2021-08-18T12:32:42.566Z"
   },
   {
    "duration": 10,
    "start_time": "2021-08-18T12:32:42.574Z"
   },
   {
    "duration": 28,
    "start_time": "2021-08-18T12:32:42.586Z"
   },
   {
    "duration": 42,
    "start_time": "2021-08-18T12:32:42.616Z"
   },
   {
    "duration": 41,
    "start_time": "2021-08-18T12:32:42.661Z"
   },
   {
    "duration": 14,
    "start_time": "2021-08-18T12:32:42.704Z"
   },
   {
    "duration": 12,
    "start_time": "2021-08-18T12:32:42.721Z"
   },
   {
    "duration": 22,
    "start_time": "2021-08-18T12:32:42.735Z"
   },
   {
    "duration": 19,
    "start_time": "2021-08-18T12:32:42.759Z"
   },
   {
    "duration": 7,
    "start_time": "2021-08-18T12:32:42.781Z"
   },
   {
    "duration": 14,
    "start_time": "2021-08-18T12:32:42.790Z"
   },
   {
    "duration": 1904,
    "start_time": "2021-08-18T12:32:42.807Z"
   },
   {
    "duration": 20,
    "start_time": "2021-08-18T12:32:44.714Z"
   },
   {
    "duration": 19,
    "start_time": "2021-08-18T12:32:44.737Z"
   },
   {
    "duration": 21,
    "start_time": "2021-08-18T12:32:44.758Z"
   },
   {
    "duration": 20,
    "start_time": "2021-08-18T12:32:44.781Z"
   },
   {
    "duration": 13,
    "start_time": "2021-08-18T12:32:44.803Z"
   },
   {
    "duration": 43,
    "start_time": "2021-08-18T12:32:44.818Z"
   },
   {
    "duration": 3,
    "start_time": "2021-08-18T12:32:44.868Z"
   },
   {
    "duration": 8,
    "start_time": "2021-08-18T12:32:44.874Z"
   },
   {
    "duration": 9,
    "start_time": "2021-08-18T12:32:44.884Z"
   },
   {
    "duration": 596,
    "start_time": "2021-08-18T12:40:50.879Z"
   },
   {
    "duration": 297,
    "start_time": "2021-08-18T12:40:59.024Z"
   },
   {
    "duration": 285,
    "start_time": "2021-08-18T12:41:47.066Z"
   },
   {
    "duration": 269,
    "start_time": "2021-08-18T12:42:02.202Z"
   },
   {
    "duration": 275,
    "start_time": "2021-08-18T12:53:25.792Z"
   },
   {
    "duration": 589,
    "start_time": "2021-08-18T12:54:00.348Z"
   },
   {
    "duration": 579,
    "start_time": "2021-08-18T12:54:40.635Z"
   },
   {
    "duration": 561,
    "start_time": "2021-08-18T12:54:47.868Z"
   },
   {
    "duration": 379,
    "start_time": "2021-08-18T12:55:01.436Z"
   },
   {
    "duration": 293,
    "start_time": "2021-08-18T12:55:09.972Z"
   },
   {
    "duration": 4,
    "start_time": "2021-08-18T13:00:59.202Z"
   },
   {
    "duration": 283,
    "start_time": "2021-08-18T13:01:08.038Z"
   },
   {
    "duration": 277,
    "start_time": "2021-08-18T13:01:57.729Z"
   },
   {
    "duration": 36,
    "start_time": "2021-08-18T13:03:55.925Z"
   },
   {
    "duration": 38,
    "start_time": "2021-08-18T13:04:12.885Z"
   },
   {
    "duration": 40,
    "start_time": "2021-08-18T13:04:19.269Z"
   },
   {
    "duration": 22,
    "start_time": "2021-08-18T13:04:19.741Z"
   },
   {
    "duration": 20,
    "start_time": "2021-08-18T13:04:24.573Z"
   },
   {
    "duration": 24,
    "start_time": "2021-08-18T13:04:39.782Z"
   },
   {
    "duration": 21,
    "start_time": "2021-08-18T13:09:48.160Z"
   },
   {
    "duration": 21,
    "start_time": "2021-08-18T13:09:51.687Z"
   },
   {
    "duration": 22,
    "start_time": "2021-08-18T13:10:09.567Z"
   },
   {
    "duration": 21,
    "start_time": "2021-08-18T13:15:13.690Z"
   },
   {
    "duration": 23,
    "start_time": "2021-08-18T13:15:19.874Z"
   },
   {
    "duration": 26,
    "start_time": "2021-08-18T13:15:30.083Z"
   },
   {
    "duration": 8,
    "start_time": "2021-08-18T13:24:20.844Z"
   },
   {
    "duration": 355,
    "start_time": "2021-08-18T13:25:27.014Z"
   },
   {
    "duration": 9,
    "start_time": "2021-08-18T13:25:39.919Z"
   },
   {
    "duration": 10,
    "start_time": "2021-08-18T13:26:32.237Z"
   },
   {
    "duration": 8,
    "start_time": "2021-08-18T13:28:19.838Z"
   },
   {
    "duration": 10,
    "start_time": "2021-08-18T13:29:50.326Z"
   },
   {
    "duration": 11,
    "start_time": "2021-08-18T13:30:08.062Z"
   },
   {
    "duration": 370,
    "start_time": "2021-08-18T13:30:50.794Z"
   },
   {
    "duration": 6,
    "start_time": "2021-08-18T13:30:56.409Z"
   },
   {
    "duration": 7,
    "start_time": "2021-08-18T13:31:04.779Z"
   },
   {
    "duration": 9,
    "start_time": "2021-08-18T13:31:11.217Z"
   },
   {
    "duration": 9,
    "start_time": "2021-08-18T13:31:50.979Z"
   },
   {
    "duration": 9,
    "start_time": "2021-08-18T13:32:04.059Z"
   },
   {
    "duration": 9,
    "start_time": "2021-08-18T13:40:37.932Z"
   },
   {
    "duration": 6,
    "start_time": "2021-08-18T15:09:12.156Z"
   },
   {
    "duration": 5,
    "start_time": "2021-08-18T15:09:12.841Z"
   },
   {
    "duration": 20,
    "start_time": "2021-08-18T15:10:38.885Z"
   },
   {
    "duration": 20,
    "start_time": "2021-08-18T15:11:41.163Z"
   },
   {
    "duration": 22,
    "start_time": "2021-08-18T15:12:52.749Z"
   },
   {
    "duration": 23,
    "start_time": "2021-08-18T15:13:51.519Z"
   },
   {
    "duration": 6,
    "start_time": "2021-08-18T15:18:36.465Z"
   },
   {
    "duration": 395,
    "start_time": "2021-08-18T15:28:03.822Z"
   },
   {
    "duration": 5,
    "start_time": "2021-08-18T15:28:04.362Z"
   },
   {
    "duration": 5,
    "start_time": "2021-08-18T15:28:22.212Z"
   },
   {
    "duration": 6,
    "start_time": "2021-08-18T15:28:22.700Z"
   },
   {
    "duration": 8,
    "start_time": "2021-08-18T15:37:38.478Z"
   },
   {
    "duration": 7,
    "start_time": "2021-08-18T15:37:52.724Z"
   },
   {
    "duration": 6,
    "start_time": "2021-08-18T15:41:31.479Z"
   },
   {
    "duration": 7,
    "start_time": "2021-08-18T15:41:44.719Z"
   },
   {
    "duration": 118,
    "start_time": "2021-08-18T19:00:42.012Z"
   },
   {
    "duration": 127,
    "start_time": "2021-08-18T19:00:54.853Z"
   },
   {
    "duration": 5,
    "start_time": "2021-08-18T19:01:10.212Z"
   },
   {
    "duration": 701,
    "start_time": "2021-08-18T19:01:30.978Z"
   },
   {
    "duration": 5,
    "start_time": "2021-08-18T19:02:07.777Z"
   },
   {
    "duration": 725,
    "start_time": "2021-08-18T19:02:08.255Z"
   },
   {
    "duration": 5,
    "start_time": "2021-08-18T19:02:29.946Z"
   },
   {
    "duration": 5,
    "start_time": "2021-08-18T19:02:30.640Z"
   },
   {
    "duration": 4,
    "start_time": "2021-08-18T19:03:06.611Z"
   },
   {
    "duration": 7,
    "start_time": "2021-08-18T19:03:08.951Z"
   },
   {
    "duration": 7,
    "start_time": "2021-08-18T19:03:29.576Z"
   },
   {
    "duration": 8,
    "start_time": "2021-08-18T19:03:37.269Z"
   },
   {
    "duration": 1442,
    "start_time": "2021-08-18T19:04:25.142Z"
   },
   {
    "duration": 5,
    "start_time": "2021-08-18T19:04:27.174Z"
   },
   {
    "duration": 7,
    "start_time": "2021-08-18T19:04:27.647Z"
   },
   {
    "duration": 5,
    "start_time": "2021-08-18T19:04:31.481Z"
   },
   {
    "duration": 7,
    "start_time": "2021-08-18T19:04:31.941Z"
   },
   {
    "duration": 4,
    "start_time": "2021-08-18T19:05:24.241Z"
   },
   {
    "duration": 6,
    "start_time": "2021-08-18T19:05:24.693Z"
   },
   {
    "duration": 4,
    "start_time": "2021-08-18T19:05:56.813Z"
   },
   {
    "duration": 6,
    "start_time": "2021-08-18T19:05:57.206Z"
   },
   {
    "duration": 6,
    "start_time": "2021-08-18T19:06:47.824Z"
   },
   {
    "duration": 7,
    "start_time": "2021-08-18T19:07:04.099Z"
   },
   {
    "duration": 8,
    "start_time": "2021-08-18T19:07:31.394Z"
   },
   {
    "duration": 5,
    "start_time": "2021-08-18T19:08:34.446Z"
   },
   {
    "duration": 11,
    "start_time": "2021-08-18T19:08:34.915Z"
   },
   {
    "duration": 5,
    "start_time": "2021-08-18T19:08:39.443Z"
   },
   {
    "duration": 6,
    "start_time": "2021-08-18T19:08:40.035Z"
   },
   {
    "duration": 7,
    "start_time": "2021-08-18T19:11:01.156Z"
   },
   {
    "duration": 11,
    "start_time": "2021-08-18T19:11:45.279Z"
   },
   {
    "duration": 4,
    "start_time": "2021-08-18T19:13:20.860Z"
   },
   {
    "duration": 374,
    "start_time": "2021-08-18T19:13:29.031Z"
   },
   {
    "duration": 749,
    "start_time": "2021-08-18T19:13:34.838Z"
   },
   {
    "duration": 4,
    "start_time": "2021-08-18T19:13:59.207Z"
   },
   {
    "duration": 705,
    "start_time": "2021-08-18T19:13:59.712Z"
   },
   {
    "duration": 4,
    "start_time": "2021-08-18T19:14:24.131Z"
   },
   {
    "duration": 722,
    "start_time": "2021-08-18T19:14:24.550Z"
   },
   {
    "duration": 4,
    "start_time": "2021-08-18T19:15:08.593Z"
   },
   {
    "duration": 361,
    "start_time": "2021-08-18T19:15:17.652Z"
   },
   {
    "duration": 745,
    "start_time": "2021-08-18T19:15:24.412Z"
   },
   {
    "duration": 4,
    "start_time": "2021-08-18T19:15:38.021Z"
   },
   {
    "duration": 870,
    "start_time": "2021-08-18T19:15:45.454Z"
   },
   {
    "duration": 4,
    "start_time": "2021-08-18T19:17:01.304Z"
   },
   {
    "duration": 11,
    "start_time": "2021-08-18T19:17:01.763Z"
   },
   {
    "duration": 5,
    "start_time": "2021-08-18T19:17:14.272Z"
   },
   {
    "duration": 12,
    "start_time": "2021-08-18T19:17:14.761Z"
   },
   {
    "duration": 11,
    "start_time": "2021-08-18T19:17:30.484Z"
   },
   {
    "duration": 112,
    "start_time": "2021-08-18T19:18:54.360Z"
   },
   {
    "duration": 32,
    "start_time": "2021-08-18T19:25:51.868Z"
   },
   {
    "duration": 20,
    "start_time": "2021-08-18T19:26:05.040Z"
   },
   {
    "duration": 9396,
    "start_time": "2021-08-18T19:26:45.522Z"
   },
   {
    "duration": 10504,
    "start_time": "2021-08-18T19:27:17.828Z"
   },
   {
    "duration": 385,
    "start_time": "2021-08-18T19:28:00.132Z"
   },
   {
    "duration": 23,
    "start_time": "2021-08-18T19:28:15.011Z"
   },
   {
    "duration": 4,
    "start_time": "2021-08-18T19:31:21.402Z"
   },
   {
    "duration": 821,
    "start_time": "2021-08-18T19:31:31.923Z"
   },
   {
    "duration": 4,
    "start_time": "2021-08-18T19:31:41.824Z"
   },
   {
    "duration": 731,
    "start_time": "2021-08-18T19:31:42.274Z"
   },
   {
    "duration": 4,
    "start_time": "2021-08-18T19:32:32.537Z"
   },
   {
    "duration": 373,
    "start_time": "2021-08-18T19:32:41.806Z"
   },
   {
    "duration": 408,
    "start_time": "2021-08-18T19:32:52.580Z"
   },
   {
    "duration": 359,
    "start_time": "2021-08-18T19:33:02.486Z"
   },
   {
    "duration": 372,
    "start_time": "2021-08-18T19:33:14.014Z"
   },
   {
    "duration": 2051,
    "start_time": "2021-08-18T19:33:19.792Z"
   },
   {
    "duration": 107,
    "start_time": "2021-08-18T19:33:21.846Z"
   },
   {
    "duration": 9,
    "start_time": "2021-08-18T19:33:21.956Z"
   },
   {
    "duration": 27,
    "start_time": "2021-08-18T19:33:21.968Z"
   },
   {
    "duration": 26,
    "start_time": "2021-08-18T19:33:21.998Z"
   },
   {
    "duration": 41,
    "start_time": "2021-08-18T19:33:22.027Z"
   },
   {
    "duration": 30,
    "start_time": "2021-08-18T19:33:22.071Z"
   },
   {
    "duration": 10,
    "start_time": "2021-08-18T19:33:22.105Z"
   },
   {
    "duration": 44,
    "start_time": "2021-08-18T19:33:22.118Z"
   },
   {
    "duration": 29,
    "start_time": "2021-08-18T19:33:22.165Z"
   },
   {
    "duration": 6,
    "start_time": "2021-08-18T19:33:22.196Z"
   },
   {
    "duration": 54,
    "start_time": "2021-08-18T19:33:22.205Z"
   },
   {
    "duration": 44,
    "start_time": "2021-08-18T19:33:22.261Z"
   },
   {
    "duration": 54,
    "start_time": "2021-08-18T19:33:22.308Z"
   },
   {
    "duration": 10,
    "start_time": "2021-08-18T19:33:22.365Z"
   },
   {
    "duration": 24,
    "start_time": "2021-08-18T19:33:22.378Z"
   },
   {
    "duration": 18,
    "start_time": "2021-08-18T19:33:22.404Z"
   },
   {
    "duration": 66,
    "start_time": "2021-08-18T19:33:22.424Z"
   },
   {
    "duration": 21,
    "start_time": "2021-08-18T19:33:22.493Z"
   },
   {
    "duration": 43,
    "start_time": "2021-08-18T19:33:22.517Z"
   },
   {
    "duration": 35,
    "start_time": "2021-08-18T19:33:22.562Z"
   },
   {
    "duration": 56,
    "start_time": "2021-08-18T19:33:22.599Z"
   },
   {
    "duration": 32,
    "start_time": "2021-08-18T19:33:22.661Z"
   },
   {
    "duration": 9,
    "start_time": "2021-08-18T19:33:22.697Z"
   },
   {
    "duration": 55,
    "start_time": "2021-08-18T19:33:22.709Z"
   },
   {
    "duration": 5,
    "start_time": "2021-08-18T19:33:22.766Z"
   },
   {
    "duration": 28,
    "start_time": "2021-08-18T19:33:22.774Z"
   },
   {
    "duration": 59,
    "start_time": "2021-08-18T19:33:22.805Z"
   },
   {
    "duration": 525,
    "start_time": "2021-08-18T19:33:22.866Z"
   },
   {
    "duration": 373,
    "start_time": "2021-08-18T19:33:23.393Z"
   },
   {
    "duration": 538,
    "start_time": "2021-08-18T19:33:23.769Z"
   },
   {
    "duration": 372,
    "start_time": "2021-08-18T19:33:24.309Z"
   },
   {
    "duration": 18,
    "start_time": "2021-08-18T19:33:24.684Z"
   },
   {
    "duration": 53,
    "start_time": "2021-08-18T19:33:24.706Z"
   },
   {
    "duration": 7,
    "start_time": "2021-08-18T19:33:24.762Z"
   },
   {
    "duration": 304,
    "start_time": "2021-08-18T19:33:24.772Z"
   },
   {
    "duration": 281,
    "start_time": "2021-08-18T19:33:25.078Z"
   },
   {
    "duration": 7,
    "start_time": "2021-08-18T19:33:25.362Z"
   },
   {
    "duration": 370,
    "start_time": "2021-08-18T19:33:25.372Z"
   },
   {
    "duration": 39,
    "start_time": "2021-08-18T19:33:25.757Z"
   },
   {
    "duration": 8,
    "start_time": "2021-08-18T19:33:25.799Z"
   },
   {
    "duration": 71,
    "start_time": "2021-08-18T19:33:25.810Z"
   },
   {
    "duration": 14,
    "start_time": "2021-08-18T19:33:25.884Z"
   },
   {
    "duration": 34,
    "start_time": "2021-08-18T19:33:25.901Z"
   },
   {
    "duration": 11,
    "start_time": "2021-08-18T19:33:25.956Z"
   },
   {
    "duration": 42,
    "start_time": "2021-08-18T19:33:25.969Z"
   },
   {
    "duration": 24,
    "start_time": "2021-08-18T19:33:26.013Z"
   },
   {
    "duration": 18,
    "start_time": "2021-08-18T19:33:26.040Z"
   },
   {
    "duration": 34,
    "start_time": "2021-08-18T19:33:26.060Z"
   },
   {
    "duration": 17,
    "start_time": "2021-08-18T19:33:26.097Z"
   },
   {
    "duration": 44,
    "start_time": "2021-08-18T19:33:26.117Z"
   },
   {
    "duration": 11,
    "start_time": "2021-08-18T19:33:26.163Z"
   },
   {
    "duration": 41,
    "start_time": "2021-08-18T19:33:26.176Z"
   },
   {
    "duration": 36,
    "start_time": "2021-08-18T19:33:26.220Z"
   },
   {
    "duration": 13,
    "start_time": "2021-08-18T19:33:26.259Z"
   },
   {
    "duration": 25,
    "start_time": "2021-08-18T19:33:26.274Z"
   },
   {
    "duration": 29,
    "start_time": "2021-08-18T19:33:26.302Z"
   },
   {
    "duration": 26,
    "start_time": "2021-08-18T19:33:26.334Z"
   },
   {
    "duration": 30,
    "start_time": "2021-08-18T19:33:26.363Z"
   },
   {
    "duration": 2185,
    "start_time": "2021-08-18T19:33:26.396Z"
   },
   {
    "duration": 20,
    "start_time": "2021-08-18T19:33:28.583Z"
   },
   {
    "duration": 3,
    "start_time": "2021-08-18T19:33:28.605Z"
   },
   {
    "duration": 55,
    "start_time": "2021-08-18T19:33:28.610Z"
   },
   {
    "duration": 18,
    "start_time": "2021-08-18T19:33:28.668Z"
   },
   {
    "duration": 17,
    "start_time": "2021-08-18T19:33:28.688Z"
   },
   {
    "duration": 48,
    "start_time": "2021-08-18T19:33:28.707Z"
   },
   {
    "duration": 26,
    "start_time": "2021-08-18T19:33:28.758Z"
   },
   {
    "duration": 21,
    "start_time": "2021-08-18T19:33:28.792Z"
   },
   {
    "duration": 51,
    "start_time": "2021-08-18T19:33:28.816Z"
   },
   {
    "duration": 5,
    "start_time": "2021-08-18T19:33:28.870Z"
   },
   {
    "duration": 21,
    "start_time": "2021-08-18T19:33:28.877Z"
   },
   {
    "duration": 22,
    "start_time": "2021-08-18T19:33:28.901Z"
   },
   {
    "duration": 50,
    "start_time": "2021-08-18T19:33:28.925Z"
   },
   {
    "duration": 4,
    "start_time": "2021-08-18T19:33:28.977Z"
   },
   {
    "duration": 73,
    "start_time": "2021-08-18T19:33:28.983Z"
   },
   {
    "duration": 11,
    "start_time": "2021-08-18T19:34:27.552Z"
   },
   {
    "duration": 18,
    "start_time": "2021-08-18T19:34:41.386Z"
   },
   {
    "duration": 147,
    "start_time": "2021-08-18T19:35:59.580Z"
   },
   {
    "duration": 545,
    "start_time": "2021-08-18T19:36:11.951Z"
   },
   {
    "duration": 114,
    "start_time": "2021-08-18T19:36:21.920Z"
   },
   {
    "duration": 11,
    "start_time": "2021-08-18T19:36:25.980Z"
   },
   {
    "duration": 32,
    "start_time": "2021-08-18T19:36:32.218Z"
   },
   {
    "duration": 22,
    "start_time": "2021-08-18T19:37:22.676Z"
   },
   {
    "duration": 5,
    "start_time": "2021-08-18T19:37:23.436Z"
   },
   {
    "duration": 18,
    "start_time": "2021-08-18T19:37:23.954Z"
   },
   {
    "duration": 14,
    "start_time": "2021-08-18T19:37:24.809Z"
   },
   {
    "duration": 22,
    "start_time": "2021-08-18T19:40:20.782Z"
   },
   {
    "duration": 13,
    "start_time": "2021-08-18T19:40:43.076Z"
   },
   {
    "duration": 21,
    "start_time": "2021-08-18T19:40:44.412Z"
   },
   {
    "duration": 5,
    "start_time": "2021-08-18T19:40:45.158Z"
   },
   {
    "duration": 18,
    "start_time": "2021-08-18T19:40:45.789Z"
   },
   {
    "duration": 14,
    "start_time": "2021-08-18T19:41:06.322Z"
   },
   {
    "duration": 21,
    "start_time": "2021-08-18T19:41:08.632Z"
   },
   {
    "duration": 4,
    "start_time": "2021-08-18T19:41:08.656Z"
   },
   {
    "duration": 23,
    "start_time": "2021-08-18T19:41:08.663Z"
   },
   {
    "duration": 17,
    "start_time": "2021-08-18T19:41:08.688Z"
   },
   {
    "duration": 18,
    "start_time": "2021-08-18T19:41:33.543Z"
   },
   {
    "duration": 15,
    "start_time": "2021-08-18T19:41:34.914Z"
   },
   {
    "duration": 6,
    "start_time": "2021-08-18T19:43:40.745Z"
   },
   {
    "duration": 19,
    "start_time": "2021-08-18T19:43:49.216Z"
   },
   {
    "duration": 4,
    "start_time": "2021-08-18T19:43:57.655Z"
   },
   {
    "duration": 17,
    "start_time": "2021-08-18T19:44:00.959Z"
   },
   {
    "duration": 5,
    "start_time": "2021-08-18T19:44:16.050Z"
   },
   {
    "duration": 25,
    "start_time": "2021-08-18T19:44:27.996Z"
   },
   {
    "duration": 5,
    "start_time": "2021-08-18T19:45:31.707Z"
   },
   {
    "duration": 21,
    "start_time": "2021-08-18T19:45:35.108Z"
   },
   {
    "duration": 5,
    "start_time": "2021-08-18T19:45:41.335Z"
   },
   {
    "duration": 21,
    "start_time": "2021-08-18T19:45:42.195Z"
   },
   {
    "duration": 20,
    "start_time": "2021-08-18T19:45:42.743Z"
   },
   {
    "duration": 4,
    "start_time": "2021-08-18T19:46:27.043Z"
   },
   {
    "duration": 22,
    "start_time": "2021-08-18T19:46:27.407Z"
   },
   {
    "duration": 20,
    "start_time": "2021-08-18T19:46:27.734Z"
   },
   {
    "duration": 26,
    "start_time": "2021-08-18T19:46:53.182Z"
   },
   {
    "duration": 61,
    "start_time": "2021-08-18T19:47:04.647Z"
   },
   {
    "duration": 56,
    "start_time": "2021-08-18T19:47:35.809Z"
   },
   {
    "duration": 5,
    "start_time": "2021-08-18T19:47:51.657Z"
   },
   {
    "duration": 13,
    "start_time": "2021-08-18T19:50:14.279Z"
   },
   {
    "duration": 2086,
    "start_time": "2021-08-18T19:50:57.839Z"
   },
   {
    "duration": 117,
    "start_time": "2021-08-18T19:50:59.928Z"
   },
   {
    "duration": 9,
    "start_time": "2021-08-18T19:51:00.048Z"
   },
   {
    "duration": 32,
    "start_time": "2021-08-18T19:51:00.060Z"
   },
   {
    "duration": 18,
    "start_time": "2021-08-18T19:51:00.095Z"
   },
   {
    "duration": 45,
    "start_time": "2021-08-18T19:51:00.116Z"
   },
   {
    "duration": 20,
    "start_time": "2021-08-18T19:51:00.164Z"
   },
   {
    "duration": 10,
    "start_time": "2021-08-18T19:51:00.190Z"
   },
   {
    "duration": 70,
    "start_time": "2021-08-18T19:51:00.204Z"
   },
   {
    "duration": 29,
    "start_time": "2021-08-18T19:51:00.277Z"
   },
   {
    "duration": 15,
    "start_time": "2021-08-18T19:51:00.309Z"
   },
   {
    "duration": 43,
    "start_time": "2021-08-18T19:51:00.327Z"
   },
   {
    "duration": 65,
    "start_time": "2021-08-18T19:51:00.373Z"
   },
   {
    "duration": 34,
    "start_time": "2021-08-18T19:51:00.441Z"
   },
   {
    "duration": 15,
    "start_time": "2021-08-18T19:51:00.478Z"
   },
   {
    "duration": 35,
    "start_time": "2021-08-18T19:51:00.496Z"
   },
   {
    "duration": 53,
    "start_time": "2021-08-18T19:51:00.534Z"
   },
   {
    "duration": 59,
    "start_time": "2021-08-18T19:51:00.590Z"
   },
   {
    "duration": 46,
    "start_time": "2021-08-18T19:51:00.652Z"
   },
   {
    "duration": 23,
    "start_time": "2021-08-18T19:51:00.701Z"
   },
   {
    "duration": 49,
    "start_time": "2021-08-18T19:51:00.727Z"
   },
   {
    "duration": 46,
    "start_time": "2021-08-18T19:51:00.779Z"
   },
   {
    "duration": 53,
    "start_time": "2021-08-18T19:51:00.835Z"
   },
   {
    "duration": 11,
    "start_time": "2021-08-18T19:51:00.893Z"
   },
   {
    "duration": 54,
    "start_time": "2021-08-18T19:51:00.906Z"
   },
   {
    "duration": 6,
    "start_time": "2021-08-18T19:51:00.963Z"
   },
   {
    "duration": 37,
    "start_time": "2021-08-18T19:51:00.971Z"
   },
   {
    "duration": 60,
    "start_time": "2021-08-18T19:51:01.010Z"
   },
   {
    "duration": 775,
    "start_time": "2021-08-18T19:51:01.072Z"
   },
   {
    "duration": 527,
    "start_time": "2021-08-18T19:51:01.850Z"
   },
   {
    "duration": 531,
    "start_time": "2021-08-18T19:51:02.379Z"
   },
   {
    "duration": 386,
    "start_time": "2021-08-18T19:51:02.912Z"
   },
   {
    "duration": 20,
    "start_time": "2021-08-18T19:51:03.301Z"
   },
   {
    "duration": 52,
    "start_time": "2021-08-18T19:51:03.324Z"
   },
   {
    "duration": 8,
    "start_time": "2021-08-18T19:51:03.379Z"
   },
   {
    "duration": 307,
    "start_time": "2021-08-18T19:51:03.389Z"
   },
   {
    "duration": 287,
    "start_time": "2021-08-18T19:51:03.698Z"
   },
   {
    "duration": 5,
    "start_time": "2021-08-18T19:51:03.988Z"
   },
   {
    "duration": 371,
    "start_time": "2021-08-18T19:51:03.995Z"
   },
   {
    "duration": 29,
    "start_time": "2021-08-18T19:51:04.368Z"
   },
   {
    "duration": 7,
    "start_time": "2021-08-18T19:51:04.399Z"
   },
   {
    "duration": 67,
    "start_time": "2021-08-18T19:51:04.409Z"
   },
   {
    "duration": 10,
    "start_time": "2021-08-18T19:51:04.478Z"
   },
   {
    "duration": 18,
    "start_time": "2021-08-18T19:51:04.490Z"
   },
   {
    "duration": 10,
    "start_time": "2021-08-18T19:51:04.510Z"
   },
   {
    "duration": 48,
    "start_time": "2021-08-18T19:51:04.522Z"
   },
   {
    "duration": 22,
    "start_time": "2021-08-18T19:51:04.573Z"
   },
   {
    "duration": 11,
    "start_time": "2021-08-18T19:51:04.598Z"
   },
   {
    "duration": 7,
    "start_time": "2021-08-18T19:51:04.656Z"
   },
   {
    "duration": 9,
    "start_time": "2021-08-18T19:51:04.665Z"
   },
   {
    "duration": 33,
    "start_time": "2021-08-18T19:51:04.676Z"
   },
   {
    "duration": 45,
    "start_time": "2021-08-18T19:51:04.711Z"
   },
   {
    "duration": 36,
    "start_time": "2021-08-18T19:51:04.759Z"
   },
   {
    "duration": 25,
    "start_time": "2021-08-18T19:51:04.797Z"
   },
   {
    "duration": 37,
    "start_time": "2021-08-18T19:51:04.824Z"
   },
   {
    "duration": 13,
    "start_time": "2021-08-18T19:51:04.864Z"
   },
   {
    "duration": 21,
    "start_time": "2021-08-18T19:51:04.880Z"
   },
   {
    "duration": 7,
    "start_time": "2021-08-18T19:51:04.903Z"
   },
   {
    "duration": 7,
    "start_time": "2021-08-18T19:51:04.956Z"
   },
   {
    "duration": 1945,
    "start_time": "2021-08-18T19:51:04.965Z"
   },
   {
    "duration": 47,
    "start_time": "2021-08-18T19:51:06.913Z"
   },
   {
    "duration": 3,
    "start_time": "2021-08-18T19:51:06.962Z"
   },
   {
    "duration": 31,
    "start_time": "2021-08-18T19:51:06.968Z"
   },
   {
    "duration": 55,
    "start_time": "2021-08-18T19:51:07.001Z"
   },
   {
    "duration": 15,
    "start_time": "2021-08-18T19:51:07.058Z"
   },
   {
    "duration": 15,
    "start_time": "2021-08-18T19:51:07.076Z"
   },
   {
    "duration": 7,
    "start_time": "2021-08-18T19:51:07.095Z"
   },
   {
    "duration": 99,
    "start_time": "2021-08-18T19:51:07.113Z"
   },
   {
    "duration": 5,
    "start_time": "2021-08-18T19:51:07.216Z"
   },
   {
    "duration": 46,
    "start_time": "2021-08-18T19:51:07.224Z"
   },
   {
    "duration": 19,
    "start_time": "2021-08-18T19:51:07.274Z"
   },
   {
    "duration": 42,
    "start_time": "2021-08-18T19:51:07.296Z"
   },
   {
    "duration": 5,
    "start_time": "2021-08-18T19:51:07.342Z"
   },
   {
    "duration": 26,
    "start_time": "2021-08-18T19:51:07.356Z"
   },
   {
    "duration": 86,
    "start_time": "2021-08-18T19:51:07.386Z"
   },
   {
    "duration": 14,
    "start_time": "2021-08-18T19:51:07.475Z"
   },
   {
    "duration": 11,
    "start_time": "2021-08-18T19:57:58.326Z"
   },
   {
    "duration": 5,
    "start_time": "2021-08-18T20:03:25.145Z"
   },
   {
    "duration": 10736,
    "start_time": "2021-08-18T20:04:15.329Z"
   },
   {
    "duration": 34,
    "start_time": "2021-08-18T20:04:27.394Z"
   },
   {
    "duration": 7,
    "start_time": "2021-08-18T20:05:05.787Z"
   },
   {
    "duration": 24,
    "start_time": "2021-08-19T08:23:40.858Z"
   },
   {
    "duration": 587,
    "start_time": "2021-08-19T08:27:00.023Z"
   },
   {
    "duration": 27,
    "start_time": "2021-08-19T08:27:12.031Z"
   },
   {
    "duration": 26,
    "start_time": "2021-08-19T08:27:23.913Z"
   },
   {
    "duration": 10,
    "start_time": "2021-08-19T08:27:39.216Z"
   },
   {
    "duration": 6,
    "start_time": "2021-08-19T08:27:39.698Z"
   },
   {
    "duration": 6,
    "start_time": "2021-08-19T08:27:40.231Z"
   },
   {
    "duration": 28,
    "start_time": "2021-08-19T08:27:47.400Z"
   },
   {
    "duration": 11,
    "start_time": "2021-08-19T08:27:54.344Z"
   },
   {
    "duration": 53,
    "start_time": "2021-08-19T08:29:25.156Z"
   },
   {
    "duration": 969,
    "start_time": "2021-08-19T08:29:43.596Z"
   },
   {
    "duration": 21,
    "start_time": "2021-08-19T08:30:48.606Z"
   },
   {
    "duration": 32,
    "start_time": "2021-08-19T08:47:30.187Z"
   },
   {
    "duration": 24,
    "start_time": "2021-08-19T09:20:23.908Z"
   },
   {
    "duration": 18,
    "start_time": "2021-08-19T09:32:17.219Z"
   },
   {
    "duration": 37,
    "start_time": "2021-08-19T09:33:28.030Z"
   },
   {
    "duration": 17,
    "start_time": "2021-08-19T09:33:45.966Z"
   },
   {
    "duration": 31,
    "start_time": "2021-08-19T09:38:57.745Z"
   },
   {
    "duration": 17,
    "start_time": "2021-08-19T09:39:56.372Z"
   },
   {
    "duration": 17,
    "start_time": "2021-08-19T09:40:41.260Z"
   },
   {
    "duration": 18,
    "start_time": "2021-08-19T09:41:00.262Z"
   },
   {
    "duration": 18,
    "start_time": "2021-08-19T09:41:47.078Z"
   },
   {
    "duration": 6,
    "start_time": "2021-08-19T09:41:49.231Z"
   },
   {
    "duration": 14,
    "start_time": "2021-08-19T09:41:53.430Z"
   },
   {
    "duration": 29,
    "start_time": "2021-08-19T09:42:48.266Z"
   },
   {
    "duration": 14,
    "start_time": "2021-08-19T09:42:55.106Z"
   },
   {
    "duration": 32,
    "start_time": "2021-08-19T09:43:10.355Z"
   },
   {
    "duration": 20,
    "start_time": "2021-08-19T09:43:34.675Z"
   },
   {
    "duration": 6,
    "start_time": "2021-08-19T09:43:36.002Z"
   },
   {
    "duration": 30,
    "start_time": "2021-08-19T09:43:36.578Z"
   },
   {
    "duration": 16,
    "start_time": "2021-08-19T09:45:26.982Z"
   },
   {
    "duration": 20,
    "start_time": "2021-08-19T09:46:11.026Z"
   },
   {
    "duration": 6,
    "start_time": "2021-08-19T09:46:15.442Z"
   },
   {
    "duration": 15,
    "start_time": "2021-08-19T09:46:15.786Z"
   },
   {
    "duration": 6,
    "start_time": "2021-08-19T09:48:37.430Z"
   },
   {
    "duration": 15,
    "start_time": "2021-08-19T09:48:38.151Z"
   },
   {
    "duration": 7,
    "start_time": "2021-08-19T09:48:48.020Z"
   },
   {
    "duration": 16,
    "start_time": "2021-08-19T09:48:48.517Z"
   },
   {
    "duration": 19,
    "start_time": "2021-08-19T09:50:36.991Z"
   },
   {
    "duration": 6,
    "start_time": "2021-08-19T09:50:37.758Z"
   },
   {
    "duration": 15,
    "start_time": "2021-08-19T09:50:38.255Z"
   },
   {
    "duration": 437,
    "start_time": "2021-08-19T09:53:56.560Z"
   },
   {
    "duration": 366,
    "start_time": "2021-08-19T09:54:15.006Z"
   },
   {
    "duration": 388,
    "start_time": "2021-08-19T09:55:42.186Z"
   },
   {
    "duration": 14,
    "start_time": "2021-08-19T09:56:36.235Z"
   },
   {
    "duration": 5,
    "start_time": "2021-08-19T09:58:01.055Z"
   },
   {
    "duration": 16,
    "start_time": "2021-08-19T09:58:01.702Z"
   },
   {
    "duration": 44,
    "start_time": "2021-08-19T09:58:08.328Z"
   },
   {
    "duration": 17,
    "start_time": "2021-08-19T09:58:36.174Z"
   },
   {
    "duration": 6,
    "start_time": "2021-08-19T10:00:16.753Z"
   },
   {
    "duration": 5,
    "start_time": "2021-08-19T10:00:17.329Z"
   },
   {
    "duration": 16,
    "start_time": "2021-08-19T10:00:17.826Z"
   },
   {
    "duration": 9,
    "start_time": "2021-08-19T10:02:24.285Z"
   },
   {
    "duration": 33,
    "start_time": "2021-08-19T10:02:28.766Z"
   },
   {
    "duration": 116,
    "start_time": "2021-08-19T10:02:38.582Z"
   },
   {
    "duration": 36,
    "start_time": "2021-08-19T10:02:38.953Z"
   },
   {
    "duration": 9,
    "start_time": "2021-08-19T10:02:48.190Z"
   },
   {
    "duration": 26,
    "start_time": "2021-08-19T10:02:48.648Z"
   },
   {
    "duration": 59,
    "start_time": "2021-08-19T10:03:00.385Z"
   },
   {
    "duration": 25,
    "start_time": "2021-08-19T10:04:37.255Z"
   },
   {
    "duration": 57,
    "start_time": "2021-08-19T10:04:47.436Z"
   },
   {
    "duration": 8,
    "start_time": "2021-08-19T10:05:14.788Z"
   },
   {
    "duration": 28,
    "start_time": "2021-08-19T10:05:19.355Z"
   },
   {
    "duration": 37,
    "start_time": "2021-08-19T10:07:21.030Z"
   },
   {
    "duration": 37,
    "start_time": "2021-08-19T10:07:27.882Z"
   },
   {
    "duration": 47,
    "start_time": "2021-08-19T10:07:33.042Z"
   },
   {
    "duration": 49,
    "start_time": "2021-08-19T10:07:42.291Z"
   },
   {
    "duration": 8,
    "start_time": "2021-08-19T10:08:13.195Z"
   },
   {
    "duration": 55,
    "start_time": "2021-08-19T10:09:17.893Z"
   },
   {
    "duration": 7,
    "start_time": "2021-08-19T10:09:18.540Z"
   },
   {
    "duration": 9086,
    "start_time": "2021-08-19T11:37:54.078Z"
   },
   {
    "duration": 16,
    "start_time": "2021-08-19T11:38:33.747Z"
   },
   {
    "duration": 27,
    "start_time": "2021-08-19T11:38:36.946Z"
   },
   {
    "duration": 30,
    "start_time": "2021-08-19T11:38:50.116Z"
   },
   {
    "duration": 31,
    "start_time": "2021-08-19T11:39:03.901Z"
   },
   {
    "duration": 32,
    "start_time": "2021-08-19T11:40:40.231Z"
   },
   {
    "duration": 32,
    "start_time": "2021-08-19T11:40:49.207Z"
   },
   {
    "duration": 30,
    "start_time": "2021-08-19T11:40:56.471Z"
   },
   {
    "duration": 35,
    "start_time": "2021-08-19T11:41:00.257Z"
   },
   {
    "duration": 10,
    "start_time": "2021-08-19T11:41:40.703Z"
   },
   {
    "duration": 19,
    "start_time": "2021-08-19T11:41:45.687Z"
   },
   {
    "duration": 9,
    "start_time": "2021-08-19T11:42:23.481Z"
   },
   {
    "duration": 18,
    "start_time": "2021-08-19T11:42:23.858Z"
   },
   {
    "duration": 8,
    "start_time": "2021-08-19T11:42:31.737Z"
   },
   {
    "duration": 20,
    "start_time": "2021-08-19T11:42:32.282Z"
   },
   {
    "duration": 8,
    "start_time": "2021-08-19T11:42:37.353Z"
   },
   {
    "duration": 21,
    "start_time": "2021-08-19T11:42:37.731Z"
   },
   {
    "duration": 30,
    "start_time": "2021-08-19T11:43:12.567Z"
   },
   {
    "duration": 9,
    "start_time": "2021-08-19T11:43:13.294Z"
   },
   {
    "duration": 23,
    "start_time": "2021-08-19T11:43:13.853Z"
   },
   {
    "duration": 37,
    "start_time": "2021-08-19T11:44:33.672Z"
   },
   {
    "duration": 8,
    "start_time": "2021-08-19T11:44:51.697Z"
   },
   {
    "duration": 37,
    "start_time": "2021-08-19T11:45:16.545Z"
   },
   {
    "duration": 8,
    "start_time": "2021-08-19T11:45:17.103Z"
   },
   {
    "duration": 31,
    "start_time": "2021-08-19T11:46:48.587Z"
   },
   {
    "duration": 9,
    "start_time": "2021-08-19T11:46:49.018Z"
   },
   {
    "duration": 37,
    "start_time": "2021-08-19T11:47:01.428Z"
   },
   {
    "duration": 43,
    "start_time": "2021-08-19T11:47:36.652Z"
   },
   {
    "duration": 9,
    "start_time": "2021-08-19T11:47:37.237Z"
   },
   {
    "duration": 35,
    "start_time": "2021-08-19T13:14:21.560Z"
   },
   {
    "duration": 38,
    "start_time": "2021-08-19T13:16:26.347Z"
   },
   {
    "duration": 2006,
    "start_time": "2021-08-19T13:16:31.937Z"
   },
   {
    "duration": 118,
    "start_time": "2021-08-19T13:16:33.945Z"
   },
   {
    "duration": 9,
    "start_time": "2021-08-19T13:16:34.066Z"
   },
   {
    "duration": 23,
    "start_time": "2021-08-19T13:16:34.078Z"
   },
   {
    "duration": 8,
    "start_time": "2021-08-19T13:16:34.103Z"
   },
   {
    "duration": 42,
    "start_time": "2021-08-19T13:16:34.114Z"
   },
   {
    "duration": 17,
    "start_time": "2021-08-19T13:16:34.158Z"
   },
   {
    "duration": 7,
    "start_time": "2021-08-19T13:16:34.181Z"
   },
   {
    "duration": 27,
    "start_time": "2021-08-19T13:16:34.191Z"
   },
   {
    "duration": 24,
    "start_time": "2021-08-19T13:16:34.257Z"
   },
   {
    "duration": 5,
    "start_time": "2021-08-19T13:16:34.283Z"
   },
   {
    "duration": 38,
    "start_time": "2021-08-19T13:16:34.290Z"
   },
   {
    "duration": 53,
    "start_time": "2021-08-19T13:16:34.330Z"
   },
   {
    "duration": 29,
    "start_time": "2021-08-19T13:16:34.385Z"
   },
   {
    "duration": 9,
    "start_time": "2021-08-19T13:16:34.417Z"
   },
   {
    "duration": 34,
    "start_time": "2021-08-19T13:16:34.428Z"
   },
   {
    "duration": 18,
    "start_time": "2021-08-19T13:16:34.465Z"
   },
   {
    "duration": 41,
    "start_time": "2021-08-19T13:16:34.485Z"
   },
   {
    "duration": 43,
    "start_time": "2021-08-19T13:16:34.529Z"
   },
   {
    "duration": 18,
    "start_time": "2021-08-19T13:16:34.574Z"
   },
   {
    "duration": 29,
    "start_time": "2021-08-19T13:16:34.594Z"
   },
   {
    "duration": 64,
    "start_time": "2021-08-19T13:16:34.625Z"
   },
   {
    "duration": 31,
    "start_time": "2021-08-19T13:16:34.695Z"
   },
   {
    "duration": 34,
    "start_time": "2021-08-19T13:16:34.730Z"
   },
   {
    "duration": 21,
    "start_time": "2021-08-19T13:16:34.767Z"
   },
   {
    "duration": 7,
    "start_time": "2021-08-19T13:16:34.790Z"
   },
   {
    "duration": 45,
    "start_time": "2021-08-19T13:16:34.799Z"
   },
   {
    "duration": 31,
    "start_time": "2021-08-19T13:16:34.846Z"
   },
   {
    "duration": 541,
    "start_time": "2021-08-19T13:16:34.879Z"
   },
   {
    "duration": 377,
    "start_time": "2021-08-19T13:16:35.422Z"
   },
   {
    "duration": 502,
    "start_time": "2021-08-19T13:16:35.801Z"
   },
   {
    "duration": 370,
    "start_time": "2021-08-19T13:16:36.306Z"
   },
   {
    "duration": 17,
    "start_time": "2021-08-19T13:16:36.679Z"
   },
   {
    "duration": 23,
    "start_time": "2021-08-19T13:16:36.698Z"
   },
   {
    "duration": 32,
    "start_time": "2021-08-19T13:16:36.724Z"
   },
   {
    "duration": 277,
    "start_time": "2021-08-19T13:16:36.758Z"
   },
   {
    "duration": 270,
    "start_time": "2021-08-19T13:16:37.037Z"
   },
   {
    "duration": 5,
    "start_time": "2021-08-19T13:16:37.310Z"
   },
   {
    "duration": 352,
    "start_time": "2021-08-19T13:16:37.318Z"
   },
   {
    "duration": 49,
    "start_time": "2021-08-19T13:16:37.672Z"
   },
   {
    "duration": 52,
    "start_time": "2021-08-19T13:16:37.724Z"
   },
   {
    "duration": 31,
    "start_time": "2021-08-19T13:16:37.778Z"
   },
   {
    "duration": 9,
    "start_time": "2021-08-19T13:16:37.812Z"
   },
   {
    "duration": 48,
    "start_time": "2021-08-19T13:16:37.823Z"
   },
   {
    "duration": 54,
    "start_time": "2021-08-19T13:16:37.873Z"
   },
   {
    "duration": 7,
    "start_time": "2021-08-19T13:16:37.930Z"
   },
   {
    "duration": 20,
    "start_time": "2021-08-19T13:16:37.939Z"
   },
   {
    "duration": 34,
    "start_time": "2021-08-19T13:16:37.961Z"
   },
   {
    "duration": 11,
    "start_time": "2021-08-19T13:16:37.997Z"
   },
   {
    "duration": 47,
    "start_time": "2021-08-19T13:16:38.010Z"
   },
   {
    "duration": 10,
    "start_time": "2021-08-19T13:16:38.059Z"
   },
   {
    "duration": 23,
    "start_time": "2021-08-19T13:16:38.072Z"
   },
   {
    "duration": 24,
    "start_time": "2021-08-19T13:16:38.098Z"
   },
   {
    "duration": 38,
    "start_time": "2021-08-19T13:16:38.125Z"
   },
   {
    "duration": 40,
    "start_time": "2021-08-19T13:16:38.166Z"
   },
   {
    "duration": 44,
    "start_time": "2021-08-19T13:16:38.209Z"
   },
   {
    "duration": 23,
    "start_time": "2021-08-19T13:16:38.256Z"
   },
   {
    "duration": 21,
    "start_time": "2021-08-19T13:16:38.282Z"
   },
   {
    "duration": 27,
    "start_time": "2021-08-19T13:16:38.306Z"
   },
   {
    "duration": 22,
    "start_time": "2021-08-19T13:16:38.335Z"
   },
   {
    "duration": 50,
    "start_time": "2021-08-19T13:16:38.359Z"
   },
   {
    "duration": 63,
    "start_time": "2021-08-19T13:16:38.412Z"
   },
   {
    "duration": 6,
    "start_time": "2021-08-19T13:16:38.477Z"
   },
   {
    "duration": 24,
    "start_time": "2021-08-19T13:16:38.485Z"
   },
   {
    "duration": 47,
    "start_time": "2021-08-19T13:16:38.512Z"
   },
   {
    "duration": 25,
    "start_time": "2021-08-19T13:16:38.561Z"
   },
   {
    "duration": 34,
    "start_time": "2021-08-19T13:16:38.588Z"
   },
   {
    "duration": 29,
    "start_time": "2021-08-19T13:16:38.630Z"
   },
   {
    "duration": 15,
    "start_time": "2021-08-19T13:16:38.662Z"
   },
   {
    "duration": 24,
    "start_time": "2021-08-19T13:16:38.679Z"
   },
   {
    "duration": 27,
    "start_time": "2021-08-19T13:16:38.705Z"
   },
   {
    "duration": 21,
    "start_time": "2021-08-19T13:16:38.736Z"
   },
   {
    "duration": 11,
    "start_time": "2021-08-19T13:16:38.760Z"
   },
   {
    "duration": 1971,
    "start_time": "2021-08-19T13:16:38.774Z"
   },
   {
    "duration": 27,
    "start_time": "2021-08-19T13:16:40.749Z"
   },
   {
    "duration": 3,
    "start_time": "2021-08-19T13:16:40.779Z"
   },
   {
    "duration": 13,
    "start_time": "2021-08-19T13:16:40.785Z"
   },
   {
    "duration": 13,
    "start_time": "2021-08-19T13:16:40.801Z"
   },
   {
    "duration": 6228,
    "start_time": "2021-08-19T13:16:40.817Z"
   },
   {
    "duration": 25,
    "start_time": "2021-08-19T13:16:47.048Z"
   },
   {
    "duration": 23,
    "start_time": "2021-08-19T13:16:47.075Z"
   },
   {
    "duration": 10,
    "start_time": "2021-08-19T13:16:47.100Z"
   },
   {
    "duration": 50,
    "start_time": "2021-08-19T13:16:47.112Z"
   },
   {
    "duration": 4,
    "start_time": "2021-08-19T13:16:47.165Z"
   },
   {
    "duration": 12,
    "start_time": "2021-08-19T13:16:47.171Z"
   },
   {
    "duration": 71,
    "start_time": "2021-08-19T13:16:47.186Z"
   },
   {
    "duration": 5,
    "start_time": "2021-08-19T13:16:47.259Z"
   },
   {
    "duration": 17,
    "start_time": "2021-08-19T13:16:47.267Z"
   },
   {
    "duration": 13,
    "start_time": "2021-08-19T13:16:47.287Z"
   },
   {
    "duration": 56,
    "start_time": "2021-08-19T13:16:47.302Z"
   },
   {
    "duration": 4,
    "start_time": "2021-08-19T13:16:47.361Z"
   },
   {
    "duration": 25,
    "start_time": "2021-08-19T13:16:47.368Z"
   },
   {
    "duration": 82,
    "start_time": "2021-08-19T13:16:47.395Z"
   },
   {
    "duration": 10,
    "start_time": "2021-08-19T13:16:47.480Z"
   },
   {
    "duration": 31,
    "start_time": "2021-08-19T13:17:38.461Z"
   },
   {
    "duration": 21,
    "start_time": "2021-08-19T13:18:35.207Z"
   },
   {
    "duration": 19,
    "start_time": "2021-08-19T13:18:49.007Z"
   },
   {
    "duration": 28,
    "start_time": "2021-08-19T13:18:52.934Z"
   },
   {
    "duration": 26,
    "start_time": "2021-08-19T13:20:05.380Z"
   },
   {
    "duration": 28,
    "start_time": "2021-08-19T13:20:10.802Z"
   },
   {
    "duration": 32,
    "start_time": "2021-08-19T13:20:28.317Z"
   },
   {
    "duration": 34,
    "start_time": "2021-08-19T13:31:40.370Z"
   },
   {
    "duration": 33,
    "start_time": "2021-08-19T13:35:29.873Z"
   },
   {
    "duration": 35,
    "start_time": "2021-08-19T13:36:25.097Z"
   },
   {
    "duration": 34,
    "start_time": "2021-08-19T13:36:37.857Z"
   },
   {
    "duration": 30,
    "start_time": "2021-08-19T13:36:42.842Z"
   },
   {
    "duration": 35,
    "start_time": "2021-08-19T13:36:47.065Z"
   },
   {
    "duration": 10,
    "start_time": "2021-08-19T13:37:16.963Z"
   },
   {
    "duration": 17,
    "start_time": "2021-08-19T13:37:22.667Z"
   },
   {
    "duration": 10,
    "start_time": "2021-08-19T13:37:33.243Z"
   },
   {
    "duration": 18,
    "start_time": "2021-08-19T13:37:33.750Z"
   },
   {
    "duration": 8,
    "start_time": "2021-08-19T13:37:41.674Z"
   },
   {
    "duration": 14,
    "start_time": "2021-08-19T13:37:49.460Z"
   },
   {
    "duration": 10,
    "start_time": "2021-08-19T13:38:10.571Z"
   },
   {
    "duration": 31,
    "start_time": "2021-08-19T13:39:09.821Z"
   },
   {
    "duration": 30,
    "start_time": "2021-08-19T13:39:10.630Z"
   },
   {
    "duration": 11,
    "start_time": "2021-08-19T13:39:11.317Z"
   },
   {
    "duration": 14,
    "start_time": "2021-08-19T13:39:12.213Z"
   },
   {
    "duration": 527,
    "start_time": "2021-08-19T13:41:43.233Z"
   },
   {
    "duration": 42,
    "start_time": "2021-08-19T13:41:53.084Z"
   },
   {
    "duration": 8,
    "start_time": "2021-08-19T13:42:00.276Z"
   },
   {
    "duration": 10762,
    "start_time": "2021-08-19T14:24:27.148Z"
   },
   {
    "duration": 10,
    "start_time": "2021-08-19T14:25:19.353Z"
   },
   {
    "duration": 10,
    "start_time": "2021-08-19T14:26:15.072Z"
   },
   {
    "duration": 13,
    "start_time": "2021-08-19T14:26:15.561Z"
   },
   {
    "duration": 42,
    "start_time": "2021-08-19T14:26:26.881Z"
   },
   {
    "duration": 8,
    "start_time": "2021-08-19T14:26:27.448Z"
   },
   {
    "duration": 12,
    "start_time": "2021-08-19T14:26:28.840Z"
   },
   {
    "duration": 32,
    "start_time": "2021-08-19T14:32:49.414Z"
   },
   {
    "duration": 22,
    "start_time": "2021-08-19T14:33:25.447Z"
   },
   {
    "duration": 46,
    "start_time": "2021-08-19T14:34:22.194Z"
   },
   {
    "duration": 18,
    "start_time": "2021-08-19T14:35:19.970Z"
   },
   {
    "duration": 14,
    "start_time": "2021-08-19T14:35:36.667Z"
   },
   {
    "duration": 11,
    "start_time": "2021-08-19T14:35:51.978Z"
   },
   {
    "duration": 11,
    "start_time": "2021-08-19T14:35:52.435Z"
   },
   {
    "duration": 7,
    "start_time": "2021-08-19T14:36:56.229Z"
   },
   {
    "duration": 12,
    "start_time": "2021-08-19T14:36:56.669Z"
   },
   {
    "duration": 21,
    "start_time": "2021-08-19T14:38:35.941Z"
   },
   {
    "duration": 19,
    "start_time": "2021-08-19T14:38:38.913Z"
   },
   {
    "duration": 17,
    "start_time": "2021-08-19T14:39:44.025Z"
   },
   {
    "duration": 6,
    "start_time": "2021-08-19T14:40:05.595Z"
   },
   {
    "duration": 13,
    "start_time": "2021-08-19T14:40:06.082Z"
   },
   {
    "duration": 18,
    "start_time": "2021-08-19T14:40:09.296Z"
   },
   {
    "duration": 6,
    "start_time": "2021-08-19T14:40:23.443Z"
   },
   {
    "duration": 7,
    "start_time": "2021-08-19T14:41:06.684Z"
   },
   {
    "duration": 14,
    "start_time": "2021-08-19T14:41:12.021Z"
   },
   {
    "duration": 10,
    "start_time": "2021-08-19T14:42:11.287Z"
   },
   {
    "duration": 11,
    "start_time": "2021-08-19T14:42:18.543Z"
   },
   {
    "duration": 26,
    "start_time": "2021-08-19T14:42:21.888Z"
   },
   {
    "duration": 12,
    "start_time": "2021-08-19T14:42:28.736Z"
   },
   {
    "duration": 25,
    "start_time": "2021-08-19T14:42:29.192Z"
   },
   {
    "duration": 16,
    "start_time": "2021-08-19T14:42:40.273Z"
   },
   {
    "duration": 1979,
    "start_time": "2021-08-19T14:43:52.951Z"
   },
   {
    "duration": 110,
    "start_time": "2021-08-19T14:43:54.932Z"
   },
   {
    "duration": 9,
    "start_time": "2021-08-19T14:43:55.045Z"
   },
   {
    "duration": 29,
    "start_time": "2021-08-19T14:43:55.057Z"
   },
   {
    "duration": 21,
    "start_time": "2021-08-19T14:43:55.088Z"
   },
   {
    "duration": 19,
    "start_time": "2021-08-19T14:43:55.111Z"
   },
   {
    "duration": 31,
    "start_time": "2021-08-19T14:43:55.132Z"
   },
   {
    "duration": 6,
    "start_time": "2021-08-19T14:43:55.166Z"
   },
   {
    "duration": 29,
    "start_time": "2021-08-19T14:43:55.174Z"
   },
   {
    "duration": 53,
    "start_time": "2021-08-19T14:43:55.205Z"
   },
   {
    "duration": 6,
    "start_time": "2021-08-19T14:43:55.262Z"
   },
   {
    "duration": 25,
    "start_time": "2021-08-19T14:43:55.271Z"
   },
   {
    "duration": 73,
    "start_time": "2021-08-19T14:43:55.299Z"
   },
   {
    "duration": 31,
    "start_time": "2021-08-19T14:43:55.375Z"
   },
   {
    "duration": 9,
    "start_time": "2021-08-19T14:43:55.409Z"
   },
   {
    "duration": 16,
    "start_time": "2021-08-19T14:43:55.420Z"
   },
   {
    "duration": 56,
    "start_time": "2021-08-19T14:43:55.438Z"
   },
   {
    "duration": 40,
    "start_time": "2021-08-19T14:43:55.496Z"
   },
   {
    "duration": 26,
    "start_time": "2021-08-19T14:43:55.539Z"
   },
   {
    "duration": 19,
    "start_time": "2021-08-19T14:43:55.568Z"
   },
   {
    "duration": 28,
    "start_time": "2021-08-19T14:43:55.589Z"
   },
   {
    "duration": 44,
    "start_time": "2021-08-19T14:43:55.620Z"
   },
   {
    "duration": 39,
    "start_time": "2021-08-19T14:43:55.669Z"
   },
   {
    "duration": 11,
    "start_time": "2021-08-19T14:43:55.711Z"
   },
   {
    "duration": 17,
    "start_time": "2021-08-19T14:43:55.725Z"
   },
   {
    "duration": 6,
    "start_time": "2021-08-19T14:43:55.756Z"
   },
   {
    "duration": 34,
    "start_time": "2021-08-19T14:43:55.764Z"
   },
   {
    "duration": 25,
    "start_time": "2021-08-19T14:43:55.800Z"
   },
   {
    "duration": 538,
    "start_time": "2021-08-19T14:43:55.827Z"
   },
   {
    "duration": 351,
    "start_time": "2021-08-19T14:43:56.368Z"
   },
   {
    "duration": 707,
    "start_time": "2021-08-19T14:43:56.722Z"
   },
   {
    "duration": 569,
    "start_time": "2021-08-19T14:43:57.432Z"
   },
   {
    "duration": 20,
    "start_time": "2021-08-19T14:43:58.003Z"
   },
   {
    "duration": 20,
    "start_time": "2021-08-19T14:43:58.057Z"
   },
   {
    "duration": 8,
    "start_time": "2021-08-19T14:43:58.080Z"
   },
   {
    "duration": 303,
    "start_time": "2021-08-19T14:43:58.091Z"
   },
   {
    "duration": 276,
    "start_time": "2021-08-19T14:43:58.396Z"
   },
   {
    "duration": 5,
    "start_time": "2021-08-19T14:43:58.674Z"
   },
   {
    "duration": 364,
    "start_time": "2021-08-19T14:43:58.682Z"
   },
   {
    "duration": 55,
    "start_time": "2021-08-19T14:43:59.049Z"
   },
   {
    "duration": 20,
    "start_time": "2021-08-19T14:43:59.107Z"
   },
   {
    "duration": 48,
    "start_time": "2021-08-19T14:43:59.129Z"
   },
   {
    "duration": 29,
    "start_time": "2021-08-19T14:43:59.179Z"
   },
   {
    "duration": 9,
    "start_time": "2021-08-19T14:43:59.211Z"
   },
   {
    "duration": 43,
    "start_time": "2021-08-19T14:43:59.222Z"
   },
   {
    "duration": 43,
    "start_time": "2021-08-19T14:43:59.268Z"
   },
   {
    "duration": 6,
    "start_time": "2021-08-19T14:43:59.314Z"
   },
   {
    "duration": 45,
    "start_time": "2021-08-19T14:43:59.322Z"
   },
   {
    "duration": 29,
    "start_time": "2021-08-19T14:43:59.369Z"
   },
   {
    "duration": 9,
    "start_time": "2021-08-19T14:43:59.401Z"
   },
   {
    "duration": 30,
    "start_time": "2021-08-19T14:43:59.412Z"
   },
   {
    "duration": 43,
    "start_time": "2021-08-19T14:43:59.456Z"
   },
   {
    "duration": 11,
    "start_time": "2021-08-19T14:43:59.501Z"
   },
   {
    "duration": 6,
    "start_time": "2021-08-19T14:43:59.515Z"
   },
   {
    "duration": 14,
    "start_time": "2021-08-19T14:43:59.555Z"
   },
   {
    "duration": 18,
    "start_time": "2021-08-19T14:43:59.572Z"
   },
   {
    "duration": 7,
    "start_time": "2021-08-19T14:43:59.593Z"
   },
   {
    "duration": 25,
    "start_time": "2021-08-19T14:43:59.603Z"
   },
   {
    "duration": 15,
    "start_time": "2021-08-19T14:43:59.656Z"
   },
   {
    "duration": 546,
    "start_time": "2021-08-19T14:43:59.673Z"
   },
   {
    "duration": -40,
    "start_time": "2021-08-19T14:44:00.264Z"
   },
   {
    "duration": -52,
    "start_time": "2021-08-19T14:44:00.278Z"
   },
   {
    "duration": -57,
    "start_time": "2021-08-19T14:44:00.285Z"
   },
   {
    "duration": -65,
    "start_time": "2021-08-19T14:44:00.295Z"
   },
   {
    "duration": -68,
    "start_time": "2021-08-19T14:44:00.300Z"
   },
   {
    "duration": -75,
    "start_time": "2021-08-19T14:44:00.309Z"
   },
   {
    "duration": -82,
    "start_time": "2021-08-19T14:44:00.318Z"
   },
   {
    "duration": -89,
    "start_time": "2021-08-19T14:44:00.327Z"
   },
   {
    "duration": -120,
    "start_time": "2021-08-19T14:44:00.360Z"
   },
   {
    "duration": -122,
    "start_time": "2021-08-19T14:44:00.364Z"
   },
   {
    "duration": -133,
    "start_time": "2021-08-19T14:44:00.378Z"
   },
   {
    "duration": -136,
    "start_time": "2021-08-19T14:44:00.384Z"
   },
   {
    "duration": -144,
    "start_time": "2021-08-19T14:44:00.394Z"
   },
   {
    "duration": -147,
    "start_time": "2021-08-19T14:44:00.399Z"
   },
   {
    "duration": -155,
    "start_time": "2021-08-19T14:44:00.410Z"
   },
   {
    "duration": -159,
    "start_time": "2021-08-19T14:44:00.416Z"
   },
   {
    "duration": -170,
    "start_time": "2021-08-19T14:44:00.429Z"
   },
   {
    "duration": -181,
    "start_time": "2021-08-19T14:44:00.442Z"
   },
   {
    "duration": -187,
    "start_time": "2021-08-19T14:44:00.450Z"
   },
   {
    "duration": -195,
    "start_time": "2021-08-19T14:44:00.460Z"
   },
   {
    "duration": -201,
    "start_time": "2021-08-19T14:44:00.468Z"
   },
   {
    "duration": -214,
    "start_time": "2021-08-19T14:44:00.484Z"
   },
   {
    "duration": -225,
    "start_time": "2021-08-19T14:44:00.497Z"
   },
   {
    "duration": -254,
    "start_time": "2021-08-19T14:44:00.528Z"
   },
   {
    "duration": -258,
    "start_time": "2021-08-19T14:44:00.535Z"
   },
   {
    "duration": -268,
    "start_time": "2021-08-19T14:44:00.547Z"
   },
   {
    "duration": -280,
    "start_time": "2021-08-19T14:44:00.561Z"
   },
   {
    "duration": -286,
    "start_time": "2021-08-19T14:44:00.569Z"
   },
   {
    "duration": -294,
    "start_time": "2021-08-19T14:44:00.579Z"
   },
   {
    "duration": -300,
    "start_time": "2021-08-19T14:44:00.587Z"
   },
   {
    "duration": -307,
    "start_time": "2021-08-19T14:44:00.597Z"
   },
   {
    "duration": -318,
    "start_time": "2021-08-19T14:44:00.610Z"
   },
   {
    "duration": 48,
    "start_time": "2021-08-19T14:45:05.214Z"
   },
   {
    "duration": 8,
    "start_time": "2021-08-19T14:45:18.189Z"
   },
   {
    "duration": 11,
    "start_time": "2021-08-19T14:48:30.671Z"
   },
   {
    "duration": 14,
    "start_time": "2021-08-19T15:20:30.622Z"
   },
   {
    "duration": 12,
    "start_time": "2021-08-19T15:20:31.116Z"
   },
   {
    "duration": 10,
    "start_time": "2021-08-19T15:20:31.690Z"
   },
   {
    "duration": 11,
    "start_time": "2021-08-19T15:21:09.004Z"
   },
   {
    "duration": 30,
    "start_time": "2021-08-19T15:21:18.856Z"
   },
   {
    "duration": 10,
    "start_time": "2021-08-19T15:21:37.515Z"
   },
   {
    "duration": 6,
    "start_time": "2021-08-19T15:22:23.330Z"
   },
   {
    "duration": 32,
    "start_time": "2021-08-19T15:22:30.584Z"
   },
   {
    "duration": 16,
    "start_time": "2021-08-19T15:25:24.677Z"
   },
   {
    "duration": 18,
    "start_time": "2021-08-19T15:30:07.483Z"
   },
   {
    "duration": 24,
    "start_time": "2021-08-19T15:31:14.738Z"
   },
   {
    "duration": 37,
    "start_time": "2021-08-19T15:31:18.832Z"
   },
   {
    "duration": 28,
    "start_time": "2021-08-19T15:31:25.737Z"
   },
   {
    "duration": 51,
    "start_time": "2021-08-19T15:31:26.268Z"
   },
   {
    "duration": 22,
    "start_time": "2021-08-19T15:31:40.100Z"
   },
   {
    "duration": 356,
    "start_time": "2021-08-19T15:32:53.012Z"
   },
   {
    "duration": 4045,
    "start_time": "2021-08-19T15:33:02.742Z"
   },
   {
    "duration": 32,
    "start_time": "2021-08-19T15:33:40.722Z"
   },
   {
    "duration": 7,
    "start_time": "2021-08-19T15:33:56.445Z"
   },
   {
    "duration": 5,
    "start_time": "2021-08-19T15:34:00.545Z"
   },
   {
    "duration": 20527,
    "start_time": "2021-08-19T15:34:02.360Z"
   },
   {
    "duration": 21,
    "start_time": "2021-08-19T15:34:26.044Z"
   },
   {
    "duration": 3,
    "start_time": "2021-08-19T15:38:03.391Z"
   },
   {
    "duration": 7,
    "start_time": "2021-08-19T15:41:16.332Z"
   },
   {
    "duration": 6,
    "start_time": "2021-08-19T15:41:52.004Z"
   },
   {
    "duration": 20271,
    "start_time": "2021-08-19T15:41:53.043Z"
   },
   {
    "duration": 19,
    "start_time": "2021-08-19T15:42:13.317Z"
   },
   {
    "duration": 4,
    "start_time": "2021-08-19T15:45:58.732Z"
   },
   {
    "duration": 406,
    "start_time": "2021-08-19T15:46:56.720Z"
   },
   {
    "duration": 4,
    "start_time": "2021-08-19T15:47:05.022Z"
   },
   {
    "duration": 474,
    "start_time": "2021-08-19T15:47:05.628Z"
   },
   {
    "duration": 5,
    "start_time": "2021-08-19T15:47:56.303Z"
   },
   {
    "duration": 562,
    "start_time": "2021-08-19T15:48:10.858Z"
   },
   {
    "duration": 42,
    "start_time": "2021-08-19T15:48:41.261Z"
   },
   {
    "duration": 5,
    "start_time": "2021-08-19T15:48:52.001Z"
   },
   {
    "duration": 427,
    "start_time": "2021-08-19T15:48:53.897Z"
   },
   {
    "duration": 433,
    "start_time": "2021-08-19T15:48:57.121Z"
   },
   {
    "duration": 2196,
    "start_time": "2021-08-19T15:49:02.825Z"
   },
   {
    "duration": 106,
    "start_time": "2021-08-19T15:49:05.024Z"
   },
   {
    "duration": 11,
    "start_time": "2021-08-19T15:49:05.133Z"
   },
   {
    "duration": 18,
    "start_time": "2021-08-19T15:49:05.147Z"
   },
   {
    "duration": 8,
    "start_time": "2021-08-19T15:49:05.168Z"
   },
   {
    "duration": 18,
    "start_time": "2021-08-19T15:49:05.178Z"
   },
   {
    "duration": 15,
    "start_time": "2021-08-19T15:49:05.199Z"
   },
   {
    "duration": 6,
    "start_time": "2021-08-19T15:49:05.258Z"
   },
   {
    "duration": 30,
    "start_time": "2021-08-19T15:49:05.267Z"
   },
   {
    "duration": 57,
    "start_time": "2021-08-19T15:49:05.299Z"
   },
   {
    "duration": 5,
    "start_time": "2021-08-19T15:49:05.358Z"
   },
   {
    "duration": 29,
    "start_time": "2021-08-19T15:49:05.365Z"
   },
   {
    "duration": 62,
    "start_time": "2021-08-19T15:49:05.397Z"
   },
   {
    "duration": 31,
    "start_time": "2021-08-19T15:49:05.461Z"
   },
   {
    "duration": 10,
    "start_time": "2021-08-19T15:49:05.494Z"
   },
   {
    "duration": 24,
    "start_time": "2021-08-19T15:49:05.506Z"
   },
   {
    "duration": 41,
    "start_time": "2021-08-19T15:49:05.532Z"
   },
   {
    "duration": 51,
    "start_time": "2021-08-19T15:49:05.575Z"
   },
   {
    "duration": 40,
    "start_time": "2021-08-19T15:49:05.629Z"
   },
   {
    "duration": 18,
    "start_time": "2021-08-19T15:49:05.672Z"
   },
   {
    "duration": 28,
    "start_time": "2021-08-19T15:49:05.693Z"
   },
   {
    "duration": 74,
    "start_time": "2021-08-19T15:49:05.723Z"
   },
   {
    "duration": 61,
    "start_time": "2021-08-19T15:49:05.803Z"
   },
   {
    "duration": 11,
    "start_time": "2021-08-19T15:49:05.869Z"
   },
   {
    "duration": 35,
    "start_time": "2021-08-19T15:49:05.882Z"
   },
   {
    "duration": 12,
    "start_time": "2021-08-19T15:49:05.920Z"
   },
   {
    "duration": 38,
    "start_time": "2021-08-19T15:49:05.935Z"
   },
   {
    "duration": 23,
    "start_time": "2021-08-19T15:49:05.976Z"
   },
   {
    "duration": 585,
    "start_time": "2021-08-19T15:49:06.002Z"
   },
   {
    "duration": 379,
    "start_time": "2021-08-19T15:49:06.590Z"
   },
   {
    "duration": 533,
    "start_time": "2021-08-19T15:49:06.971Z"
   },
   {
    "duration": 391,
    "start_time": "2021-08-19T15:49:07.507Z"
   },
   {
    "duration": 18,
    "start_time": "2021-08-19T15:49:07.901Z"
   },
   {
    "duration": 45,
    "start_time": "2021-08-19T15:49:07.922Z"
   },
   {
    "duration": 7,
    "start_time": "2021-08-19T15:49:07.969Z"
   },
   {
    "duration": 302,
    "start_time": "2021-08-19T15:49:07.979Z"
   },
   {
    "duration": 280,
    "start_time": "2021-08-19T15:49:08.284Z"
   },
   {
    "duration": 7,
    "start_time": "2021-08-19T15:49:08.567Z"
   },
   {
    "duration": 381,
    "start_time": "2021-08-19T15:49:08.577Z"
   },
   {
    "duration": 102,
    "start_time": "2021-08-19T15:49:08.961Z"
   },
   {
    "duration": 22,
    "start_time": "2021-08-19T15:49:09.066Z"
   },
   {
    "duration": 37,
    "start_time": "2021-08-19T15:49:09.090Z"
   },
   {
    "duration": 35,
    "start_time": "2021-08-19T15:49:09.129Z"
   },
   {
    "duration": 12,
    "start_time": "2021-08-19T15:49:09.166Z"
   },
   {
    "duration": 16,
    "start_time": "2021-08-19T15:49:09.181Z"
   },
   {
    "duration": 58,
    "start_time": "2021-08-19T15:49:09.199Z"
   },
   {
    "duration": 7,
    "start_time": "2021-08-19T15:49:09.259Z"
   },
   {
    "duration": 15,
    "start_time": "2021-08-19T15:49:09.268Z"
   },
   {
    "duration": 37,
    "start_time": "2021-08-19T15:49:09.286Z"
   },
   {
    "duration": 10,
    "start_time": "2021-08-19T15:49:09.326Z"
   },
   {
    "duration": 31,
    "start_time": "2021-08-19T15:49:09.339Z"
   },
   {
    "duration": 56,
    "start_time": "2021-08-19T15:49:09.372Z"
   },
   {
    "duration": 12,
    "start_time": "2021-08-19T15:49:09.430Z"
   },
   {
    "duration": 7,
    "start_time": "2021-08-19T15:49:09.444Z"
   },
   {
    "duration": 17,
    "start_time": "2021-08-19T15:49:09.453Z"
   },
   {
    "duration": 22,
    "start_time": "2021-08-19T15:49:09.472Z"
   },
   {
    "duration": 6,
    "start_time": "2021-08-19T15:49:09.497Z"
   },
   {
    "duration": 19,
    "start_time": "2021-08-19T15:49:09.506Z"
   },
   {
    "duration": 14,
    "start_time": "2021-08-19T15:49:09.528Z"
   },
   {
    "duration": 60,
    "start_time": "2021-08-19T15:49:09.544Z"
   },
   {
    "duration": 11,
    "start_time": "2021-08-19T15:49:09.606Z"
   },
   {
    "duration": 23,
    "start_time": "2021-08-19T15:49:09.619Z"
   },
   {
    "duration": 11,
    "start_time": "2021-08-19T15:49:09.644Z"
   },
   {
    "duration": 33,
    "start_time": "2021-08-19T15:49:09.657Z"
   },
   {
    "duration": 26,
    "start_time": "2021-08-19T15:49:09.692Z"
   },
   {
    "duration": 23,
    "start_time": "2021-08-19T15:49:09.720Z"
   },
   {
    "duration": 5223,
    "start_time": "2021-08-19T15:49:09.745Z"
   },
   {
    "duration": 26,
    "start_time": "2021-08-19T15:49:14.976Z"
   },
   {
    "duration": 21,
    "start_time": "2021-08-19T15:49:15.005Z"
   },
   {
    "duration": 34,
    "start_time": "2021-08-19T15:49:15.029Z"
   },
   {
    "duration": 21,
    "start_time": "2021-08-19T15:49:15.065Z"
   },
   {
    "duration": 2732,
    "start_time": "2021-08-19T15:49:15.088Z"
   },
   {
    "duration": 5,
    "start_time": "2021-08-19T15:49:17.822Z"
   },
   {
    "duration": 22266,
    "start_time": "2021-08-19T15:49:17.830Z"
   },
   {
    "duration": 28,
    "start_time": "2021-08-19T15:49:40.099Z"
   },
   {
    "duration": 43,
    "start_time": "2021-08-19T15:49:40.130Z"
   },
   {
    "duration": 11,
    "start_time": "2021-08-19T15:49:40.175Z"
   },
   {
    "duration": 18,
    "start_time": "2021-08-19T15:49:40.189Z"
   },
   {
    "duration": 5,
    "start_time": "2021-08-19T15:49:40.209Z"
   },
   {
    "duration": 5,
    "start_time": "2021-08-19T15:49:40.255Z"
   },
   {
    "duration": 63,
    "start_time": "2021-08-19T15:49:40.262Z"
   },
   {
    "duration": 5,
    "start_time": "2021-08-19T15:49:40.355Z"
   },
   {
    "duration": 20,
    "start_time": "2021-08-19T15:49:40.363Z"
   },
   {
    "duration": 16,
    "start_time": "2021-08-19T15:49:40.386Z"
   },
   {
    "duration": 73,
    "start_time": "2021-08-19T15:49:40.405Z"
   },
   {
    "duration": 4,
    "start_time": "2021-08-19T15:49:40.481Z"
   },
   {
    "duration": 27,
    "start_time": "2021-08-19T15:49:40.488Z"
   },
   {
    "duration": 104,
    "start_time": "2021-08-19T15:49:40.517Z"
   },
   {
    "duration": 31,
    "start_time": "2021-08-19T15:49:40.624Z"
   },
   {
    "duration": 46,
    "start_time": "2021-08-19T15:49:40.660Z"
   },
   {
    "duration": 749,
    "start_time": "2021-08-19T15:49:53.585Z"
   },
   {
    "duration": 19,
    "start_time": "2021-08-19T15:50:01.593Z"
   },
   {
    "duration": 13,
    "start_time": "2021-08-19T15:52:41.631Z"
   },
   {
    "duration": 15,
    "start_time": "2021-08-19T15:52:48.476Z"
   },
   {
    "duration": 12,
    "start_time": "2021-08-19T15:53:21.851Z"
   },
   {
    "duration": 4,
    "start_time": "2021-08-19T15:53:47.899Z"
   },
   {
    "duration": 16,
    "start_time": "2021-08-19T15:54:19.488Z"
   },
   {
    "duration": 132,
    "start_time": "2021-08-19T15:59:17.285Z"
   },
   {
    "duration": 56,
    "start_time": "2021-08-19T16:00:31.166Z"
   },
   {
    "duration": 32,
    "start_time": "2021-08-19T16:00:43.358Z"
   },
   {
    "duration": 2522,
    "start_time": "2021-08-19T16:01:32.751Z"
   },
   {
    "duration": 20,
    "start_time": "2021-08-19T16:01:35.276Z"
   },
   {
    "duration": 21299,
    "start_time": "2021-08-19T16:01:41.388Z"
   },
   {
    "duration": 23,
    "start_time": "2021-08-19T16:02:02.690Z"
   },
   {
    "duration": 86,
    "start_time": "2021-08-19T16:02:02.716Z"
   },
   {
    "duration": 2004,
    "start_time": "2021-08-19T16:02:20.247Z"
   },
   {
    "duration": 111,
    "start_time": "2021-08-19T16:02:22.256Z"
   },
   {
    "duration": 12,
    "start_time": "2021-08-19T16:02:22.371Z"
   },
   {
    "duration": 23,
    "start_time": "2021-08-19T16:02:22.387Z"
   },
   {
    "duration": 43,
    "start_time": "2021-08-19T16:02:22.413Z"
   },
   {
    "duration": 22,
    "start_time": "2021-08-19T16:02:22.458Z"
   },
   {
    "duration": 19,
    "start_time": "2021-08-19T16:02:22.483Z"
   },
   {
    "duration": 6,
    "start_time": "2021-08-19T16:02:22.508Z"
   },
   {
    "duration": 24,
    "start_time": "2021-08-19T16:02:22.557Z"
   },
   {
    "duration": 24,
    "start_time": "2021-08-19T16:02:22.583Z"
   },
   {
    "duration": 5,
    "start_time": "2021-08-19T16:02:22.610Z"
   },
   {
    "duration": 17,
    "start_time": "2021-08-19T16:02:22.655Z"
   },
   {
    "duration": 41,
    "start_time": "2021-08-19T16:02:22.675Z"
   },
   {
    "duration": 52,
    "start_time": "2021-08-19T16:02:22.718Z"
   },
   {
    "duration": 9,
    "start_time": "2021-08-19T16:02:22.773Z"
   },
   {
    "duration": 16,
    "start_time": "2021-08-19T16:02:22.784Z"
   },
   {
    "duration": 53,
    "start_time": "2021-08-19T16:02:22.803Z"
   },
   {
    "duration": 37,
    "start_time": "2021-08-19T16:02:22.858Z"
   },
   {
    "duration": 23,
    "start_time": "2021-08-19T16:02:22.897Z"
   },
   {
    "duration": 47,
    "start_time": "2021-08-19T16:02:22.923Z"
   },
   {
    "duration": 29,
    "start_time": "2021-08-19T16:02:22.973Z"
   },
   {
    "duration": 70,
    "start_time": "2021-08-19T16:02:23.005Z"
   },
   {
    "duration": 33,
    "start_time": "2021-08-19T16:02:23.081Z"
   },
   {
    "duration": 9,
    "start_time": "2021-08-19T16:02:23.118Z"
   },
   {
    "duration": 16,
    "start_time": "2021-08-19T16:02:23.157Z"
   },
   {
    "duration": 18,
    "start_time": "2021-08-19T16:02:23.176Z"
   },
   {
    "duration": 25,
    "start_time": "2021-08-19T16:02:23.196Z"
   },
   {
    "duration": 52,
    "start_time": "2021-08-19T16:02:23.224Z"
   },
   {
    "duration": 554,
    "start_time": "2021-08-19T16:02:23.279Z"
   },
   {
    "duration": 361,
    "start_time": "2021-08-19T16:02:23.836Z"
   },
   {
    "duration": 516,
    "start_time": "2021-08-19T16:02:24.199Z"
   },
   {
    "duration": 367,
    "start_time": "2021-08-19T16:02:24.718Z"
   },
   {
    "duration": 18,
    "start_time": "2021-08-19T16:02:25.088Z"
   },
   {
    "duration": 51,
    "start_time": "2021-08-19T16:02:25.109Z"
   },
   {
    "duration": 7,
    "start_time": "2021-08-19T16:02:25.163Z"
   },
   {
    "duration": 298,
    "start_time": "2021-08-19T16:02:25.173Z"
   },
   {
    "duration": 277,
    "start_time": "2021-08-19T16:02:25.473Z"
   },
   {
    "duration": 6,
    "start_time": "2021-08-19T16:02:25.757Z"
   },
   {
    "duration": 361,
    "start_time": "2021-08-19T16:02:25.766Z"
   },
   {
    "duration": 68,
    "start_time": "2021-08-19T16:02:26.130Z"
   },
   {
    "duration": 22,
    "start_time": "2021-08-19T16:02:26.200Z"
   },
   {
    "duration": 50,
    "start_time": "2021-08-19T16:02:26.224Z"
   },
   {
    "duration": 29,
    "start_time": "2021-08-19T16:02:26.277Z"
   },
   {
    "duration": 10,
    "start_time": "2021-08-19T16:02:26.308Z"
   },
   {
    "duration": 52,
    "start_time": "2021-08-19T16:02:26.320Z"
   },
   {
    "duration": 45,
    "start_time": "2021-08-19T16:02:26.374Z"
   },
   {
    "duration": 36,
    "start_time": "2021-08-19T16:02:26.421Z"
   },
   {
    "duration": 13,
    "start_time": "2021-08-19T16:02:26.459Z"
   },
   {
    "duration": 36,
    "start_time": "2021-08-19T16:02:26.474Z"
   },
   {
    "duration": 47,
    "start_time": "2021-08-19T16:02:26.512Z"
   },
   {
    "duration": 25,
    "start_time": "2021-08-19T16:02:26.561Z"
   },
   {
    "duration": 69,
    "start_time": "2021-08-19T16:02:26.588Z"
   },
   {
    "duration": 10,
    "start_time": "2021-08-19T16:02:26.659Z"
   },
   {
    "duration": 6,
    "start_time": "2021-08-19T16:02:26.672Z"
   },
   {
    "duration": 14,
    "start_time": "2021-08-19T16:02:26.680Z"
   },
   {
    "duration": 59,
    "start_time": "2021-08-19T16:02:26.696Z"
   },
   {
    "duration": 6,
    "start_time": "2021-08-19T16:02:26.757Z"
   },
   {
    "duration": 16,
    "start_time": "2021-08-19T16:02:26.765Z"
   },
   {
    "duration": 19,
    "start_time": "2021-08-19T16:02:26.783Z"
   },
   {
    "duration": 80,
    "start_time": "2021-08-19T16:02:26.804Z"
   },
   {
    "duration": 11,
    "start_time": "2021-08-19T16:02:26.887Z"
   },
   {
    "duration": 19,
    "start_time": "2021-08-19T16:02:26.900Z"
   },
   {
    "duration": 15,
    "start_time": "2021-08-19T16:02:26.921Z"
   },
   {
    "duration": 20,
    "start_time": "2021-08-19T16:02:26.955Z"
   },
   {
    "duration": 27,
    "start_time": "2021-08-19T16:02:26.977Z"
   },
   {
    "duration": 50,
    "start_time": "2021-08-19T16:02:27.007Z"
   },
   {
    "duration": 4081,
    "start_time": "2021-08-19T16:02:27.060Z"
   },
   {
    "duration": 27,
    "start_time": "2021-08-19T16:02:31.159Z"
   },
   {
    "duration": 23,
    "start_time": "2021-08-19T16:02:31.189Z"
   },
   {
    "duration": 2534,
    "start_time": "2021-08-19T16:02:31.214Z"
   },
   {
    "duration": 17,
    "start_time": "2021-08-19T16:02:33.750Z"
   },
   {
    "duration": 11,
    "start_time": "2021-08-19T16:02:33.769Z"
   },
   {
    "duration": 20588,
    "start_time": "2021-08-19T16:02:33.783Z"
   },
   {
    "duration": 25,
    "start_time": "2021-08-19T16:02:54.374Z"
   },
   {
    "duration": 65,
    "start_time": "2021-08-19T16:02:54.402Z"
   },
   {
    "duration": 154,
    "start_time": "2021-08-19T16:02:54.469Z"
   },
   {
    "duration": 632,
    "start_time": "2021-08-19T16:02:53.993Z"
   },
   {
    "duration": 629,
    "start_time": "2021-08-19T16:02:53.997Z"
   },
   {
    "duration": 627,
    "start_time": "2021-08-19T16:02:54.000Z"
   },
   {
    "duration": 624,
    "start_time": "2021-08-19T16:02:54.005Z"
   },
   {
    "duration": 621,
    "start_time": "2021-08-19T16:02:54.009Z"
   },
   {
    "duration": 618,
    "start_time": "2021-08-19T16:02:54.013Z"
   },
   {
    "duration": 617,
    "start_time": "2021-08-19T16:02:54.016Z"
   },
   {
    "duration": 614,
    "start_time": "2021-08-19T16:02:54.021Z"
   },
   {
    "duration": 612,
    "start_time": "2021-08-19T16:02:54.024Z"
   },
   {
    "duration": 603,
    "start_time": "2021-08-19T16:02:54.034Z"
   },
   {
    "duration": 601,
    "start_time": "2021-08-19T16:02:54.037Z"
   },
   {
    "duration": 598,
    "start_time": "2021-08-19T16:02:54.041Z"
   },
   {
    "duration": 597,
    "start_time": "2021-08-19T16:02:54.044Z"
   },
   {
    "duration": 594,
    "start_time": "2021-08-19T16:02:54.048Z"
   },
   {
    "duration": 19,
    "start_time": "2021-08-19T16:03:31.462Z"
   },
   {
    "duration": 38,
    "start_time": "2021-08-19T16:03:40.295Z"
   },
   {
    "duration": 131,
    "start_time": "2021-08-19T16:04:30.649Z"
   },
   {
    "duration": 33,
    "start_time": "2021-08-19T16:04:33.808Z"
   },
   {
    "duration": 562,
    "start_time": "2021-08-19T16:04:51.108Z"
   },
   {
    "duration": 125,
    "start_time": "2021-08-19T16:04:59.742Z"
   },
   {
    "duration": 31,
    "start_time": "2021-08-19T16:05:02.452Z"
   },
   {
    "duration": 37,
    "start_time": "2021-08-19T16:05:26.990Z"
   },
   {
    "duration": 31,
    "start_time": "2021-08-19T16:07:02.503Z"
   },
   {
    "duration": 38,
    "start_time": "2021-08-19T16:07:18.081Z"
   },
   {
    "duration": 13,
    "start_time": "2021-08-19T16:09:24.352Z"
   },
   {
    "duration": 17,
    "start_time": "2021-08-19T16:09:34.491Z"
   },
   {
    "duration": 17,
    "start_time": "2021-08-19T16:09:47.807Z"
   },
   {
    "duration": 15,
    "start_time": "2021-08-19T16:09:56.520Z"
   },
   {
    "duration": 10,
    "start_time": "2021-08-19T16:10:01.782Z"
   },
   {
    "duration": 17,
    "start_time": "2021-08-19T16:10:18.125Z"
   },
   {
    "duration": 20,
    "start_time": "2021-08-19T16:10:34.947Z"
   },
   {
    "duration": 20,
    "start_time": "2021-08-19T16:10:43.127Z"
   },
   {
    "duration": 20,
    "start_time": "2021-08-19T16:10:51.067Z"
   },
   {
    "duration": 20,
    "start_time": "2021-08-19T16:10:54.229Z"
   },
   {
    "duration": 20,
    "start_time": "2021-08-19T16:11:38.499Z"
   },
   {
    "duration": 31,
    "start_time": "2021-08-19T16:24:22.765Z"
   },
   {
    "duration": 28,
    "start_time": "2021-08-19T16:24:32.439Z"
   },
   {
    "duration": 379,
    "start_time": "2021-08-19T16:24:53.834Z"
   },
   {
    "duration": 29,
    "start_time": "2021-08-19T16:25:16.139Z"
   },
   {
    "duration": 30,
    "start_time": "2021-08-19T16:25:35.485Z"
   },
   {
    "duration": 30,
    "start_time": "2021-08-19T16:25:36.313Z"
   },
   {
    "duration": 10,
    "start_time": "2021-08-19T16:25:39.132Z"
   },
   {
    "duration": 13,
    "start_time": "2021-08-19T16:25:39.631Z"
   },
   {
    "duration": 36,
    "start_time": "2021-08-19T16:25:41.090Z"
   },
   {
    "duration": 8,
    "start_time": "2021-08-19T16:25:43.132Z"
   },
   {
    "duration": 9,
    "start_time": "2021-08-19T16:26:36.574Z"
   },
   {
    "duration": 19,
    "start_time": "2021-08-19T16:26:57.536Z"
   },
   {
    "duration": 51,
    "start_time": "2021-08-19T16:27:10.652Z"
   },
   {
    "duration": 49,
    "start_time": "2021-08-19T16:27:43.903Z"
   },
   {
    "duration": 20,
    "start_time": "2021-08-19T16:27:50.621Z"
   },
   {
    "duration": 1934,
    "start_time": "2021-08-19T16:28:27.003Z"
   },
   {
    "duration": 107,
    "start_time": "2021-08-19T16:28:28.940Z"
   },
   {
    "duration": 8,
    "start_time": "2021-08-19T16:28:29.050Z"
   },
   {
    "duration": 27,
    "start_time": "2021-08-19T16:28:29.061Z"
   },
   {
    "duration": 10,
    "start_time": "2021-08-19T16:28:29.090Z"
   },
   {
    "duration": 25,
    "start_time": "2021-08-19T16:28:29.103Z"
   },
   {
    "duration": 15,
    "start_time": "2021-08-19T16:28:29.155Z"
   },
   {
    "duration": 8,
    "start_time": "2021-08-19T16:28:29.174Z"
   },
   {
    "duration": 28,
    "start_time": "2021-08-19T16:28:29.186Z"
   },
   {
    "duration": 63,
    "start_time": "2021-08-19T16:28:29.217Z"
   },
   {
    "duration": 5,
    "start_time": "2021-08-19T16:28:29.283Z"
   },
   {
    "duration": 30,
    "start_time": "2021-08-19T16:28:29.291Z"
   },
   {
    "duration": 70,
    "start_time": "2021-08-19T16:28:29.324Z"
   },
   {
    "duration": 30,
    "start_time": "2021-08-19T16:28:29.396Z"
   },
   {
    "duration": 35,
    "start_time": "2021-08-19T16:28:29.429Z"
   },
   {
    "duration": 19,
    "start_time": "2021-08-19T16:28:29.467Z"
   },
   {
    "duration": 23,
    "start_time": "2021-08-19T16:28:29.489Z"
   },
   {
    "duration": 77,
    "start_time": "2021-08-19T16:28:29.515Z"
   },
   {
    "duration": 27,
    "start_time": "2021-08-19T16:28:29.594Z"
   },
   {
    "duration": 46,
    "start_time": "2021-08-19T16:28:29.624Z"
   },
   {
    "duration": 28,
    "start_time": "2021-08-19T16:28:29.673Z"
   },
   {
    "duration": 86,
    "start_time": "2021-08-19T16:28:29.704Z"
   },
   {
    "duration": 68,
    "start_time": "2021-08-19T16:28:29.800Z"
   },
   {
    "duration": 13,
    "start_time": "2021-08-19T16:28:29.872Z"
   },
   {
    "duration": 21,
    "start_time": "2021-08-19T16:28:29.888Z"
   },
   {
    "duration": 5,
    "start_time": "2021-08-19T16:28:29.956Z"
   },
   {
    "duration": 29,
    "start_time": "2021-08-19T16:28:29.964Z"
   },
   {
    "duration": 72,
    "start_time": "2021-08-19T16:28:29.996Z"
   },
   {
    "duration": 538,
    "start_time": "2021-08-19T16:28:30.072Z"
   },
   {
    "duration": 369,
    "start_time": "2021-08-19T16:28:30.613Z"
   },
   {
    "duration": 519,
    "start_time": "2021-08-19T16:28:30.985Z"
   },
   {
    "duration": 366,
    "start_time": "2021-08-19T16:28:31.506Z"
   },
   {
    "duration": 17,
    "start_time": "2021-08-19T16:28:31.876Z"
   },
   {
    "duration": 17,
    "start_time": "2021-08-19T16:28:31.895Z"
   },
   {
    "duration": 45,
    "start_time": "2021-08-19T16:28:31.914Z"
   },
   {
    "duration": 279,
    "start_time": "2021-08-19T16:28:31.962Z"
   },
   {
    "duration": 274,
    "start_time": "2021-08-19T16:28:32.244Z"
   },
   {
    "duration": 6,
    "start_time": "2021-08-19T16:28:32.522Z"
   },
   {
    "duration": 380,
    "start_time": "2021-08-19T16:28:32.532Z"
   },
   {
    "duration": 71,
    "start_time": "2021-08-19T16:28:32.915Z"
   },
   {
    "duration": 20,
    "start_time": "2021-08-19T16:28:32.989Z"
   },
   {
    "duration": 55,
    "start_time": "2021-08-19T16:28:33.012Z"
   },
   {
    "duration": 30,
    "start_time": "2021-08-19T16:28:33.070Z"
   },
   {
    "duration": 8,
    "start_time": "2021-08-19T16:28:33.103Z"
   },
   {
    "duration": 48,
    "start_time": "2021-08-19T16:28:33.114Z"
   },
   {
    "duration": 88,
    "start_time": "2021-08-19T16:28:33.165Z"
   },
   {
    "duration": 6,
    "start_time": "2021-08-19T16:28:33.256Z"
   },
   {
    "duration": 24,
    "start_time": "2021-08-19T16:28:33.265Z"
   },
   {
    "duration": 48,
    "start_time": "2021-08-19T16:28:33.291Z"
   },
   {
    "duration": 23,
    "start_time": "2021-08-19T16:28:33.341Z"
   },
   {
    "duration": 39,
    "start_time": "2021-08-19T16:28:33.367Z"
   },
   {
    "duration": 79,
    "start_time": "2021-08-19T16:28:33.410Z"
   },
   {
    "duration": 10,
    "start_time": "2021-08-19T16:28:33.491Z"
   },
   {
    "duration": 6,
    "start_time": "2021-08-19T16:28:33.503Z"
   },
   {
    "duration": 51,
    "start_time": "2021-08-19T16:28:33.511Z"
   },
   {
    "duration": 21,
    "start_time": "2021-08-19T16:28:33.565Z"
   },
   {
    "duration": 6,
    "start_time": "2021-08-19T16:28:33.589Z"
   },
   {
    "duration": 13,
    "start_time": "2021-08-19T16:28:33.598Z"
   },
   {
    "duration": 55,
    "start_time": "2021-08-19T16:28:33.614Z"
   },
   {
    "duration": 58,
    "start_time": "2021-08-19T16:28:33.671Z"
   },
   {
    "duration": 33,
    "start_time": "2021-08-19T16:28:33.732Z"
   },
   {
    "duration": 14,
    "start_time": "2021-08-19T16:28:33.768Z"
   },
   {
    "duration": 8,
    "start_time": "2021-08-19T16:28:33.785Z"
   },
   {
    "duration": 70,
    "start_time": "2021-08-19T16:28:33.796Z"
   },
   {
    "duration": 28,
    "start_time": "2021-08-19T16:28:33.869Z"
   },
   {
    "duration": 61,
    "start_time": "2021-08-19T16:28:33.899Z"
   },
   {
    "duration": 4927,
    "start_time": "2021-08-19T16:28:33.963Z"
   },
   {
    "duration": 25,
    "start_time": "2021-08-19T16:28:38.898Z"
   },
   {
    "duration": 30,
    "start_time": "2021-08-19T16:28:38.926Z"
   },
   {
    "duration": 2613,
    "start_time": "2021-08-19T16:28:38.959Z"
   },
   {
    "duration": 21,
    "start_time": "2021-08-19T16:28:41.574Z"
   },
   {
    "duration": 5,
    "start_time": "2021-08-19T16:28:41.597Z"
   },
   {
    "duration": 20858,
    "start_time": "2021-08-19T16:28:41.604Z"
   },
   {
    "duration": 20,
    "start_time": "2021-08-19T16:29:02.465Z"
   },
   {
    "duration": 86,
    "start_time": "2021-08-19T16:29:02.488Z"
   },
   {
    "duration": 76,
    "start_time": "2021-08-19T16:29:02.576Z"
   },
   {
    "duration": 127,
    "start_time": "2021-08-19T16:29:02.655Z"
   },
   {
    "duration": 601,
    "start_time": "2021-08-19T16:29:02.183Z"
   },
   {
    "duration": 582,
    "start_time": "2021-08-19T16:29:02.203Z"
   },
   {
    "duration": 576,
    "start_time": "2021-08-19T16:29:02.210Z"
   },
   {
    "duration": 573,
    "start_time": "2021-08-19T16:29:02.215Z"
   },
   {
    "duration": 569,
    "start_time": "2021-08-19T16:29:02.220Z"
   },
   {
    "duration": 564,
    "start_time": "2021-08-19T16:29:02.226Z"
   },
   {
    "duration": 558,
    "start_time": "2021-08-19T16:29:02.233Z"
   },
   {
    "duration": 552,
    "start_time": "2021-08-19T16:29:02.240Z"
   },
   {
    "duration": 548,
    "start_time": "2021-08-19T16:29:02.246Z"
   },
   {
    "duration": 545,
    "start_time": "2021-08-19T16:29:02.250Z"
   },
   {
    "duration": 540,
    "start_time": "2021-08-19T16:29:02.256Z"
   },
   {
    "duration": 534,
    "start_time": "2021-08-19T16:29:02.264Z"
   },
   {
    "duration": 527,
    "start_time": "2021-08-19T16:29:02.272Z"
   },
   {
    "duration": 524,
    "start_time": "2021-08-19T16:29:02.276Z"
   },
   {
    "duration": 26,
    "start_time": "2021-08-19T16:31:03.507Z"
   },
   {
    "duration": 1633,
    "start_time": "2021-08-19T16:31:37.037Z"
   },
   {
    "duration": 25,
    "start_time": "2021-08-19T16:32:42.406Z"
   },
   {
    "duration": 21,
    "start_time": "2021-08-19T16:32:59.736Z"
   },
   {
    "duration": 9,
    "start_time": "2021-08-19T16:33:53.225Z"
   },
   {
    "duration": 347,
    "start_time": "2021-08-19T16:34:10.007Z"
   },
   {
    "duration": 796,
    "start_time": "2021-08-19T16:34:14.964Z"
   },
   {
    "duration": 419,
    "start_time": "2021-08-19T16:34:28.806Z"
   },
   {
    "duration": 11,
    "start_time": "2021-08-19T16:34:51.144Z"
   },
   {
    "duration": 31,
    "start_time": "2021-08-19T16:35:40.177Z"
   },
   {
    "duration": 28,
    "start_time": "2021-08-19T16:36:18.387Z"
   },
   {
    "duration": 28,
    "start_time": "2021-08-19T16:36:19.306Z"
   },
   {
    "duration": 10,
    "start_time": "2021-08-19T16:36:22.713Z"
   },
   {
    "duration": 14,
    "start_time": "2021-08-19T16:36:23.403Z"
   },
   {
    "duration": 34,
    "start_time": "2021-08-19T16:36:24.449Z"
   },
   {
    "duration": 8,
    "start_time": "2021-08-19T16:36:26.786Z"
   },
   {
    "duration": 21,
    "start_time": "2021-08-19T16:40:41.762Z"
   },
   {
    "duration": 39,
    "start_time": "2021-08-19T16:40:51.759Z"
   },
   {
    "duration": 2050,
    "start_time": "2021-08-19T16:41:13.463Z"
   },
   {
    "duration": 108,
    "start_time": "2021-08-19T16:41:15.516Z"
   },
   {
    "duration": 10,
    "start_time": "2021-08-19T16:41:15.628Z"
   },
   {
    "duration": 25,
    "start_time": "2021-08-19T16:41:15.641Z"
   },
   {
    "duration": 9,
    "start_time": "2021-08-19T16:41:15.669Z"
   },
   {
    "duration": 19,
    "start_time": "2021-08-19T16:41:15.680Z"
   },
   {
    "duration": 57,
    "start_time": "2021-08-19T16:41:15.701Z"
   },
   {
    "duration": 5,
    "start_time": "2021-08-19T16:41:15.762Z"
   },
   {
    "duration": 26,
    "start_time": "2021-08-19T16:41:15.770Z"
   },
   {
    "duration": 69,
    "start_time": "2021-08-19T16:41:15.799Z"
   },
   {
    "duration": 7,
    "start_time": "2021-08-19T16:41:15.870Z"
   },
   {
    "duration": 21,
    "start_time": "2021-08-19T16:41:15.880Z"
   },
   {
    "duration": 85,
    "start_time": "2021-08-19T16:41:15.904Z"
   },
   {
    "duration": 30,
    "start_time": "2021-08-19T16:41:15.992Z"
   },
   {
    "duration": 33,
    "start_time": "2021-08-19T16:41:16.025Z"
   },
   {
    "duration": 20,
    "start_time": "2021-08-19T16:41:16.061Z"
   },
   {
    "duration": 22,
    "start_time": "2021-08-19T16:41:16.084Z"
   },
   {
    "duration": 80,
    "start_time": "2021-08-19T16:41:16.108Z"
   },
   {
    "duration": 27,
    "start_time": "2021-08-19T16:41:16.191Z"
   },
   {
    "duration": 38,
    "start_time": "2021-08-19T16:41:16.220Z"
   },
   {
    "duration": 28,
    "start_time": "2021-08-19T16:41:16.260Z"
   },
   {
    "duration": 73,
    "start_time": "2021-08-19T16:41:16.291Z"
   },
   {
    "duration": 38,
    "start_time": "2021-08-19T16:41:16.370Z"
   },
   {
    "duration": 10,
    "start_time": "2021-08-19T16:41:16.412Z"
   },
   {
    "duration": 17,
    "start_time": "2021-08-19T16:41:16.456Z"
   },
   {
    "duration": 6,
    "start_time": "2021-08-19T16:41:16.475Z"
   },
   {
    "duration": 24,
    "start_time": "2021-08-19T16:41:16.483Z"
   },
   {
    "duration": 24,
    "start_time": "2021-08-19T16:41:16.556Z"
   },
   {
    "duration": 541,
    "start_time": "2021-08-19T16:41:16.583Z"
   },
   {
    "duration": 513,
    "start_time": "2021-08-19T16:41:17.127Z"
   },
   {
    "duration": 531,
    "start_time": "2021-08-19T16:41:17.643Z"
   },
   {
    "duration": 482,
    "start_time": "2021-08-19T16:41:18.176Z"
   },
   {
    "duration": 18,
    "start_time": "2021-08-19T16:41:18.661Z"
   },
   {
    "duration": 17,
    "start_time": "2021-08-19T16:41:18.682Z"
   },
   {
    "duration": 8,
    "start_time": "2021-08-19T16:41:18.701Z"
   },
   {
    "duration": 286,
    "start_time": "2021-08-19T16:41:18.755Z"
   },
   {
    "duration": 275,
    "start_time": "2021-08-19T16:41:19.044Z"
   },
   {
    "duration": 5,
    "start_time": "2021-08-19T16:41:19.322Z"
   },
   {
    "duration": 355,
    "start_time": "2021-08-19T16:41:19.330Z"
   },
   {
    "duration": 49,
    "start_time": "2021-08-19T16:41:19.687Z"
   },
   {
    "duration": 37,
    "start_time": "2021-08-19T16:41:19.738Z"
   },
   {
    "duration": 32,
    "start_time": "2021-08-19T16:41:19.778Z"
   },
   {
    "duration": 65,
    "start_time": "2021-08-19T16:41:19.813Z"
   },
   {
    "duration": 11,
    "start_time": "2021-08-19T16:41:19.881Z"
   },
   {
    "duration": 27,
    "start_time": "2021-08-19T16:41:19.895Z"
   },
   {
    "duration": 36,
    "start_time": "2021-08-19T16:41:19.955Z"
   },
   {
    "duration": 7,
    "start_time": "2021-08-19T16:41:19.994Z"
   },
   {
    "duration": 22,
    "start_time": "2021-08-19T16:41:20.003Z"
   },
   {
    "duration": 54,
    "start_time": "2021-08-19T16:41:20.027Z"
   },
   {
    "duration": 10,
    "start_time": "2021-08-19T16:41:20.083Z"
   },
   {
    "duration": 18,
    "start_time": "2021-08-19T16:41:20.095Z"
   },
   {
    "duration": 71,
    "start_time": "2021-08-19T16:41:20.116Z"
   },
   {
    "duration": 9,
    "start_time": "2021-08-19T16:41:20.189Z"
   },
   {
    "duration": 12,
    "start_time": "2021-08-19T16:41:20.200Z"
   },
   {
    "duration": 43,
    "start_time": "2021-08-19T16:41:20.214Z"
   },
   {
    "duration": 17,
    "start_time": "2021-08-19T16:41:20.260Z"
   },
   {
    "duration": 24,
    "start_time": "2021-08-19T16:41:20.280Z"
   },
   {
    "duration": 22,
    "start_time": "2021-08-19T16:41:20.306Z"
   },
   {
    "duration": 34,
    "start_time": "2021-08-19T16:41:20.330Z"
   },
   {
    "duration": 35,
    "start_time": "2021-08-19T16:41:20.366Z"
   },
   {
    "duration": 11,
    "start_time": "2021-08-19T16:41:20.404Z"
   },
   {
    "duration": 47,
    "start_time": "2021-08-19T16:41:20.418Z"
   },
   {
    "duration": 7,
    "start_time": "2021-08-19T16:41:20.468Z"
   },
   {
    "duration": 28,
    "start_time": "2021-08-19T16:41:20.477Z"
   },
   {
    "duration": 56,
    "start_time": "2021-08-19T16:41:20.507Z"
   },
   {
    "duration": 23,
    "start_time": "2021-08-19T16:41:20.565Z"
   },
   {
    "duration": 4170,
    "start_time": "2021-08-19T16:41:20.590Z"
   },
   {
    "duration": 27,
    "start_time": "2021-08-19T16:41:24.768Z"
   },
   {
    "duration": 4,
    "start_time": "2021-08-19T16:41:24.798Z"
   },
   {
    "duration": 2811,
    "start_time": "2021-08-19T16:41:24.804Z"
   },
   {
    "duration": 21,
    "start_time": "2021-08-19T16:41:27.617Z"
   },
   {
    "duration": 5,
    "start_time": "2021-08-19T16:41:27.656Z"
   },
   {
    "duration": 17574,
    "start_time": "2021-08-19T16:41:27.663Z"
   },
   {
    "duration": 27,
    "start_time": "2021-08-19T16:41:45.240Z"
   },
   {
    "duration": 38,
    "start_time": "2021-08-19T16:41:45.269Z"
   },
   {
    "duration": 87,
    "start_time": "2021-08-19T16:41:45.310Z"
   },
   {
    "duration": 116,
    "start_time": "2021-08-19T16:41:45.400Z"
   },
   {
    "duration": 531,
    "start_time": "2021-08-19T16:41:44.987Z"
   },
   {
    "duration": 522,
    "start_time": "2021-08-19T16:41:44.998Z"
   },
   {
    "duration": 518,
    "start_time": "2021-08-19T16:41:45.003Z"
   },
   {
    "duration": 512,
    "start_time": "2021-08-19T16:41:45.010Z"
   },
   {
    "duration": 506,
    "start_time": "2021-08-19T16:41:45.018Z"
   },
   {
    "duration": 501,
    "start_time": "2021-08-19T16:41:45.024Z"
   },
   {
    "duration": 494,
    "start_time": "2021-08-19T16:41:45.032Z"
   },
   {
    "duration": 490,
    "start_time": "2021-08-19T16:41:45.038Z"
   },
   {
    "duration": 477,
    "start_time": "2021-08-19T16:41:45.052Z"
   },
   {
    "duration": 475,
    "start_time": "2021-08-19T16:41:45.056Z"
   },
   {
    "duration": 471,
    "start_time": "2021-08-19T16:41:45.061Z"
   },
   {
    "duration": 466,
    "start_time": "2021-08-19T16:41:45.067Z"
   },
   {
    "duration": 463,
    "start_time": "2021-08-19T16:41:45.072Z"
   },
   {
    "duration": 456,
    "start_time": "2021-08-19T16:41:45.080Z"
   },
   {
    "duration": 23,
    "start_time": "2021-08-19T16:44:00.010Z"
   },
   {
    "duration": 11,
    "start_time": "2021-08-19T16:45:04.962Z"
   },
   {
    "duration": 6,
    "start_time": "2021-08-19T16:45:05.425Z"
   },
   {
    "duration": 12,
    "start_time": "2021-08-19T16:45:05.827Z"
   },
   {
    "duration": 19,
    "start_time": "2021-08-19T16:45:08.559Z"
   },
   {
    "duration": 17,
    "start_time": "2021-08-19T16:48:04.982Z"
   },
   {
    "duration": 14,
    "start_time": "2021-08-19T16:49:57.783Z"
   },
   {
    "duration": 51,
    "start_time": "2021-08-19T16:53:37.317Z"
   },
   {
    "duration": 9114,
    "start_time": "2021-08-19T16:54:51.037Z"
   },
   {
    "duration": 16,
    "start_time": "2021-08-19T16:55:17.927Z"
   },
   {
    "duration": 48,
    "start_time": "2021-08-19T16:56:27.623Z"
   },
   {
    "duration": 51,
    "start_time": "2021-08-19T16:56:32.110Z"
   },
   {
    "duration": 29,
    "start_time": "2021-08-19T16:56:53.844Z"
   },
   {
    "duration": 12,
    "start_time": "2021-08-19T17:01:33.116Z"
   },
   {
    "duration": 16,
    "start_time": "2021-08-19T17:02:41.680Z"
   },
   {
    "duration": 7,
    "start_time": "2021-08-19T17:05:59.633Z"
   },
   {
    "duration": 368,
    "start_time": "2021-08-19T17:06:18.801Z"
   },
   {
    "duration": 60,
    "start_time": "2021-08-19T17:06:28.761Z"
   },
   {
    "duration": 53,
    "start_time": "2021-08-19T17:08:16.720Z"
   },
   {
    "duration": 6,
    "start_time": "2021-08-19T17:08:36.307Z"
   },
   {
    "duration": 5,
    "start_time": "2021-08-19T17:08:47.475Z"
   },
   {
    "duration": 6,
    "start_time": "2021-08-19T17:08:53.444Z"
   },
   {
    "duration": 54,
    "start_time": "2021-08-19T17:09:30.865Z"
   },
   {
    "duration": 50,
    "start_time": "2021-08-19T17:09:35.246Z"
   },
   {
    "duration": 3,
    "start_time": "2021-08-19T17:09:45.458Z"
   },
   {
    "duration": 52,
    "start_time": "2021-08-19T17:09:45.999Z"
   },
   {
    "duration": 34,
    "start_time": "2021-08-19T17:10:05.677Z"
   },
   {
    "duration": 13,
    "start_time": "2021-08-19T17:11:50.708Z"
   },
   {
    "duration": 6,
    "start_time": "2021-08-19T17:13:36.132Z"
   },
   {
    "duration": 6,
    "start_time": "2021-08-19T17:13:42.180Z"
   },
   {
    "duration": 6,
    "start_time": "2021-08-19T17:16:00.787Z"
   },
   {
    "duration": 6,
    "start_time": "2021-08-19T17:16:08.256Z"
   },
   {
    "duration": 11,
    "start_time": "2021-08-19T17:16:27.083Z"
   },
   {
    "duration": 6,
    "start_time": "2021-08-19T17:16:31.703Z"
   },
   {
    "duration": 7,
    "start_time": "2021-08-19T17:16:36.556Z"
   },
   {
    "duration": 6,
    "start_time": "2021-08-19T17:16:42.950Z"
   },
   {
    "duration": 51,
    "start_time": "2021-08-19T17:17:32.843Z"
   },
   {
    "duration": 6,
    "start_time": "2021-08-19T17:17:34.034Z"
   },
   {
    "duration": 31,
    "start_time": "2021-08-19T17:17:42.112Z"
   },
   {
    "duration": 13,
    "start_time": "2021-08-19T17:17:54.944Z"
   },
   {
    "duration": 6,
    "start_time": "2021-08-19T17:17:55.284Z"
   },
   {
    "duration": 16,
    "start_time": "2021-08-19T17:17:55.910Z"
   },
   {
    "duration": 31,
    "start_time": "2021-08-19T17:19:22.045Z"
   },
   {
    "duration": 28,
    "start_time": "2021-08-19T17:19:26.318Z"
   },
   {
    "duration": 16,
    "start_time": "2021-08-19T17:20:12.741Z"
   },
   {
    "duration": 19,
    "start_time": "2021-08-19T17:20:13.361Z"
   },
   {
    "duration": 6,
    "start_time": "2021-08-19T17:20:14.481Z"
   },
   {
    "duration": 12,
    "start_time": "2021-08-19T17:20:15.677Z"
   },
   {
    "duration": 15,
    "start_time": "2021-08-19T17:20:16.131Z"
   },
   {
    "duration": 50,
    "start_time": "2021-08-19T17:20:17.326Z"
   },
   {
    "duration": 13,
    "start_time": "2021-08-19T17:20:17.983Z"
   },
   {
    "duration": 41,
    "start_time": "2021-08-19T17:21:06.473Z"
   },
   {
    "duration": 15,
    "start_time": "2021-08-19T17:21:29.958Z"
   },
   {
    "duration": 6,
    "start_time": "2021-08-19T17:21:33.806Z"
   },
   {
    "duration": 10,
    "start_time": "2021-08-19T17:21:34.688Z"
   },
   {
    "duration": 15,
    "start_time": "2021-08-19T17:21:35.369Z"
   },
   {
    "duration": 43,
    "start_time": "2021-08-19T17:21:36.776Z"
   },
   {
    "duration": 13,
    "start_time": "2021-08-19T17:21:37.477Z"
   },
   {
    "duration": 31,
    "start_time": "2021-08-19T17:21:59.286Z"
   },
   {
    "duration": 29,
    "start_time": "2021-08-19T17:22:20.544Z"
   },
   {
    "duration": 29,
    "start_time": "2021-08-19T17:22:25.952Z"
   },
   {
    "duration": 1999,
    "start_time": "2021-08-19T17:22:43.040Z"
   },
   {
    "duration": 108,
    "start_time": "2021-08-19T17:22:45.042Z"
   },
   {
    "duration": 10,
    "start_time": "2021-08-19T17:22:45.153Z"
   },
   {
    "duration": 27,
    "start_time": "2021-08-19T17:22:45.165Z"
   },
   {
    "duration": 9,
    "start_time": "2021-08-19T17:22:45.194Z"
   },
   {
    "duration": 56,
    "start_time": "2021-08-19T17:22:45.205Z"
   },
   {
    "duration": 15,
    "start_time": "2021-08-19T17:22:45.264Z"
   },
   {
    "duration": 5,
    "start_time": "2021-08-19T17:22:45.283Z"
   },
   {
    "duration": 27,
    "start_time": "2021-08-19T17:22:45.291Z"
   },
   {
    "duration": 25,
    "start_time": "2021-08-19T17:22:45.356Z"
   },
   {
    "duration": 4,
    "start_time": "2021-08-19T17:22:45.384Z"
   },
   {
    "duration": 20,
    "start_time": "2021-08-19T17:22:45.391Z"
   },
   {
    "duration": 75,
    "start_time": "2021-08-19T17:22:45.413Z"
   },
   {
    "duration": 29,
    "start_time": "2021-08-19T17:22:45.490Z"
   },
   {
    "duration": 10,
    "start_time": "2021-08-19T17:22:45.521Z"
   },
   {
    "duration": 38,
    "start_time": "2021-08-19T17:22:45.533Z"
   },
   {
    "duration": 20,
    "start_time": "2021-08-19T17:22:45.573Z"
   },
   {
    "duration": 80,
    "start_time": "2021-08-19T17:22:45.596Z"
   },
   {
    "duration": 26,
    "start_time": "2021-08-19T17:22:45.678Z"
   },
   {
    "duration": 19,
    "start_time": "2021-08-19T17:22:45.707Z"
   },
   {
    "duration": 29,
    "start_time": "2021-08-19T17:22:45.757Z"
   },
   {
    "duration": 77,
    "start_time": "2021-08-19T17:22:45.789Z"
   },
   {
    "duration": 40,
    "start_time": "2021-08-19T17:22:45.876Z"
   },
   {
    "duration": 37,
    "start_time": "2021-08-19T17:22:45.922Z"
   },
   {
    "duration": 17,
    "start_time": "2021-08-19T17:22:45.962Z"
   },
   {
    "duration": 5,
    "start_time": "2021-08-19T17:22:45.982Z"
   },
   {
    "duration": 75,
    "start_time": "2021-08-19T17:22:45.990Z"
   },
   {
    "duration": 24,
    "start_time": "2021-08-19T17:22:46.067Z"
   },
   {
    "duration": 543,
    "start_time": "2021-08-19T17:22:46.093Z"
   },
   {
    "duration": 367,
    "start_time": "2021-08-19T17:22:46.639Z"
   },
   {
    "duration": 519,
    "start_time": "2021-08-19T17:22:47.009Z"
   },
   {
    "duration": 393,
    "start_time": "2021-08-19T17:22:47.531Z"
   },
   {
    "duration": 37,
    "start_time": "2021-08-19T17:22:47.927Z"
   },
   {
    "duration": 18,
    "start_time": "2021-08-19T17:22:47.967Z"
   },
   {
    "duration": 12,
    "start_time": "2021-08-19T17:22:47.987Z"
   },
   {
    "duration": 307,
    "start_time": "2021-08-19T17:22:48.002Z"
   },
   {
    "duration": 281,
    "start_time": "2021-08-19T17:22:48.311Z"
   },
   {
    "duration": 5,
    "start_time": "2021-08-19T17:22:48.594Z"
   },
   {
    "duration": 361,
    "start_time": "2021-08-19T17:22:48.601Z"
   },
   {
    "duration": 48,
    "start_time": "2021-08-19T17:22:48.965Z"
   },
   {
    "duration": 46,
    "start_time": "2021-08-19T17:22:49.015Z"
   },
   {
    "duration": 29,
    "start_time": "2021-08-19T17:22:49.063Z"
   },
   {
    "duration": 26,
    "start_time": "2021-08-19T17:22:49.094Z"
   },
   {
    "duration": 41,
    "start_time": "2021-08-19T17:22:49.122Z"
   },
   {
    "duration": 17,
    "start_time": "2021-08-19T17:22:49.166Z"
   },
   {
    "duration": 37,
    "start_time": "2021-08-19T17:22:49.186Z"
   },
   {
    "duration": 36,
    "start_time": "2021-08-19T17:22:49.225Z"
   },
   {
    "duration": 12,
    "start_time": "2021-08-19T17:22:49.264Z"
   },
   {
    "duration": 36,
    "start_time": "2021-08-19T17:22:49.279Z"
   },
   {
    "duration": 40,
    "start_time": "2021-08-19T17:22:49.318Z"
   },
   {
    "duration": 19,
    "start_time": "2021-08-19T17:22:49.360Z"
   },
   {
    "duration": 537,
    "start_time": "2021-08-19T17:22:49.382Z"
   },
   {
    "duration": 626,
    "start_time": "2021-08-19T17:22:49.298Z"
   },
   {
    "duration": 621,
    "start_time": "2021-08-19T17:22:49.304Z"
   },
   {
    "duration": 617,
    "start_time": "2021-08-19T17:22:49.310Z"
   },
   {
    "duration": 615,
    "start_time": "2021-08-19T17:22:49.314Z"
   },
   {
    "duration": 604,
    "start_time": "2021-08-19T17:22:49.326Z"
   },
   {
    "duration": 602,
    "start_time": "2021-08-19T17:22:49.330Z"
   },
   {
    "duration": 598,
    "start_time": "2021-08-19T17:22:49.335Z"
   },
   {
    "duration": 595,
    "start_time": "2021-08-19T17:22:49.340Z"
   },
   {
    "duration": 592,
    "start_time": "2021-08-19T17:22:49.344Z"
   },
   {
    "duration": 590,
    "start_time": "2021-08-19T17:22:49.348Z"
   },
   {
    "duration": 587,
    "start_time": "2021-08-19T17:22:49.352Z"
   },
   {
    "duration": 584,
    "start_time": "2021-08-19T17:22:49.357Z"
   },
   {
    "duration": 581,
    "start_time": "2021-08-19T17:22:49.361Z"
   },
   {
    "duration": 580,
    "start_time": "2021-08-19T17:22:49.364Z"
   },
   {
    "duration": 579,
    "start_time": "2021-08-19T17:22:49.367Z"
   },
   {
    "duration": 576,
    "start_time": "2021-08-19T17:22:49.371Z"
   },
   {
    "duration": 574,
    "start_time": "2021-08-19T17:22:49.375Z"
   },
   {
    "duration": 572,
    "start_time": "2021-08-19T17:22:49.378Z"
   },
   {
    "duration": 570,
    "start_time": "2021-08-19T17:22:49.381Z"
   },
   {
    "duration": 569,
    "start_time": "2021-08-19T17:22:49.384Z"
   },
   {
    "duration": 566,
    "start_time": "2021-08-19T17:22:49.388Z"
   },
   {
    "duration": 559,
    "start_time": "2021-08-19T17:22:49.397Z"
   },
   {
    "duration": 557,
    "start_time": "2021-08-19T17:22:49.400Z"
   },
   {
    "duration": 555,
    "start_time": "2021-08-19T17:22:49.404Z"
   },
   {
    "duration": 552,
    "start_time": "2021-08-19T17:22:49.408Z"
   },
   {
    "duration": 551,
    "start_time": "2021-08-19T17:22:49.411Z"
   },
   {
    "duration": 549,
    "start_time": "2021-08-19T17:22:49.414Z"
   },
   {
    "duration": 480,
    "start_time": "2021-08-19T17:22:49.485Z"
   },
   {
    "duration": 317,
    "start_time": "2021-08-19T17:22:49.649Z"
   },
   {
    "duration": 306,
    "start_time": "2021-08-19T17:22:49.662Z"
   },
   {
    "duration": 304,
    "start_time": "2021-08-19T17:22:49.666Z"
   },
   {
    "duration": 302,
    "start_time": "2021-08-19T17:22:49.669Z"
   },
   {
    "duration": 292,
    "start_time": "2021-08-19T17:22:49.681Z"
   },
   {
    "duration": 290,
    "start_time": "2021-08-19T17:22:49.684Z"
   },
   {
    "duration": 287,
    "start_time": "2021-08-19T17:22:49.689Z"
   },
   {
    "duration": 285,
    "start_time": "2021-08-19T17:22:49.692Z"
   },
   {
    "duration": 284,
    "start_time": "2021-08-19T17:22:49.695Z"
   },
   {
    "duration": 281,
    "start_time": "2021-08-19T17:22:49.699Z"
   },
   {
    "duration": 278,
    "start_time": "2021-08-19T17:22:49.703Z"
   },
   {
    "duration": 277,
    "start_time": "2021-08-19T17:22:49.706Z"
   },
   {
    "duration": 274,
    "start_time": "2021-08-19T17:22:49.710Z"
   },
   {
    "duration": 272,
    "start_time": "2021-08-19T17:22:49.713Z"
   },
   {
    "duration": 23,
    "start_time": "2021-08-19T17:23:10.876Z"
   },
   {
    "duration": 6,
    "start_time": "2021-08-19T17:23:14.201Z"
   },
   {
    "duration": 29,
    "start_time": "2021-08-19T17:23:14.962Z"
   },
   {
    "duration": 30,
    "start_time": "2021-08-19T17:23:16.512Z"
   },
   {
    "duration": 11,
    "start_time": "2021-08-19T17:23:17.380Z"
   },
   {
    "duration": 6,
    "start_time": "2021-08-19T17:23:18.413Z"
   },
   {
    "duration": 19,
    "start_time": "2021-08-19T17:23:18.917Z"
   },
   {
    "duration": 19,
    "start_time": "2021-08-19T17:23:19.129Z"
   },
   {
    "duration": 7,
    "start_time": "2021-08-19T17:23:19.361Z"
   },
   {
    "duration": 12,
    "start_time": "2021-08-19T17:23:19.588Z"
   },
   {
    "duration": 16,
    "start_time": "2021-08-19T17:23:19.791Z"
   },
   {
    "duration": 44,
    "start_time": "2021-08-19T17:23:19.987Z"
   },
   {
    "duration": 13,
    "start_time": "2021-08-19T17:23:20.165Z"
   },
   {
    "duration": 12,
    "start_time": "2021-08-19T17:23:21.234Z"
   },
   {
    "duration": 6,
    "start_time": "2021-08-19T17:23:21.409Z"
   },
   {
    "duration": 20,
    "start_time": "2021-08-19T17:23:21.607Z"
   },
   {
    "duration": 24,
    "start_time": "2021-08-19T17:23:21.804Z"
   },
   {
    "duration": 22,
    "start_time": "2021-08-19T17:23:22.006Z"
   },
   {
    "duration": 4160,
    "start_time": "2021-08-19T17:23:22.200Z"
   },
   {
    "duration": 27,
    "start_time": "2021-08-19T17:23:26.363Z"
   },
   {
    "duration": 10,
    "start_time": "2021-08-19T17:23:26.393Z"
   },
   {
    "duration": 2719,
    "start_time": "2021-08-19T17:23:26.406Z"
   },
   {
    "duration": 33,
    "start_time": "2021-08-19T17:23:29.127Z"
   },
   {
    "duration": 5,
    "start_time": "2021-08-19T17:23:29.162Z"
   },
   {
    "duration": 20403,
    "start_time": "2021-08-19T17:23:29.170Z"
   },
   {
    "duration": 19,
    "start_time": "2021-08-19T17:23:49.577Z"
   },
   {
    "duration": 59,
    "start_time": "2021-08-19T17:23:49.599Z"
   },
   {
    "duration": 50,
    "start_time": "2021-08-19T17:23:49.660Z"
   },
   {
    "duration": 119,
    "start_time": "2021-08-19T17:23:49.712Z"
   },
   {
    "duration": 16,
    "start_time": "2021-08-19T17:25:29.529Z"
   },
   {
    "duration": 17,
    "start_time": "2021-08-19T17:26:19.432Z"
   },
   {
    "duration": 17,
    "start_time": "2021-08-19T17:26:33.576Z"
   },
   {
    "duration": 6,
    "start_time": "2021-08-19T17:26:36.708Z"
   },
   {
    "duration": 11,
    "start_time": "2021-08-19T17:26:37.299Z"
   },
   {
    "duration": 15,
    "start_time": "2021-08-19T17:26:37.945Z"
   },
   {
    "duration": 45,
    "start_time": "2021-08-19T17:26:38.883Z"
   },
   {
    "duration": 13,
    "start_time": "2021-08-19T17:26:39.850Z"
   },
   {
    "duration": 17,
    "start_time": "2021-08-19T17:27:23.944Z"
   },
   {
    "duration": 6,
    "start_time": "2021-08-19T17:27:27.349Z"
   },
   {
    "duration": 12,
    "start_time": "2021-08-19T17:27:28.560Z"
   },
   {
    "duration": 16,
    "start_time": "2021-08-19T17:27:40.644Z"
   },
   {
    "duration": 41,
    "start_time": "2021-08-19T17:27:41.677Z"
   },
   {
    "duration": 12,
    "start_time": "2021-08-19T17:27:44.723Z"
   },
   {
    "duration": 61,
    "start_time": "2021-08-19T17:33:52.707Z"
   },
   {
    "duration": 22,
    "start_time": "2021-08-19T17:34:07.467Z"
   },
   {
    "duration": 33,
    "start_time": "2021-08-19T17:39:28.249Z"
   },
   {
    "duration": 17,
    "start_time": "2021-08-19T17:40:31.931Z"
   },
   {
    "duration": 25,
    "start_time": "2021-08-19T17:40:33.571Z"
   },
   {
    "duration": 3875,
    "start_time": "2021-08-19T17:40:34.185Z"
   },
   {
    "duration": 28,
    "start_time": "2021-08-19T17:40:38.064Z"
   },
   {
    "duration": 17,
    "start_time": "2021-08-19T17:41:02.951Z"
   },
   {
    "duration": 26,
    "start_time": "2021-08-19T17:41:04.062Z"
   },
   {
    "duration": 4481,
    "start_time": "2021-08-19T17:41:04.798Z"
   },
   {
    "duration": 25,
    "start_time": "2021-08-19T17:41:09.281Z"
   },
   {
    "duration": 22,
    "start_time": "2021-08-19T17:44:17.846Z"
   },
   {
    "duration": 26,
    "start_time": "2021-08-19T17:44:21.001Z"
   },
   {
    "duration": 4133,
    "start_time": "2021-08-19T17:44:21.383Z"
   },
   {
    "duration": 49,
    "start_time": "2021-08-19T17:44:25.520Z"
   },
   {
    "duration": 4162,
    "start_time": "2021-08-19T17:44:48.102Z"
   },
   {
    "duration": 23,
    "start_time": "2021-08-19T17:47:39.477Z"
   },
   {
    "duration": 36,
    "start_time": "2021-08-19T17:48:30.291Z"
   },
   {
    "duration": 30,
    "start_time": "2021-08-19T17:50:05.654Z"
   },
   {
    "duration": 19,
    "start_time": "2021-08-19T17:50:16.315Z"
   },
   {
    "duration": 36,
    "start_time": "2021-08-19T17:50:26.178Z"
   },
   {
    "duration": 5,
    "start_time": "2021-08-19T17:55:27.341Z"
   },
   {
    "duration": 14948,
    "start_time": "2021-08-19T17:55:28.460Z"
   },
   {
    "duration": 19,
    "start_time": "2021-08-19T17:55:43.410Z"
   },
   {
    "duration": 52,
    "start_time": "2021-08-19T17:55:43.432Z"
   },
   {
    "duration": 44,
    "start_time": "2021-08-19T17:55:43.486Z"
   },
   {
    "duration": 6,
    "start_time": "2021-08-19T17:56:17.760Z"
   },
   {
    "duration": 20365,
    "start_time": "2021-08-19T17:56:18.564Z"
   },
   {
    "duration": 34,
    "start_time": "2021-08-19T17:56:38.932Z"
   },
   {
    "duration": 34,
    "start_time": "2021-08-19T17:56:38.969Z"
   },
   {
    "duration": 76,
    "start_time": "2021-08-19T17:56:39.005Z"
   },
   {
    "duration": 5,
    "start_time": "2021-08-19T18:01:10.641Z"
   },
   {
    "duration": 15726,
    "start_time": "2021-08-19T18:01:11.344Z"
   },
   {
    "duration": 23,
    "start_time": "2021-08-19T18:01:27.073Z"
   },
   {
    "duration": 5,
    "start_time": "2021-08-19T18:01:38.892Z"
   },
   {
    "duration": 14996,
    "start_time": "2021-08-19T18:01:39.433Z"
   },
   {
    "duration": 41,
    "start_time": "2021-08-19T18:01:54.433Z"
   },
   {
    "duration": 8,
    "start_time": "2021-08-19T18:02:12.595Z"
   },
   {
    "duration": 36027,
    "start_time": "2021-08-19T18:02:12.870Z"
   },
   {
    "duration": 32,
    "start_time": "2021-08-19T18:02:48.900Z"
   },
   {
    "duration": 66,
    "start_time": "2021-08-19T18:02:48.935Z"
   },
   {
    "duration": 4,
    "start_time": "2021-08-19T18:02:56.189Z"
   },
   {
    "duration": 122,
    "start_time": "2021-08-19T18:03:28.634Z"
   },
   {
    "duration": 129,
    "start_time": "2021-08-19T18:03:43.633Z"
   },
   {
    "duration": 11,
    "start_time": "2021-08-19T18:04:02.364Z"
   },
   {
    "duration": 34,
    "start_time": "2021-08-19T18:04:58.024Z"
   },
   {
    "duration": 361,
    "start_time": "2021-08-19T18:05:26.348Z"
   },
   {
    "duration": 2011,
    "start_time": "2021-08-19T18:05:57.617Z"
   },
   {
    "duration": 109,
    "start_time": "2021-08-19T18:05:59.631Z"
   },
   {
    "duration": 10,
    "start_time": "2021-08-19T18:05:59.746Z"
   },
   {
    "duration": 27,
    "start_time": "2021-08-19T18:05:59.758Z"
   },
   {
    "duration": 9,
    "start_time": "2021-08-19T18:05:59.788Z"
   },
   {
    "duration": 23,
    "start_time": "2021-08-19T18:05:59.800Z"
   },
   {
    "duration": 16,
    "start_time": "2021-08-19T18:05:59.855Z"
   },
   {
    "duration": 15,
    "start_time": "2021-08-19T18:05:59.874Z"
   },
   {
    "duration": 31,
    "start_time": "2021-08-19T18:05:59.891Z"
   },
   {
    "duration": 47,
    "start_time": "2021-08-19T18:05:59.925Z"
   },
   {
    "duration": 4,
    "start_time": "2021-08-19T18:05:59.975Z"
   },
   {
    "duration": 30,
    "start_time": "2021-08-19T18:05:59.981Z"
   },
   {
    "duration": 65,
    "start_time": "2021-08-19T18:06:00.013Z"
   },
   {
    "duration": 30,
    "start_time": "2021-08-19T18:06:00.081Z"
   },
   {
    "duration": 11,
    "start_time": "2021-08-19T18:06:00.113Z"
   },
   {
    "duration": 41,
    "start_time": "2021-08-19T18:06:00.126Z"
   },
   {
    "duration": 34,
    "start_time": "2021-08-19T18:06:00.169Z"
   },
   {
    "duration": 56,
    "start_time": "2021-08-19T18:06:00.205Z"
   },
   {
    "duration": 26,
    "start_time": "2021-08-19T18:06:00.264Z"
   },
   {
    "duration": 18,
    "start_time": "2021-08-19T18:06:00.293Z"
   },
   {
    "duration": 67,
    "start_time": "2021-08-19T18:06:00.313Z"
   },
   {
    "duration": 46,
    "start_time": "2021-08-19T18:06:00.386Z"
   },
   {
    "duration": 33,
    "start_time": "2021-08-19T18:06:00.459Z"
   },
   {
    "duration": 14,
    "start_time": "2021-08-19T18:06:00.495Z"
   },
   {
    "duration": 28,
    "start_time": "2021-08-19T18:06:00.511Z"
   },
   {
    "duration": 5,
    "start_time": "2021-08-19T18:06:00.557Z"
   },
   {
    "duration": 48,
    "start_time": "2021-08-19T18:06:00.565Z"
   },
   {
    "duration": 46,
    "start_time": "2021-08-19T18:06:00.616Z"
   },
   {
    "duration": 642,
    "start_time": "2021-08-19T18:06:00.664Z"
   },
   {
    "duration": 576,
    "start_time": "2021-08-19T18:06:01.310Z"
   },
   {
    "duration": 583,
    "start_time": "2021-08-19T18:06:01.890Z"
   },
   {
    "duration": 378,
    "start_time": "2021-08-19T18:06:02.476Z"
   },
   {
    "duration": 19,
    "start_time": "2021-08-19T18:06:02.857Z"
   },
   {
    "duration": 16,
    "start_time": "2021-08-19T18:06:02.878Z"
   },
   {
    "duration": 10,
    "start_time": "2021-08-19T18:06:02.897Z"
   },
   {
    "duration": 318,
    "start_time": "2021-08-19T18:06:02.909Z"
   },
   {
    "duration": 270,
    "start_time": "2021-08-19T18:06:03.230Z"
   },
   {
    "duration": 5,
    "start_time": "2021-08-19T18:06:03.503Z"
   },
   {
    "duration": 365,
    "start_time": "2021-08-19T18:06:03.511Z"
   },
   {
    "duration": 50,
    "start_time": "2021-08-19T18:06:03.879Z"
   },
   {
    "duration": 39,
    "start_time": "2021-08-19T18:06:03.932Z"
   },
   {
    "duration": 27,
    "start_time": "2021-08-19T18:06:03.974Z"
   },
   {
    "duration": 68,
    "start_time": "2021-08-19T18:06:04.004Z"
   },
   {
    "duration": 9,
    "start_time": "2021-08-19T18:06:04.075Z"
   },
   {
    "duration": 17,
    "start_time": "2021-08-19T18:06:04.086Z"
   },
   {
    "duration": 67,
    "start_time": "2021-08-19T18:06:04.105Z"
   },
   {
    "duration": 7,
    "start_time": "2021-08-19T18:06:04.175Z"
   },
   {
    "duration": 14,
    "start_time": "2021-08-19T18:06:04.184Z"
   },
   {
    "duration": 63,
    "start_time": "2021-08-19T18:06:04.200Z"
   },
   {
    "duration": 3,
    "start_time": "2021-08-19T18:06:04.266Z"
   },
   {
    "duration": 8,
    "start_time": "2021-08-19T18:06:04.271Z"
   },
   {
    "duration": 24,
    "start_time": "2021-08-19T18:06:04.282Z"
   },
   {
    "duration": 64,
    "start_time": "2021-08-19T18:06:04.309Z"
   },
   {
    "duration": 11,
    "start_time": "2021-08-19T18:06:04.376Z"
   },
   {
    "duration": 8,
    "start_time": "2021-08-19T18:06:04.389Z"
   },
   {
    "duration": 20,
    "start_time": "2021-08-19T18:06:04.399Z"
   },
   {
    "duration": 49,
    "start_time": "2021-08-19T18:06:04.421Z"
   },
   {
    "duration": 5,
    "start_time": "2021-08-19T18:06:04.473Z"
   },
   {
    "duration": 21,
    "start_time": "2021-08-19T18:06:04.480Z"
   },
   {
    "duration": 15,
    "start_time": "2021-08-19T18:06:04.503Z"
   },
   {
    "duration": 84,
    "start_time": "2021-08-19T18:06:04.520Z"
   },
   {
    "duration": 9436,
    "start_time": "2021-08-19T18:06:04.606Z"
   },
   {
    "duration": 616,
    "start_time": "2021-08-19T18:06:13.430Z"
   },
   {
    "duration": 612,
    "start_time": "2021-08-19T18:06:13.435Z"
   },
   {
    "duration": 609,
    "start_time": "2021-08-19T18:06:13.440Z"
   },
   {
    "duration": 605,
    "start_time": "2021-08-19T18:06:13.445Z"
   },
   {
    "duration": 585,
    "start_time": "2021-08-19T18:06:13.467Z"
   },
   {
    "duration": 583,
    "start_time": "2021-08-19T18:06:13.471Z"
   },
   {
    "duration": 581,
    "start_time": "2021-08-19T18:06:13.475Z"
   },
   {
    "duration": 578,
    "start_time": "2021-08-19T18:06:13.479Z"
   },
   {
    "duration": 576,
    "start_time": "2021-08-19T18:06:13.483Z"
   },
   {
    "duration": 571,
    "start_time": "2021-08-19T18:06:13.489Z"
   },
   {
    "duration": 568,
    "start_time": "2021-08-19T18:06:13.494Z"
   },
   {
    "duration": 566,
    "start_time": "2021-08-19T18:06:13.497Z"
   },
   {
    "duration": 560,
    "start_time": "2021-08-19T18:06:13.505Z"
   },
   {
    "duration": 558,
    "start_time": "2021-08-19T18:06:13.508Z"
   },
   {
    "duration": 556,
    "start_time": "2021-08-19T18:06:13.512Z"
   },
   {
    "duration": 553,
    "start_time": "2021-08-19T18:06:13.516Z"
   },
   {
    "duration": 531,
    "start_time": "2021-08-19T18:06:13.540Z"
   },
   {
    "duration": 529,
    "start_time": "2021-08-19T18:06:13.544Z"
   },
   {
    "duration": 525,
    "start_time": "2021-08-19T18:06:13.549Z"
   },
   {
    "duration": 501,
    "start_time": "2021-08-19T18:06:13.575Z"
   },
   {
    "duration": 496,
    "start_time": "2021-08-19T18:06:13.581Z"
   },
   {
    "duration": 494,
    "start_time": "2021-08-19T18:06:13.584Z"
   },
   {
    "duration": 489,
    "start_time": "2021-08-19T18:06:13.590Z"
   },
   {
    "duration": 487,
    "start_time": "2021-08-19T18:06:13.594Z"
   },
   {
    "duration": 484,
    "start_time": "2021-08-19T18:06:13.598Z"
   },
   {
    "duration": 475,
    "start_time": "2021-08-19T18:06:13.609Z"
   },
   {
    "duration": 472,
    "start_time": "2021-08-19T18:06:13.613Z"
   },
   {
    "duration": 470,
    "start_time": "2021-08-19T18:06:13.616Z"
   },
   {
    "duration": 13,
    "start_time": "2021-08-19T18:07:06.146Z"
   },
   {
    "duration": 11,
    "start_time": "2021-08-19T18:07:07.745Z"
   },
   {
    "duration": 6,
    "start_time": "2021-08-19T18:07:07.922Z"
   },
   {
    "duration": 19,
    "start_time": "2021-08-19T18:07:08.102Z"
   },
   {
    "duration": 25,
    "start_time": "2021-08-19T18:07:08.275Z"
   },
   {
    "duration": 4563,
    "start_time": "2021-08-19T18:07:08.444Z"
   },
   {
    "duration": 46,
    "start_time": "2021-08-19T18:07:13.010Z"
   },
   {
    "duration": 4,
    "start_time": "2021-08-19T18:07:13.058Z"
   },
   {
    "duration": 2590,
    "start_time": "2021-08-19T18:07:13.065Z"
   },
   {
    "duration": 21,
    "start_time": "2021-08-19T18:07:15.657Z"
   },
   {
    "duration": 5,
    "start_time": "2021-08-19T18:07:15.681Z"
   },
   {
    "duration": 15494,
    "start_time": "2021-08-19T18:07:15.688Z"
   },
   {
    "duration": 28,
    "start_time": "2021-08-19T18:07:31.186Z"
   },
   {
    "duration": 66,
    "start_time": "2021-08-19T18:07:31.217Z"
   },
   {
    "duration": 71,
    "start_time": "2021-08-19T18:07:31.286Z"
   },
   {
    "duration": 25,
    "start_time": "2021-08-19T18:07:31.360Z"
   },
   {
    "duration": 24,
    "start_time": "2021-08-19T18:07:31.387Z"
   },
   {
    "duration": 41,
    "start_time": "2021-08-19T18:07:31.414Z"
   },
   {
    "duration": 8,
    "start_time": "2021-08-19T18:07:31.457Z"
   },
   {
    "duration": 29,
    "start_time": "2021-08-19T18:07:31.467Z"
   },
   {
    "duration": 64,
    "start_time": "2021-08-19T18:07:31.499Z"
   },
   {
    "duration": 5,
    "start_time": "2021-08-19T18:07:31.566Z"
   },
   {
    "duration": 34,
    "start_time": "2021-08-19T18:07:31.573Z"
   },
   {
    "duration": 15,
    "start_time": "2021-08-19T18:07:31.610Z"
   },
   {
    "duration": 41,
    "start_time": "2021-08-19T18:07:31.628Z"
   },
   {
    "duration": 5,
    "start_time": "2021-08-19T18:07:31.671Z"
   },
   {
    "duration": 22,
    "start_time": "2021-08-19T18:07:31.679Z"
   },
   {
    "duration": 82,
    "start_time": "2021-08-19T18:07:31.706Z"
   },
   {
    "duration": 14,
    "start_time": "2021-08-19T18:07:31.790Z"
   },
   {
    "duration": 21,
    "start_time": "2021-08-19T18:07:43.551Z"
   },
   {
    "duration": 22,
    "start_time": "2021-08-19T18:07:48.635Z"
   },
   {
    "duration": 21,
    "start_time": "2021-08-19T18:07:53.605Z"
   },
   {
    "duration": 20,
    "start_time": "2021-08-19T18:07:57.379Z"
   },
   {
    "duration": 22,
    "start_time": "2021-08-19T18:08:06.942Z"
   },
   {
    "duration": 5,
    "start_time": "2021-08-19T18:08:54.634Z"
   },
   {
    "duration": 11978,
    "start_time": "2021-08-19T18:08:55.260Z"
   },
   {
    "duration": 34,
    "start_time": "2021-08-19T18:09:07.242Z"
   },
   {
    "duration": 13,
    "start_time": "2021-08-19T18:11:39.107Z"
   },
   {
    "duration": 14,
    "start_time": "2021-08-19T18:11:43.647Z"
   },
   {
    "duration": 13,
    "start_time": "2021-08-19T18:11:48.449Z"
   },
   {
    "duration": 30,
    "start_time": "2021-08-19T18:11:50.871Z"
   },
   {
    "duration": 13,
    "start_time": "2021-08-19T18:11:51.779Z"
   },
   {
    "duration": 2020,
    "start_time": "2021-08-19T18:12:09.801Z"
   },
   {
    "duration": 109,
    "start_time": "2021-08-19T18:12:11.824Z"
   },
   {
    "duration": 10,
    "start_time": "2021-08-19T18:12:11.939Z"
   },
   {
    "duration": 19,
    "start_time": "2021-08-19T18:12:11.951Z"
   },
   {
    "duration": 8,
    "start_time": "2021-08-19T18:12:11.973Z"
   },
   {
    "duration": 20,
    "start_time": "2021-08-19T18:12:11.983Z"
   },
   {
    "duration": 51,
    "start_time": "2021-08-19T18:12:12.007Z"
   },
   {
    "duration": 6,
    "start_time": "2021-08-19T18:12:12.062Z"
   },
   {
    "duration": 29,
    "start_time": "2021-08-19T18:12:12.070Z"
   },
   {
    "duration": 70,
    "start_time": "2021-08-19T18:12:12.102Z"
   },
   {
    "duration": 5,
    "start_time": "2021-08-19T18:12:12.174Z"
   },
   {
    "duration": 21,
    "start_time": "2021-08-19T18:12:12.182Z"
   },
   {
    "duration": 80,
    "start_time": "2021-08-19T18:12:12.206Z"
   },
   {
    "duration": 32,
    "start_time": "2021-08-19T18:12:12.288Z"
   },
   {
    "duration": 34,
    "start_time": "2021-08-19T18:12:12.322Z"
   },
   {
    "duration": 16,
    "start_time": "2021-08-19T18:12:12.358Z"
   },
   {
    "duration": 19,
    "start_time": "2021-08-19T18:12:12.377Z"
   },
   {
    "duration": 79,
    "start_time": "2021-08-19T18:12:12.398Z"
   },
   {
    "duration": 29,
    "start_time": "2021-08-19T18:12:12.479Z"
   },
   {
    "duration": 18,
    "start_time": "2021-08-19T18:12:12.510Z"
   },
   {
    "duration": 44,
    "start_time": "2021-08-19T18:12:12.531Z"
   },
   {
    "duration": 74,
    "start_time": "2021-08-19T18:12:12.581Z"
   },
   {
    "duration": 37,
    "start_time": "2021-08-19T18:12:12.659Z"
   },
   {
    "duration": 10,
    "start_time": "2021-08-19T18:12:12.699Z"
   },
   {
    "duration": 53,
    "start_time": "2021-08-19T18:12:12.711Z"
   },
   {
    "duration": 4,
    "start_time": "2021-08-19T18:12:12.767Z"
   },
   {
    "duration": 29,
    "start_time": "2021-08-19T18:12:12.773Z"
   },
   {
    "duration": 63,
    "start_time": "2021-08-19T18:12:12.804Z"
   },
   {
    "duration": 518,
    "start_time": "2021-08-19T18:12:12.870Z"
   },
   {
    "duration": 355,
    "start_time": "2021-08-19T18:12:13.390Z"
   },
   {
    "duration": 509,
    "start_time": "2021-08-19T18:12:13.755Z"
   },
   {
    "duration": 373,
    "start_time": "2021-08-19T18:12:14.266Z"
   },
   {
    "duration": 25,
    "start_time": "2021-08-19T18:12:14.642Z"
   },
   {
    "duration": 22,
    "start_time": "2021-08-19T18:12:14.670Z"
   },
   {
    "duration": 6,
    "start_time": "2021-08-19T18:12:14.695Z"
   },
   {
    "duration": 307,
    "start_time": "2021-08-19T18:12:14.703Z"
   },
   {
    "duration": 368,
    "start_time": "2021-08-19T18:12:15.013Z"
   },
   {
    "duration": 6,
    "start_time": "2021-08-19T18:12:15.383Z"
   },
   {
    "duration": 359,
    "start_time": "2021-08-19T18:12:15.391Z"
   },
   {
    "duration": 51,
    "start_time": "2021-08-19T18:12:15.756Z"
   },
   {
    "duration": 46,
    "start_time": "2021-08-19T18:12:15.810Z"
   },
   {
    "duration": 28,
    "start_time": "2021-08-19T18:12:15.858Z"
   },
   {
    "duration": 28,
    "start_time": "2021-08-19T18:12:15.889Z"
   },
   {
    "duration": 43,
    "start_time": "2021-08-19T18:12:15.920Z"
   },
   {
    "duration": 13,
    "start_time": "2021-08-19T18:12:15.966Z"
   },
   {
    "duration": 37,
    "start_time": "2021-08-19T18:12:15.982Z"
   },
   {
    "duration": 39,
    "start_time": "2021-08-19T18:12:16.021Z"
   },
   {
    "duration": 19,
    "start_time": "2021-08-19T18:12:16.063Z"
   },
   {
    "duration": 29,
    "start_time": "2021-08-19T18:12:16.084Z"
   },
   {
    "duration": 3,
    "start_time": "2021-08-19T18:12:16.115Z"
   },
   {
    "duration": 4,
    "start_time": "2021-08-19T18:12:16.156Z"
   },
   {
    "duration": 29,
    "start_time": "2021-08-19T18:12:16.162Z"
   },
   {
    "duration": 28,
    "start_time": "2021-08-19T18:12:16.193Z"
   },
   {
    "duration": 39,
    "start_time": "2021-08-19T18:12:16.223Z"
   },
   {
    "duration": 6,
    "start_time": "2021-08-19T18:12:16.265Z"
   },
   {
    "duration": 24,
    "start_time": "2021-08-19T18:12:16.273Z"
   },
   {
    "duration": 58,
    "start_time": "2021-08-19T18:12:16.300Z"
   },
   {
    "duration": 6,
    "start_time": "2021-08-19T18:12:16.360Z"
   },
   {
    "duration": 20,
    "start_time": "2021-08-19T18:12:16.369Z"
   },
   {
    "duration": 16,
    "start_time": "2021-08-19T18:12:16.391Z"
   },
   {
    "duration": 75,
    "start_time": "2021-08-19T18:12:16.410Z"
   },
   {
    "duration": 12,
    "start_time": "2021-08-19T18:12:16.488Z"
   },
   {
    "duration": 14,
    "start_time": "2021-08-19T18:12:16.503Z"
   },
   {
    "duration": 38,
    "start_time": "2021-08-19T18:12:16.520Z"
   },
   {
    "duration": 29,
    "start_time": "2021-08-19T18:12:16.560Z"
   },
   {
    "duration": 30,
    "start_time": "2021-08-19T18:12:16.591Z"
   },
   {
    "duration": 4504,
    "start_time": "2021-08-19T18:12:16.629Z"
   },
   {
    "duration": 46,
    "start_time": "2021-08-19T18:12:21.136Z"
   },
   {
    "duration": 4,
    "start_time": "2021-08-19T18:12:21.184Z"
   },
   {
    "duration": 2636,
    "start_time": "2021-08-19T18:12:21.191Z"
   },
   {
    "duration": 33,
    "start_time": "2021-08-19T18:12:23.829Z"
   },
   {
    "duration": 5,
    "start_time": "2021-08-19T18:12:23.864Z"
   },
   {
    "duration": 12541,
    "start_time": "2021-08-19T18:12:23.872Z"
   },
   {
    "duration": 25,
    "start_time": "2021-08-19T18:12:36.415Z"
   },
   {
    "duration": 48,
    "start_time": "2021-08-19T18:12:36.443Z"
   },
   {
    "duration": 79,
    "start_time": "2021-08-19T18:12:36.494Z"
   },
   {
    "duration": 25,
    "start_time": "2021-08-19T18:12:36.575Z"
   },
   {
    "duration": 10,
    "start_time": "2021-08-19T18:12:36.602Z"
   },
   {
    "duration": 50,
    "start_time": "2021-08-19T18:12:36.615Z"
   },
   {
    "duration": 6,
    "start_time": "2021-08-19T18:12:36.667Z"
   },
   {
    "duration": 9,
    "start_time": "2021-08-19T18:12:36.676Z"
   },
   {
    "duration": 81,
    "start_time": "2021-08-19T18:12:36.687Z"
   },
   {
    "duration": 5,
    "start_time": "2021-08-19T18:12:36.770Z"
   },
   {
    "duration": 22,
    "start_time": "2021-08-19T18:12:36.777Z"
   },
   {
    "duration": 17,
    "start_time": "2021-08-19T18:12:36.802Z"
   },
   {
    "duration": 51,
    "start_time": "2021-08-19T18:12:36.821Z"
   },
   {
    "duration": 5,
    "start_time": "2021-08-19T18:12:36.874Z"
   },
   {
    "duration": 22,
    "start_time": "2021-08-19T18:12:36.881Z"
   },
   {
    "duration": 90,
    "start_time": "2021-08-19T18:12:36.905Z"
   },
   {
    "duration": 12,
    "start_time": "2021-08-19T18:12:36.997Z"
   },
   {
    "duration": 11,
    "start_time": "2021-08-19T18:12:43.771Z"
   },
   {
    "duration": 6,
    "start_time": "2021-08-19T18:13:35.989Z"
   },
   {
    "duration": 11,
    "start_time": "2021-08-19T18:13:36.952Z"
   },
   {
    "duration": 15,
    "start_time": "2021-08-19T18:13:37.438Z"
   },
   {
    "duration": 41,
    "start_time": "2021-08-19T18:13:38.779Z"
   },
   {
    "duration": 13,
    "start_time": "2021-08-19T18:13:39.375Z"
   },
   {
    "duration": 21,
    "start_time": "2021-08-19T18:15:42.835Z"
   },
   {
    "duration": 19,
    "start_time": "2021-08-19T18:15:55.618Z"
   },
   {
    "duration": 14,
    "start_time": "2021-08-19T18:16:03.459Z"
   },
   {
    "duration": 19,
    "start_time": "2021-08-19T18:16:14.792Z"
   },
   {
    "duration": 19,
    "start_time": "2021-08-19T18:16:52.727Z"
   },
   {
    "duration": 18,
    "start_time": "2021-08-19T18:17:11.409Z"
   },
   {
    "duration": 22,
    "start_time": "2021-08-19T18:18:40.713Z"
   },
   {
    "duration": 6,
    "start_time": "2021-08-19T18:18:47.327Z"
   },
   {
    "duration": 6,
    "start_time": "2021-08-19T18:18:57.302Z"
   },
   {
    "duration": 5,
    "start_time": "2021-08-19T18:19:12.293Z"
   },
   {
    "duration": 7,
    "start_time": "2021-08-19T18:19:26.902Z"
   },
   {
    "duration": 7,
    "start_time": "2021-08-19T18:19:33.599Z"
   },
   {
    "duration": 867,
    "start_time": "2021-08-19T18:20:00.106Z"
   },
   {
    "duration": 387,
    "start_time": "2021-08-19T18:20:09.773Z"
   },
   {
    "duration": 1120,
    "start_time": "2021-08-19T18:20:26.607Z"
   },
   {
    "duration": 6,
    "start_time": "2021-08-19T18:20:36.219Z"
   },
   {
    "duration": 171,
    "start_time": "2021-08-19T18:21:26.175Z"
   },
   {
    "duration": 5,
    "start_time": "2021-08-19T18:21:43.215Z"
   },
   {
    "duration": 5,
    "start_time": "2021-08-19T18:21:50.120Z"
   },
   {
    "duration": 15,
    "start_time": "2021-08-19T18:31:52.168Z"
   },
   {
    "duration": 11,
    "start_time": "2021-08-19T18:32:47.860Z"
   },
   {
    "duration": 10,
    "start_time": "2021-08-19T18:38:19.956Z"
   },
   {
    "duration": 24,
    "start_time": "2021-08-19T18:39:01.813Z"
   },
   {
    "duration": 6,
    "start_time": "2021-08-19T18:44:14.332Z"
   },
   {
    "duration": 14738,
    "start_time": "2021-08-19T18:44:14.801Z"
   },
   {
    "duration": 25,
    "start_time": "2021-08-19T18:44:29.542Z"
   },
   {
    "duration": 7,
    "start_time": "2021-08-19T18:45:25.941Z"
   },
   {
    "duration": 5,
    "start_time": "2021-08-19T18:46:51.862Z"
   },
   {
    "duration": 5,
    "start_time": "2021-08-19T18:47:02.881Z"
   },
   {
    "duration": 5,
    "start_time": "2021-08-19T18:47:11.151Z"
   },
   {
    "duration": 6,
    "start_time": "2021-08-19T18:47:37.486Z"
   },
   {
    "duration": 29,
    "start_time": "2021-08-19T18:48:23.990Z"
   },
   {
    "duration": 22,
    "start_time": "2021-08-19T18:50:41.834Z"
   },
   {
    "duration": 37,
    "start_time": "2021-08-19T18:50:52.703Z"
   },
   {
    "duration": 29,
    "start_time": "2021-08-19T18:51:10.903Z"
   },
   {
    "duration": 6,
    "start_time": "2021-08-19T18:51:23.399Z"
   },
   {
    "duration": 110,
    "start_time": "2021-08-19T18:51:47.796Z"
   },
   {
    "duration": 29,
    "start_time": "2021-08-19T18:53:25.618Z"
   },
   {
    "duration": 6,
    "start_time": "2021-08-19T18:53:39.315Z"
   },
   {
    "duration": 30,
    "start_time": "2021-08-19T18:55:03.971Z"
   },
   {
    "duration": 28,
    "start_time": "2021-08-19T18:55:11.756Z"
   },
   {
    "duration": 5,
    "start_time": "2021-08-19T18:55:12.959Z"
   },
   {
    "duration": 121,
    "start_time": "2021-08-19T18:57:48.360Z"
   },
   {
    "duration": 403,
    "start_time": "2021-08-19T18:57:51.840Z"
   },
   {
    "duration": 6,
    "start_time": "2021-08-19T18:57:57.646Z"
   },
   {
    "duration": 27,
    "start_time": "2021-08-19T18:58:12.753Z"
   },
   {
    "duration": 6,
    "start_time": "2021-08-19T18:58:17.919Z"
   },
   {
    "duration": 7,
    "start_time": "2021-08-19T18:58:25.588Z"
   },
   {
    "duration": 344,
    "start_time": "2021-08-19T18:58:47.952Z"
   },
   {
    "duration": 6,
    "start_time": "2021-08-19T18:59:06.843Z"
   },
   {
    "duration": 5929,
    "start_time": "2021-08-19T18:59:14.505Z"
   },
   {
    "duration": 21,
    "start_time": "2021-08-19T18:59:21.759Z"
   },
   {
    "duration": 6,
    "start_time": "2021-08-19T19:04:18.720Z"
   },
   {
    "duration": 6,
    "start_time": "2021-08-19T19:04:45.594Z"
   },
   {
    "duration": 24,
    "start_time": "2021-08-19T19:05:10.600Z"
   },
   {
    "duration": 6,
    "start_time": "2021-08-19T19:05:11.417Z"
   },
   {
    "duration": 29,
    "start_time": "2021-08-19T19:05:32.085Z"
   },
   {
    "duration": 5,
    "start_time": "2021-08-19T19:05:33.023Z"
   },
   {
    "duration": 36,
    "start_time": "2021-08-19T19:05:44.229Z"
   },
   {
    "duration": 24,
    "start_time": "2021-08-19T19:06:12.951Z"
   },
   {
    "duration": 16,
    "start_time": "2021-08-19T19:07:20.056Z"
   },
   {
    "duration": 17,
    "start_time": "2021-08-19T19:07:25.402Z"
   },
   {
    "duration": 21,
    "start_time": "2021-08-19T19:07:42.471Z"
   },
   {
    "duration": 19,
    "start_time": "2021-08-19T19:08:01.330Z"
   },
   {
    "duration": 10,
    "start_time": "2021-08-19T19:08:11.415Z"
   },
   {
    "duration": 20,
    "start_time": "2021-08-19T19:08:16.707Z"
   },
   {
    "duration": 10419,
    "start_time": "2021-08-19T19:08:30.419Z"
   },
   {
    "duration": 11122,
    "start_time": "2021-08-19T19:09:01.097Z"
   },
   {
    "duration": 589,
    "start_time": "2021-08-19T19:09:11.634Z"
   },
   {
    "duration": 587,
    "start_time": "2021-08-19T19:09:11.638Z"
   },
   {
    "duration": 33,
    "start_time": "2021-08-19T19:09:47.690Z"
   },
   {
    "duration": 364,
    "start_time": "2021-08-19T19:09:48.689Z"
   },
   {
    "duration": 20,
    "start_time": "2021-08-19T19:10:12.769Z"
   },
   {
    "duration": 20,
    "start_time": "2021-08-19T19:10:21.583Z"
   },
   {
    "duration": 16,
    "start_time": "2021-08-19T19:10:40.991Z"
   },
   {
    "duration": 9761,
    "start_time": "2021-08-19T19:10:56.947Z"
   },
   {
    "duration": 607,
    "start_time": "2021-08-19T19:11:06.103Z"
   },
   {
    "duration": 18,
    "start_time": "2021-08-19T19:11:18.659Z"
   },
   {
    "duration": 5,
    "start_time": "2021-08-19T19:11:19.205Z"
   },
   {
    "duration": 1965,
    "start_time": "2021-08-19T19:12:05.375Z"
   },
   {
    "duration": 109,
    "start_time": "2021-08-19T19:12:07.343Z"
   },
   {
    "duration": 9,
    "start_time": "2021-08-19T19:12:07.455Z"
   },
   {
    "duration": 21,
    "start_time": "2021-08-19T19:12:07.466Z"
   },
   {
    "duration": 9,
    "start_time": "2021-08-19T19:12:07.490Z"
   },
   {
    "duration": 66,
    "start_time": "2021-08-19T19:12:07.503Z"
   },
   {
    "duration": 16,
    "start_time": "2021-08-19T19:12:07.571Z"
   },
   {
    "duration": 6,
    "start_time": "2021-08-19T19:12:07.591Z"
   },
   {
    "duration": 66,
    "start_time": "2021-08-19T19:12:07.600Z"
   },
   {
    "duration": 23,
    "start_time": "2021-08-19T19:12:07.669Z"
   },
   {
    "duration": 5,
    "start_time": "2021-08-19T19:12:07.694Z"
   },
   {
    "duration": 20,
    "start_time": "2021-08-19T19:12:07.701Z"
   },
   {
    "duration": 44,
    "start_time": "2021-08-19T19:12:07.756Z"
   },
   {
    "duration": 29,
    "start_time": "2021-08-19T19:12:07.803Z"
   },
   {
    "duration": 10,
    "start_time": "2021-08-19T19:12:07.855Z"
   },
   {
    "duration": 15,
    "start_time": "2021-08-19T19:12:07.867Z"
   },
   {
    "duration": 17,
    "start_time": "2021-08-19T19:12:07.885Z"
   },
   {
    "duration": 75,
    "start_time": "2021-08-19T19:12:07.905Z"
   },
   {
    "duration": 22,
    "start_time": "2021-08-19T19:12:07.982Z"
   },
   {
    "duration": 50,
    "start_time": "2021-08-19T19:12:08.006Z"
   },
   {
    "duration": 28,
    "start_time": "2021-08-19T19:12:08.059Z"
   },
   {
    "duration": 74,
    "start_time": "2021-08-19T19:12:08.089Z"
   },
   {
    "duration": 40,
    "start_time": "2021-08-19T19:12:08.172Z"
   },
   {
    "duration": 42,
    "start_time": "2021-08-19T19:12:08.217Z"
   },
   {
    "duration": 20,
    "start_time": "2021-08-19T19:12:08.262Z"
   },
   {
    "duration": 7,
    "start_time": "2021-08-19T19:12:08.285Z"
   },
   {
    "duration": 78,
    "start_time": "2021-08-19T19:12:08.295Z"
   },
   {
    "duration": 22,
    "start_time": "2021-08-19T19:12:08.376Z"
   },
   {
    "duration": 549,
    "start_time": "2021-08-19T19:12:08.401Z"
   },
   {
    "duration": 358,
    "start_time": "2021-08-19T19:12:08.956Z"
   },
   {
    "duration": 518,
    "start_time": "2021-08-19T19:12:09.316Z"
   },
   {
    "duration": 374,
    "start_time": "2021-08-19T19:12:09.837Z"
   },
   {
    "duration": 16,
    "start_time": "2021-08-19T19:12:10.214Z"
   },
   {
    "duration": 39,
    "start_time": "2021-08-19T19:12:10.232Z"
   },
   {
    "duration": 6,
    "start_time": "2021-08-19T19:12:10.274Z"
   },
   {
    "duration": 298,
    "start_time": "2021-08-19T19:12:10.283Z"
   },
   {
    "duration": 347,
    "start_time": "2021-08-19T19:12:10.583Z"
   },
   {
    "duration": 5,
    "start_time": "2021-08-19T19:12:10.933Z"
   },
   {
    "duration": 342,
    "start_time": "2021-08-19T19:12:10.956Z"
   },
   {
    "duration": 70,
    "start_time": "2021-08-19T19:12:11.301Z"
   },
   {
    "duration": 22,
    "start_time": "2021-08-19T19:12:11.374Z"
   },
   {
    "duration": 59,
    "start_time": "2021-08-19T19:12:11.399Z"
   },
   {
    "duration": 27,
    "start_time": "2021-08-19T19:12:11.460Z"
   },
   {
    "duration": 9,
    "start_time": "2021-08-19T19:12:11.490Z"
   },
   {
    "duration": 13,
    "start_time": "2021-08-19T19:12:11.502Z"
   },
   {
    "duration": 35,
    "start_time": "2021-08-19T19:12:11.556Z"
   },
   {
    "duration": 7,
    "start_time": "2021-08-19T19:12:11.593Z"
   },
   {
    "duration": 53,
    "start_time": "2021-08-19T19:12:11.603Z"
   },
   {
    "duration": 29,
    "start_time": "2021-08-19T19:12:11.659Z"
   },
   {
    "duration": 2,
    "start_time": "2021-08-19T19:12:11.691Z"
   },
   {
    "duration": 7,
    "start_time": "2021-08-19T19:12:11.696Z"
   },
   {
    "duration": 62,
    "start_time": "2021-08-19T19:12:11.706Z"
   },
   {
    "duration": 27,
    "start_time": "2021-08-19T19:12:11.770Z"
   },
   {
    "duration": 10,
    "start_time": "2021-08-19T19:12:11.800Z"
   },
   {
    "duration": 6,
    "start_time": "2021-08-19T19:12:11.813Z"
   },
   {
    "duration": 12,
    "start_time": "2021-08-19T19:12:11.857Z"
   },
   {
    "duration": 19,
    "start_time": "2021-08-19T19:12:11.871Z"
   },
   {
    "duration": 5,
    "start_time": "2021-08-19T19:12:11.893Z"
   },
   {
    "duration": 55,
    "start_time": "2021-08-19T19:12:11.901Z"
   },
   {
    "duration": 15,
    "start_time": "2021-08-19T19:12:11.958Z"
   },
   {
    "duration": 39,
    "start_time": "2021-08-19T19:12:11.975Z"
   },
   {
    "duration": 43,
    "start_time": "2021-08-19T19:12:12.017Z"
   },
   {
    "duration": 12,
    "start_time": "2021-08-19T19:12:12.063Z"
   },
   {
    "duration": 9,
    "start_time": "2021-08-19T19:12:12.078Z"
   },
   {
    "duration": 25,
    "start_time": "2021-08-19T19:12:12.090Z"
   },
   {
    "duration": 53,
    "start_time": "2021-08-19T19:12:12.117Z"
   },
   {
    "duration": 9,
    "start_time": "2021-08-19T19:12:12.173Z"
   },
   {
    "duration": 68,
    "start_time": "2021-08-19T19:12:12.190Z"
   },
   {
    "duration": 18,
    "start_time": "2021-08-19T19:12:12.261Z"
   },
   {
    "duration": 4,
    "start_time": "2021-08-19T19:12:12.282Z"
   },
   {
    "duration": 2608,
    "start_time": "2021-08-19T19:12:12.288Z"
   },
   {
    "duration": 21,
    "start_time": "2021-08-19T19:12:14.899Z"
   },
   {
    "duration": 5,
    "start_time": "2021-08-19T19:12:14.923Z"
   },
   {
    "duration": 5242,
    "start_time": "2021-08-19T19:12:14.931Z"
   },
   {
    "duration": 25,
    "start_time": "2021-08-19T19:12:20.175Z"
   },
   {
    "duration": 62,
    "start_time": "2021-08-19T19:12:20.203Z"
   },
   {
    "duration": 51,
    "start_time": "2021-08-19T19:12:20.267Z"
   },
   {
    "duration": 48,
    "start_time": "2021-08-19T19:12:20.320Z"
   },
   {
    "duration": 6,
    "start_time": "2021-08-19T19:12:20.370Z"
   },
   {
    "duration": 33,
    "start_time": "2021-08-19T19:12:20.379Z"
   },
   {
    "duration": 49,
    "start_time": "2021-08-19T19:12:20.414Z"
   },
   {
    "duration": 17,
    "start_time": "2021-08-19T19:12:20.466Z"
   },
   {
    "duration": 6,
    "start_time": "2021-08-19T19:12:20.486Z"
   },
   {
    "duration": 11,
    "start_time": "2021-08-19T19:12:20.495Z"
   },
   {
    "duration": 100,
    "start_time": "2021-08-19T19:12:20.509Z"
   },
   {
    "duration": 5,
    "start_time": "2021-08-19T19:12:20.611Z"
   },
   {
    "duration": 44,
    "start_time": "2021-08-19T19:12:20.618Z"
   },
   {
    "duration": 20,
    "start_time": "2021-08-19T19:12:20.665Z"
   },
   {
    "duration": 28,
    "start_time": "2021-08-19T19:12:20.687Z"
   },
   {
    "duration": 6,
    "start_time": "2021-08-19T19:12:20.717Z"
   },
   {
    "duration": 39,
    "start_time": "2021-08-19T19:12:20.725Z"
   },
   {
    "duration": 57,
    "start_time": "2021-08-19T19:12:20.767Z"
   },
   {
    "duration": 38,
    "start_time": "2021-08-19T19:12:20.826Z"
   },
   {
    "duration": 1992,
    "start_time": "2021-08-19T19:16:52.115Z"
   },
   {
    "duration": 114,
    "start_time": "2021-08-19T19:16:54.110Z"
   },
   {
    "duration": 10,
    "start_time": "2021-08-19T19:16:54.228Z"
   },
   {
    "duration": 27,
    "start_time": "2021-08-19T19:16:54.241Z"
   },
   {
    "duration": 9,
    "start_time": "2021-08-19T19:16:54.270Z"
   },
   {
    "duration": 25,
    "start_time": "2021-08-19T19:16:54.283Z"
   },
   {
    "duration": 50,
    "start_time": "2021-08-19T19:16:54.311Z"
   },
   {
    "duration": 6,
    "start_time": "2021-08-19T19:16:54.364Z"
   },
   {
    "duration": 35,
    "start_time": "2021-08-19T19:16:54.373Z"
   },
   {
    "duration": 54,
    "start_time": "2021-08-19T19:16:54.411Z"
   },
   {
    "duration": 4,
    "start_time": "2021-08-19T19:16:54.468Z"
   },
   {
    "duration": 29,
    "start_time": "2021-08-19T19:16:54.475Z"
   },
   {
    "duration": 60,
    "start_time": "2021-08-19T19:16:54.506Z"
   },
   {
    "duration": 29,
    "start_time": "2021-08-19T19:16:54.568Z"
   },
   {
    "duration": 10,
    "start_time": "2021-08-19T19:16:54.599Z"
   },
   {
    "duration": 28,
    "start_time": "2021-08-19T19:16:54.611Z"
   },
   {
    "duration": 31,
    "start_time": "2021-08-19T19:16:54.641Z"
   },
   {
    "duration": 46,
    "start_time": "2021-08-19T19:16:54.675Z"
   },
   {
    "duration": 43,
    "start_time": "2021-08-19T19:16:54.723Z"
   },
   {
    "duration": 18,
    "start_time": "2021-08-19T19:16:54.769Z"
   },
   {
    "duration": 31,
    "start_time": "2021-08-19T19:16:54.790Z"
   },
   {
    "duration": 70,
    "start_time": "2021-08-19T19:16:54.823Z"
   },
   {
    "duration": 29,
    "start_time": "2021-08-19T19:16:54.899Z"
   },
   {
    "duration": 11,
    "start_time": "2021-08-19T19:16:54.956Z"
   },
   {
    "duration": 28,
    "start_time": "2021-08-19T19:16:54.969Z"
   },
   {
    "duration": 4,
    "start_time": "2021-08-19T19:16:55.000Z"
   },
   {
    "duration": 62,
    "start_time": "2021-08-19T19:16:55.007Z"
   },
   {
    "duration": 24,
    "start_time": "2021-08-19T19:16:55.071Z"
   },
   {
    "duration": 557,
    "start_time": "2021-08-19T19:16:55.097Z"
   },
   {
    "duration": 375,
    "start_time": "2021-08-19T19:16:55.656Z"
   },
   {
    "duration": 523,
    "start_time": "2021-08-19T19:16:56.033Z"
   },
   {
    "duration": 386,
    "start_time": "2021-08-19T19:16:56.558Z"
   },
   {
    "duration": 26,
    "start_time": "2021-08-19T19:16:56.947Z"
   },
   {
    "duration": 19,
    "start_time": "2021-08-19T19:16:56.975Z"
   },
   {
    "duration": 7,
    "start_time": "2021-08-19T19:16:56.996Z"
   },
   {
    "duration": 294,
    "start_time": "2021-08-19T19:16:57.056Z"
   },
   {
    "duration": 285,
    "start_time": "2021-08-19T19:16:57.352Z"
   },
   {
    "duration": 18,
    "start_time": "2021-08-19T19:16:57.640Z"
   },
   {
    "duration": 368,
    "start_time": "2021-08-19T19:16:57.661Z"
   },
   {
    "duration": 70,
    "start_time": "2021-08-19T19:16:58.033Z"
   },
   {
    "duration": 24,
    "start_time": "2021-08-19T19:16:58.105Z"
   },
   {
    "duration": 33,
    "start_time": "2021-08-19T19:16:58.157Z"
   },
   {
    "duration": 64,
    "start_time": "2021-08-19T19:16:58.193Z"
   },
   {
    "duration": 11,
    "start_time": "2021-08-19T19:16:58.259Z"
   },
   {
    "duration": 22,
    "start_time": "2021-08-19T19:16:58.272Z"
   },
   {
    "duration": 61,
    "start_time": "2021-08-19T19:16:58.296Z"
   },
   {
    "duration": 7,
    "start_time": "2021-08-19T19:16:58.359Z"
   },
   {
    "duration": 26,
    "start_time": "2021-08-19T19:16:58.369Z"
   },
   {
    "duration": 39,
    "start_time": "2021-08-19T19:16:58.397Z"
   },
   {
    "duration": 3,
    "start_time": "2021-08-19T19:16:58.438Z"
   },
   {
    "duration": 27,
    "start_time": "2021-08-19T19:16:58.443Z"
   },
   {
    "duration": 40,
    "start_time": "2021-08-19T19:16:58.472Z"
   },
   {
    "duration": 36,
    "start_time": "2021-08-19T19:16:58.515Z"
   },
   {
    "duration": 10,
    "start_time": "2021-08-19T19:16:58.554Z"
   },
   {
    "duration": 15,
    "start_time": "2021-08-19T19:16:58.567Z"
   },
   {
    "duration": 40,
    "start_time": "2021-08-19T19:16:58.584Z"
   },
   {
    "duration": 31,
    "start_time": "2021-08-19T19:16:58.627Z"
   },
   {
    "duration": 13,
    "start_time": "2021-08-19T19:16:58.661Z"
   },
   {
    "duration": 17,
    "start_time": "2021-08-19T19:16:58.676Z"
   },
   {
    "duration": 26,
    "start_time": "2021-08-19T19:16:58.695Z"
   },
   {
    "duration": 57,
    "start_time": "2021-08-19T19:16:58.723Z"
   },
   {
    "duration": 14,
    "start_time": "2021-08-19T19:16:58.782Z"
   },
   {
    "duration": 16,
    "start_time": "2021-08-19T19:16:58.798Z"
   },
   {
    "duration": 13,
    "start_time": "2021-08-19T19:16:58.816Z"
   },
   {
    "duration": 19,
    "start_time": "2021-08-19T19:16:58.857Z"
   },
   {
    "duration": 20,
    "start_time": "2021-08-19T19:16:58.879Z"
   },
   {
    "duration": 54,
    "start_time": "2021-08-19T19:16:58.902Z"
   },
   {
    "duration": 33,
    "start_time": "2021-08-19T19:16:58.966Z"
   },
   {
    "duration": 20,
    "start_time": "2021-08-19T19:16:59.003Z"
   },
   {
    "duration": 32,
    "start_time": "2021-08-19T19:16:59.026Z"
   },
   {
    "duration": 2487,
    "start_time": "2021-08-19T19:16:59.062Z"
   },
   {
    "duration": 30,
    "start_time": "2021-08-19T19:17:01.552Z"
   },
   {
    "duration": 83,
    "start_time": "2021-08-19T19:17:01.585Z"
   },
   {
    "duration": 5337,
    "start_time": "2021-08-19T19:17:01.670Z"
   },
   {
    "duration": 25,
    "start_time": "2021-08-19T19:17:07.009Z"
   },
   {
    "duration": 48,
    "start_time": "2021-08-19T19:17:07.036Z"
   },
   {
    "duration": 72,
    "start_time": "2021-08-19T19:17:07.087Z"
   },
   {
    "duration": 20,
    "start_time": "2021-08-19T19:17:07.162Z"
   },
   {
    "duration": 5,
    "start_time": "2021-08-19T19:17:07.185Z"
   },
   {
    "duration": 67,
    "start_time": "2021-08-19T19:17:07.192Z"
   },
   {
    "duration": 11,
    "start_time": "2021-08-19T19:17:07.261Z"
   },
   {
    "duration": 14,
    "start_time": "2021-08-19T19:17:07.275Z"
   },
   {
    "duration": 4,
    "start_time": "2021-08-19T19:17:07.292Z"
   },
   {
    "duration": 11,
    "start_time": "2021-08-19T19:17:07.298Z"
   },
   {
    "duration": 98,
    "start_time": "2021-08-19T19:17:07.311Z"
   },
   {
    "duration": 4,
    "start_time": "2021-08-19T19:17:07.412Z"
   },
   {
    "duration": 39,
    "start_time": "2021-08-19T19:17:07.419Z"
   },
   {
    "duration": 13,
    "start_time": "2021-08-19T19:17:07.460Z"
   },
   {
    "duration": 20,
    "start_time": "2021-08-19T19:17:07.475Z"
   },
   {
    "duration": 3,
    "start_time": "2021-08-19T19:17:07.498Z"
   },
   {
    "duration": 54,
    "start_time": "2021-08-19T19:17:07.504Z"
   },
   {
    "duration": 61,
    "start_time": "2021-08-19T19:17:07.560Z"
   },
   {
    "duration": 40,
    "start_time": "2021-08-19T19:17:07.624Z"
   },
   {
    "duration": 175,
    "start_time": "2021-08-21T06:05:14.942Z"
   },
   {
    "duration": 443,
    "start_time": "2021-08-21T06:05:20.805Z"
   },
   {
    "duration": 2121,
    "start_time": "2021-08-21T06:05:31.650Z"
   },
   {
    "duration": 111,
    "start_time": "2021-08-21T06:05:33.774Z"
   },
   {
    "duration": 10,
    "start_time": "2021-08-21T06:05:33.889Z"
   },
   {
    "duration": 20,
    "start_time": "2021-08-21T06:05:33.902Z"
   },
   {
    "duration": 10,
    "start_time": "2021-08-21T06:05:33.926Z"
   },
   {
    "duration": 56,
    "start_time": "2021-08-21T06:05:33.939Z"
   },
   {
    "duration": 19,
    "start_time": "2021-08-21T06:05:33.998Z"
   },
   {
    "duration": 12,
    "start_time": "2021-08-21T06:05:34.019Z"
   },
   {
    "duration": 56,
    "start_time": "2021-08-21T06:05:34.035Z"
   },
   {
    "duration": 24,
    "start_time": "2021-08-21T06:05:34.094Z"
   },
   {
    "duration": 5,
    "start_time": "2021-08-21T06:05:34.120Z"
   },
   {
    "duration": 29,
    "start_time": "2021-08-21T06:05:34.128Z"
   },
   {
    "duration": 59,
    "start_time": "2021-08-21T06:05:34.159Z"
   },
   {
    "duration": 29,
    "start_time": "2021-08-21T06:05:34.220Z"
   },
   {
    "duration": 33,
    "start_time": "2021-08-21T06:05:34.252Z"
   },
   {
    "duration": 17,
    "start_time": "2021-08-21T06:05:34.288Z"
   },
   {
    "duration": 21,
    "start_time": "2021-08-21T06:05:34.308Z"
   },
   {
    "duration": 68,
    "start_time": "2021-08-21T06:05:34.331Z"
   },
   {
    "duration": 24,
    "start_time": "2021-08-21T06:05:34.401Z"
   },
   {
    "duration": 18,
    "start_time": "2021-08-21T06:05:34.427Z"
   },
   {
    "duration": 54,
    "start_time": "2021-08-21T06:05:34.448Z"
   },
   {
    "duration": 41,
    "start_time": "2021-08-21T06:05:34.505Z"
   },
   {
    "duration": 56,
    "start_time": "2021-08-21T06:05:34.549Z"
   },
   {
    "duration": 10,
    "start_time": "2021-08-21T06:05:34.607Z"
   },
   {
    "duration": 16,
    "start_time": "2021-08-21T06:05:34.620Z"
   },
   {
    "duration": 5,
    "start_time": "2021-08-21T06:05:34.638Z"
   },
   {
    "duration": 22,
    "start_time": "2021-08-21T06:05:34.687Z"
   },
   {
    "duration": 23,
    "start_time": "2021-08-21T06:05:34.714Z"
   },
   {
    "duration": 552,
    "start_time": "2021-08-21T06:05:34.739Z"
   },
   {
    "duration": 364,
    "start_time": "2021-08-21T06:05:35.294Z"
   },
   {
    "duration": 525,
    "start_time": "2021-08-21T06:05:35.660Z"
   },
   {
    "duration": 374,
    "start_time": "2021-08-21T06:05:36.188Z"
   },
   {
    "duration": 29,
    "start_time": "2021-08-21T06:05:36.564Z"
   },
   {
    "duration": 20,
    "start_time": "2021-08-21T06:05:36.596Z"
   },
   {
    "duration": 9,
    "start_time": "2021-08-21T06:05:36.619Z"
   },
   {
    "duration": 310,
    "start_time": "2021-08-21T06:05:36.631Z"
   },
   {
    "duration": 271,
    "start_time": "2021-08-21T06:05:36.944Z"
   },
   {
    "duration": 6,
    "start_time": "2021-08-21T06:05:37.218Z"
   },
   {
    "duration": 482,
    "start_time": "2021-08-21T06:05:37.227Z"
   },
   {
    "duration": 105,
    "start_time": "2021-08-21T06:05:37.711Z"
   },
   {
    "duration": 75,
    "start_time": "2021-08-21T06:05:37.818Z"
   },
   {
    "duration": 30,
    "start_time": "2021-08-21T06:05:37.895Z"
   },
   {
    "duration": 79,
    "start_time": "2021-08-21T06:05:37.927Z"
   },
   {
    "duration": 10,
    "start_time": "2021-08-21T06:05:38.008Z"
   },
   {
    "duration": 68,
    "start_time": "2021-08-21T06:05:38.020Z"
   },
   {
    "duration": 35,
    "start_time": "2021-08-21T06:05:38.091Z"
   },
   {
    "duration": 59,
    "start_time": "2021-08-21T06:05:38.128Z"
   },
   {
    "duration": 13,
    "start_time": "2021-08-21T06:05:38.189Z"
   },
   {
    "duration": 81,
    "start_time": "2021-08-21T06:05:38.204Z"
   },
   {
    "duration": 3,
    "start_time": "2021-08-21T06:05:38.288Z"
   },
   {
    "duration": 6,
    "start_time": "2021-08-21T06:05:38.293Z"
   },
   {
    "duration": 25,
    "start_time": "2021-08-21T06:05:38.302Z"
   },
   {
    "duration": 65,
    "start_time": "2021-08-21T06:05:38.329Z"
   },
   {
    "duration": 11,
    "start_time": "2021-08-21T06:05:38.396Z"
   },
   {
    "duration": 15,
    "start_time": "2021-08-21T06:05:38.409Z"
   },
   {
    "duration": 15,
    "start_time": "2021-08-21T06:05:38.427Z"
   },
   {
    "duration": 42,
    "start_time": "2021-08-21T06:05:38.445Z"
   },
   {
    "duration": 6,
    "start_time": "2021-08-21T06:05:38.490Z"
   },
   {
    "duration": 16,
    "start_time": "2021-08-21T06:05:38.498Z"
   },
   {
    "duration": 16,
    "start_time": "2021-08-21T06:05:38.517Z"
   },
   {
    "duration": 74,
    "start_time": "2021-08-21T06:05:38.535Z"
   },
   {
    "duration": 14,
    "start_time": "2021-08-21T06:05:38.612Z"
   },
   {
    "duration": 12,
    "start_time": "2021-08-21T06:05:38.629Z"
   },
   {
    "duration": 12,
    "start_time": "2021-08-21T06:05:38.644Z"
   },
   {
    "duration": 6,
    "start_time": "2021-08-21T06:05:38.686Z"
   },
   {
    "duration": 26,
    "start_time": "2021-08-21T06:05:38.694Z"
   },
   {
    "duration": 19,
    "start_time": "2021-08-21T06:05:38.723Z"
   },
   {
    "duration": 9,
    "start_time": "2021-08-21T06:05:38.745Z"
   },
   {
    "duration": 32,
    "start_time": "2021-08-21T06:05:38.786Z"
   },
   {
    "duration": 19,
    "start_time": "2021-08-21T06:05:38.821Z"
   },
   {
    "duration": 5,
    "start_time": "2021-08-21T06:05:38.843Z"
   },
   {
    "duration": 2535,
    "start_time": "2021-08-21T06:05:38.850Z"
   },
   {
    "duration": 22,
    "start_time": "2021-08-21T06:05:41.388Z"
   },
   {
    "duration": 5,
    "start_time": "2021-08-21T06:05:41.413Z"
   },
   {
    "duration": 5250,
    "start_time": "2021-08-21T06:05:41.420Z"
   },
   {
    "duration": 29,
    "start_time": "2021-08-21T06:05:46.673Z"
   },
   {
    "duration": 33,
    "start_time": "2021-08-21T06:05:46.704Z"
   },
   {
    "duration": 79,
    "start_time": "2021-08-21T06:05:46.739Z"
   },
   {
    "duration": 19,
    "start_time": "2021-08-21T06:05:46.820Z"
   },
   {
    "duration": 6,
    "start_time": "2021-08-21T06:05:46.841Z"
   },
   {
    "duration": 53,
    "start_time": "2021-08-21T06:05:46.855Z"
   },
   {
    "duration": 11,
    "start_time": "2021-08-21T06:05:46.911Z"
   },
   {
    "duration": 15,
    "start_time": "2021-08-21T06:05:46.924Z"
   },
   {
    "duration": 4,
    "start_time": "2021-08-21T06:05:46.941Z"
   },
   {
    "duration": 38,
    "start_time": "2021-08-21T06:05:46.947Z"
   },
   {
    "duration": 69,
    "start_time": "2021-08-21T06:05:46.988Z"
   },
   {
    "duration": 5,
    "start_time": "2021-08-21T06:05:47.059Z"
   },
   {
    "duration": 27,
    "start_time": "2021-08-21T06:05:47.067Z"
   },
   {
    "duration": 13,
    "start_time": "2021-08-21T06:05:47.097Z"
   },
   {
    "duration": 21,
    "start_time": "2021-08-21T06:05:47.113Z"
   },
   {
    "duration": 4,
    "start_time": "2021-08-21T06:05:47.137Z"
   },
   {
    "duration": 57,
    "start_time": "2021-08-21T06:05:47.143Z"
   },
   {
    "duration": 54,
    "start_time": "2021-08-21T06:05:47.202Z"
   },
   {
    "duration": 33,
    "start_time": "2021-08-21T06:05:47.258Z"
   }
  ],
  "celltoolbar": "Необработанный формат ячейки",
  "kernelspec": {
   "display_name": "Python 3",
   "language": "python",
   "name": "python3"
  },
  "language_info": {
   "codemirror_mode": {
    "name": "ipython",
    "version": 3
   },
   "file_extension": ".py",
   "mimetype": "text/x-python",
   "name": "python",
   "nbconvert_exporter": "python",
   "pygments_lexer": "ipython3",
   "version": "3.7.8"
  },
  "toc": {
   "base_numbering": 1,
   "nav_menu": {},
   "number_sections": true,
   "sideBar": true,
   "skip_h1_title": true,
   "title_cell": "Содержание",
   "title_sidebar": "Contents",
   "toc_cell": true,
   "toc_position": {
    "height": "calc(100% - 180px)",
    "left": "10px",
    "top": "150px",
    "width": "290px"
   },
   "toc_section_display": true,
   "toc_window_display": true
  }
 },
 "nbformat": 4,
 "nbformat_minor": 5
}
